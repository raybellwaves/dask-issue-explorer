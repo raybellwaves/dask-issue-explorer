{
 "cells": [
  {
   "cell_type": "code",
   "execution_count": 5,
   "metadata": {},
   "outputs": [],
   "source": [
    "org: str = \"dask\"\n",
    "repo: str = \"dask\"\n",
    "\n",
    "import os\n",
    "import requests\n",
    "import json\n",
    "\n",
    "from tqdm.auto import tqdm\n",
    "\n",
    "output_folder = f\"{repo}_issues\"\n",
    "os.makedirs(output_folder, exist_ok=True)\n",
    "\n"
   ]
  },
  {
   "cell_type": "code",
   "execution_count": 7,
   "metadata": {},
   "outputs": [],
   "source": [
    "issues_url = (\n",
    "    f\"https://api.github.com/repos/{org}/{repo}/issues?state=open&per_page=100&page=1\"\n",
    ")"
   ]
  },
  {
   "cell_type": "code",
   "execution_count": 8,
   "metadata": {},
   "outputs": [],
   "source": [
    "response = requests.get(issues_url, headers=headers)\n",
    "issues = response.json()"
   ]
  },
  {
   "cell_type": "code",
   "execution_count": 10,
   "metadata": {},
   "outputs": [
    {
     "data": {
      "text/plain": [
       "11160"
      ]
     },
     "execution_count": 10,
     "metadata": {},
     "output_type": "execute_result"
    }
   ],
   "source": [
    "issues[0][\"number\"]"
   ]
  },
  {
   "cell_type": "code",
   "execution_count": 11,
   "metadata": {},
   "outputs": [],
   "source": [
    "issues_url = (\n",
    "    f\"https://api.github.com/repos/{org}/{repo}/issues?state=open&per_page=100&page=2\"\n",
    ")"
   ]
  },
  {
   "cell_type": "code",
   "execution_count": 12,
   "metadata": {},
   "outputs": [],
   "source": [
    "response = requests.get(issues_url, headers=headers)\n",
    "issues = response.json()"
   ]
  },
  {
   "cell_type": "code",
   "execution_count": 13,
   "metadata": {},
   "outputs": [
    {
     "data": {
      "text/plain": [
       "10631"
      ]
     },
     "execution_count": 13,
     "metadata": {},
     "output_type": "execute_result"
    }
   ],
   "source": [
    "issues[0][\"number\"]"
   ]
  },
  {
   "cell_type": "code",
   "execution_count": 14,
   "metadata": {},
   "outputs": [],
   "source": [
    "    import json\n",
    "    import os\n",
    "    import pandas as pd"
   ]
  },
  {
   "cell_type": "code",
   "execution_count": 15,
   "metadata": {},
   "outputs": [],
   "source": [
    "json_files = []"
   ]
  },
  {
   "cell_type": "code",
   "execution_count": 16,
   "metadata": {},
   "outputs": [],
   "source": [
    "repo: str = \"dask\""
   ]
  },
  {
   "cell_type": "code",
   "execution_count": 17,
   "metadata": {},
   "outputs": [
    {
     "data": {
      "text/plain": [
       "['issue_detail_09694.json',\n",
       " 'issue_detail_02488.json',\n",
       " 'issue_detail_09381.json',\n",
       " 'issue_detail_04360.json',\n",
       " 'issue_detail_05822.json',\n",
       " 'issue_detail_09417.json',\n",
       " 'issue_detail_09047.json',\n",
       " 'issue_detail_08656.json',\n",
       " 'issue_detail_06865.json',\n",
       " 'issue_detail_08528.json',\n",
       " 'issue_detail_10548.json',\n",
       " 'issue_detail_09293.json',\n",
       " 'issue_detail_09769.json',\n",
       " 'issue_detail_03734.json',\n",
       " 'issue_detail_03671.json',\n",
       " 'issue_detail_09155.json',\n",
       " 'issue_detail_10374.json',\n",
       " 'issue_detail_09856.json',\n",
       " 'issue_detail_09913.json',\n",
       " 'issue_detail_11070.json',\n",
       " 'issue_detail_05199.json',\n",
       " 'issue_detail_09440.json',\n",
       " 'issue_detail_06520.json',\n",
       " 'issue_detail_03688.json',\n",
       " 'issue_detail_05160.json',\n",
       " 'issue_detail_10677.json',\n",
       " 'issue_detail_08247.json',\n",
       " 'issue_detail_06127.json',\n",
       " 'issue_detail_03630.json',\n",
       " 'issue_detail_07673.json',\n",
       " 'issue_detail_05834.json',\n",
       " 'issue_detail_08355.json',\n",
       " 'issue_detail_10270.json',\n",
       " 'issue_detail_09051.json',\n",
       " 'issue_detail_09401.json',\n",
       " 'issue_detail_02959.json',\n",
       " 'issue_detail_10067.json',\n",
       " 'issue_detail_05320.json',\n",
       " 'issue_detail_10572.json',\n",
       " 'issue_detail_09303.json',\n",
       " 'issue_detail_09883.json',\n",
       " 'issue_detail_06275.json',\n",
       " 'issue_detail_10933.json',\n",
       " 'issue_detail_10899.json',\n",
       " 'issue_detail_09211.json',\n",
       " 'issue_detail_10175.json',\n",
       " 'issue_detail_08816.json',\n",
       " 'issue_detail_10525.json',\n",
       " 'issue_detail_05377.json',\n",
       " 'issue_detail_06388.json',\n",
       " 'issue_detail_06672.json',\n",
       " 'issue_detail_03889.json',\n",
       " 'issue_detail_03535.json',\n",
       " 'issue_detail_06058.json',\n",
       " 'issue_detail_09207.json',\n",
       " 'issue_detail_04966.json',\n",
       " 'issue_detail_07219.json',\n",
       " 'issue_detail_05361.json',\n",
       " 'issue_detail_10533.json',\n",
       " 'issue_detail_09712.json',\n",
       " 'issue_detail_08800.json',\n",
       " 'issue_detail_01288.json',\n",
       " 'issue_detail_08380.json',\n",
       " 'issue_detail_09968.json',\n",
       " 'issue_detail_03523.json',\n",
       " 'issue_detail_07999.json',\n",
       " 'issue_detail_10564.json',\n",
       " 'issue_detail_03431.json',\n",
       " 'issue_detail_03962.json',\n",
       " 'issue_detail_02670.json',\n",
       " 'issue_detail_11119.json',\n",
       " 'issue_detail_07167.json',\n",
       " 'issue_detail_08292.json',\n",
       " 'issue_detail_09529.json',\n",
       " 'issue_detail_05087.json',\n",
       " 'issue_detail_07686.json',\n",
       " 'issue_detail_09732.json',\n",
       " 'issue_detail_09698.json',\n",
       " 'issue_detail_10143.json',\n",
       " 'issue_detail_08965.json',\n",
       " 'issue_detail_09227.json',\n",
       " 'issue_detail_10006.json',\n",
       " 'issue_detail_11093.json',\n",
       " 'issue_detail_06306.json',\n",
       " 'issue_detail_09509.json',\n",
       " 'issue_detail_09159.json',\n",
       " 'issue_detail_03411.json',\n",
       " 'issue_detail_09765.json',\n",
       " 'issue_detail_08877.json',\n",
       " 'issue_detail_04157.json',\n",
       " 'issue_detail_06869.json',\n",
       " 'issue_detail_09620.json',\n",
       " 'issue_detail_03542.json',\n",
       " 'issue_detail_09773.json',\n",
       " 'issue_detail_10417.json',\n",
       " 'issue_detail_09266.json',\n",
       " 'issue_detail_09548.json',\n",
       " 'issue_detail_10339.json',\n",
       " 'issue_detail_09374.json',\n",
       " 'issue_detail_01744.json',\n",
       " 'issue_detail_03329.json',\n",
       " 'issue_detail_06828.json',\n",
       " 'issue_detail_04950.json',\n",
       " 'issue_detail_10010.json',\n",
       " 'issue_detail_09476.json',\n",
       " 'issue_detail_05455.json',\n",
       " 'issue_detail_11046.json',\n",
       " 'issue_detail_09925.json',\n",
       " 'issue_detail_09499.json',\n",
       " 'issue_detail_10084.json',\n",
       " 'issue_detail_06150.json',\n",
       " 'issue_detail_06691.json',\n",
       " 'issue_detail_09837.json',\n",
       " 'issue_detail_10196.json',\n",
       " 'issue_detail_10895.json',\n",
       " 'issue_detail_08549.json',\n",
       " 'issue_detail_09358.json',\n",
       " 'issue_detail_09067.json',\n",
       " 'issue_detail_09964.json',\n",
       " 'issue_detail_05101.json',\n",
       " 'issue_detail_09821.json',\n",
       " 'issue_detail_09088.json',\n",
       " 'issue_detail_02851.json',\n",
       " 'issue_detail_06541.json',\n",
       " 'issue_detail_06812.json',\n",
       " 'issue_detail_09030.json',\n",
       " 'issue_detail_10641.json',\n",
       " 'issue_detail_04252.json',\n",
       " 'issue_detail_09525.json',\n",
       " 'issue_detail_08334.json',\n",
       " 'issue_detail_10587.json',\n",
       " 'issue_detail_10991.json',\n",
       " 'issue_detail_10568.json',\n",
       " 'issue_detail_03714.json',\n",
       " 'issue_detail_03650.json',\n",
       " 'issue_detail_10586.json',\n",
       " 'issue_detail_07613.json',\n",
       " 'issue_detail_06844.json',\n",
       " 'issue_detail_10139.json',\n",
       " 'issue_detail_05012.json',\n",
       " 'issue_detail_08620.json',\n",
       " 'issue_detail_11051.json',\n",
       " 'issue_detail_04253.json',\n",
       " 'issue_detail_06956.json',\n",
       " 'issue_detail_06405.json',\n",
       " 'issue_detail_08948.json',\n",
       " 'issue_detail_10494.json',\n",
       " 'issue_detail_10617.json',\n",
       " 'issue_detail_10302.json',\n",
       " 'issue_detail_09123.json',\n",
       " 'issue_detail_07652.json',\n",
       " 'issue_detail_06805.json',\n",
       " 'issue_detail_09709.json',\n",
       " 'issue_detail_10178.json',\n",
       " 'issue_detail_06385.json',\n",
       " 'issue_detail_09420.json',\n",
       " 'issue_detail_07828.json',\n",
       " 'issue_detail_09565.json',\n",
       " 'issue_detail_11155.json',\n",
       " 'issue_detail_11047.json',\n",
       " 'issue_detail_11102.json',\n",
       " 'issue_detail_08289.json',\n",
       " 'issue_detail_09861.json',\n",
       " 'issue_detail_10713.json',\n",
       " 'issue_detail_09725.json',\n",
       " 'issue_detail_06983.json',\n",
       " 'issue_detail_08421.json',\n",
       " 'issue_detail_04951.json',\n",
       " 'issue_detail_07107.json',\n",
       " 'issue_detail_05993.json',\n",
       " 'issue_detail_03514.json',\n",
       " 'issue_detail_07941.json',\n",
       " 'issue_detail_08499.json',\n",
       " 'issue_detail_10416.json',\n",
       " 'issue_detail_08476.json',\n",
       " 'issue_detail_10945.json',\n",
       " 'issue_detail_07015.json',\n",
       " 'issue_detail_03406.json',\n",
       " 'issue_detail_08876.json',\n",
       " 'issue_detail_03693.json',\n",
       " 'issue_detail_04156.json',\n",
       " 'issue_detail_10545.json',\n",
       " 'issue_detail_10816.json',\n",
       " 'issue_detail_07280.json',\n",
       " 'issue_detail_06868.json',\n",
       " 'issue_detail_04855.json',\n",
       " 'issue_detail_08460.json',\n",
       " 'issue_detail_01991.json',\n",
       " 'issue_detail_09508.json',\n",
       " 'issue_detail_10683.json',\n",
       " 'issue_detail_09158.json',\n",
       " 'issue_detail_10396.json',\n",
       " 'issue_detail_06242.json',\n",
       " 'issue_detail_02201.json',\n",
       " 'issue_detail_10512.json',\n",
       " 'issue_detail_08821.json',\n",
       " 'issue_detail_09363.json',\n",
       " 'issue_detail_02893.json',\n",
       " 'issue_detail_02939.json',\n",
       " 'issue_detail_08437.json',\n",
       " 'issue_detail_05985.json',\n",
       " 'issue_detail_10284.json',\n",
       " 'issue_detail_07957.json',\n",
       " 'issue_detail_09197.json',\n",
       " 'issue_detail_09894.json',\n",
       " 'issue_detail_11118.json',\n",
       " 'issue_detail_08769.json',\n",
       " 'issue_detail_04930.json',\n",
       " 'issue_detail_09601.json',\n",
       " 'issue_detail_10836.json',\n",
       " 'issue_detail_09969.json',\n",
       " 'issue_detail_09590.json',\n",
       " 'issue_detail_07977.json',\n",
       " 'issue_detail_09085.json',\n",
       " 'issue_detail_02299.json',\n",
       " 'issue_detail_09656.json',\n",
       " 'issue_detail_07218.json',\n",
       " 'issue_detail_09713.json',\n",
       " 'issue_detail_06673.json',\n",
       " 'issue_detail_09586.json',\n",
       " 'issue_detail_09093.json',\n",
       " 'issue_detail_00898.json',\n",
       " 'issue_detail_09355.json',\n",
       " 'issue_detail_10174.json',\n",
       " 'issue_detail_09705.json',\n",
       " 'issue_detail_02149.json',\n",
       " 'issue_detail_09882.json',\n",
       " 'issue_detail_06018.json',\n",
       " 'issue_detail_06448.json',\n",
       " 'issue_detail_08143.json',\n",
       " 'issue_detail_05321.json',\n",
       " 'issue_detail_10573.json',\n",
       " 'issue_detail_09400.json',\n",
       " 'issue_detail_10508.json',\n",
       " 'issue_detail_09729.json',\n",
       " 'issue_detail_10158.json',\n",
       " 'issue_detail_09379.json',\n",
       " 'issue_detail_02923.json',\n",
       " 'issue_detail_11122.json',\n",
       " 'issue_detail_01821.json',\n",
       " 'issue_detail_10733.json',\n",
       " 'issue_detail_09512.json',\n",
       " 'issue_detail_09007.json',\n",
       " 'issue_detail_04635.json',\n",
       " 'issue_detail_11067.json',\n",
       " 'issue_detail_08616.json',\n",
       " 'issue_detail_10949.json',\n",
       " 'issue_detail_09791.json',\n",
       " 'issue_detail_10375.json',\n",
       " 'issue_detail_09857.json',\n",
       " 'issue_detail_05198.json',\n",
       " 'issue_detail_09292.json',\n",
       " 'issue_detail_10119.json',\n",
       " 'issue_detail_06537.json',\n",
       " 'issue_detail_02431.json',\n",
       " 'issue_detail_08196.json',\n",
       " 'issue_detail_09800.json',\n",
       " 'issue_detail_05823.json',\n",
       " 'issue_detail_09416.json',\n",
       " 'issue_detail_06219.json',\n",
       " 'issue_detail_06649.json',\n",
       " 'issue_detail_11026.json',\n",
       " 'issue_detail_08084.json',\n",
       " 'issue_detail_07371.json',\n",
       " 'issue_detail_06833.json',\n",
       " 'issue_detail_09380.json',\n",
       " 'issue_detail_03277.json',\n",
       " 'issue_detail_09558.json',\n",
       " 'issue_detail_07950.json',\n",
       " 'issue_detail_03913.json',\n",
       " 'issue_detail_05652.json',\n",
       " 'issue_detail_05202.json',\n",
       " 'issue_detail_08430.json',\n",
       " 'issue_detail_11095.json',\n",
       " 'issue_detail_07141.json',\n",
       " 'issue_detail_10811.json',\n",
       " 'issue_detail_08172.json',\n",
       " 'issue_detail_01353.json',\n",
       " 'issue_detail_09763.json',\n",
       " 'issue_detail_10057.json',\n",
       " 'issue_detail_08934.json',\n",
       " 'issue_detail_08308.json',\n",
       " 'issue_detail_10368.json',\n",
       " 'issue_detail_06746.json',\n",
       " 'issue_detail_06316.json',\n",
       " 'issue_detail_07911.json',\n",
       " 'issue_detail_10387.json',\n",
       " 'issue_detail_03682.json',\n",
       " 'issue_detail_10554.json',\n",
       " 'issue_detail_05756.json',\n",
       " 'issue_detail_08922.json',\n",
       " 'issue_detail_06341.json',\n",
       " 'issue_detail_05097.json',\n",
       " 'issue_detail_07550.json',\n",
       " 'issue_detail_09958.json',\n",
       " 'issue_detail_10016.json',\n",
       " 'issue_detail_02882.json',\n",
       " 'issue_detail_06068.json',\n",
       " 'issue_detail_05644.json',\n",
       " 'issue_detail_09923.json',\n",
       " 'issue_detail_03587.json',\n",
       " 'issue_detail_09470.json',\n",
       " 'issue_detail_09020.json',\n",
       " 'issue_detail_09866.json',\n",
       " 'issue_detail_03641.json',\n",
       " 'issue_detail_04184.json',\n",
       " 'issue_detail_06910.json',\n",
       " 'issue_detail_06506.json',\n",
       " 'issue_detail_05957.json',\n",
       " 'issue_detail_09427.json',\n",
       " 'issue_detail_06228.json',\n",
       " 'issue_detail_10606.json',\n",
       " 'issue_detail_09974.json',\n",
       " 'issue_detail_03929.json',\n",
       " 'issue_detail_11017.json',\n",
       " 'issue_detail_07086.json',\n",
       " 'issue_detail_07655.json',\n",
       " 'issue_detail_10893.json',\n",
       " 'issue_detail_08959.json',\n",
       " 'issue_detail_03753.json',\n",
       " 'issue_detail_05412.json',\n",
       " 'issue_detail_09574.json',\n",
       " 'issue_detail_02292.json',\n",
       " 'issue_detail_02912.json',\n",
       " 'issue_detail_03250.json',\n",
       " 'issue_detail_05691.json',\n",
       " 'issue_detail_09718.json',\n",
       " 'issue_detail_10217.json',\n",
       " 'issue_detail_10647.json',\n",
       " 'issue_detail_09935.json',\n",
       " 'issue_detail_03987.json',\n",
       " 'issue_detail_11113.json',\n",
       " 'issue_detail_09523.json',\n",
       " 'issue_detail_08918.json',\n",
       " 'issue_detail_03657.json',\n",
       " 'issue_detail_06843.json',\n",
       " 'issue_detail_02103.json',\n",
       " 'issue_detail_08579.json',\n",
       " 'issue_detail_08980.json',\n",
       " 'issue_detail_09368.json',\n",
       " 'issue_detail_09387.json',\n",
       " 'issue_detail_07399.json',\n",
       " 'issue_detail_10325.json',\n",
       " 'issue_detail_05127.json',\n",
       " 'issue_detail_11021.json',\n",
       " 'issue_detail_05432.json',\n",
       " 'issue_detail_09942.json',\n",
       " 'issue_detail_04389.json',\n",
       " 'issue_detail_05259.json',\n",
       " 'issue_detail_09780.json',\n",
       " 'issue_detail_09850.json',\n",
       " 'issue_detail_10722.json',\n",
       " 'issue_detail_10237.json',\n",
       " 'issue_detail_09915.json',\n",
       " 'issue_detail_11076.json',\n",
       " 'issue_detail_07767.json',\n",
       " 'issue_detail_10558.json',\n",
       " 'issue_detail_07788.json',\n",
       " 'issue_detail_07622.json',\n",
       " 'issue_detail_09515.json',\n",
       " 'issue_detail_05865.json',\n",
       " 'issue_detail_09846.json',\n",
       " 'issue_detail_09450.json',\n",
       " 'issue_detail_06822.json',\n",
       " 'issue_detail_02498.json',\n",
       " 'issue_detail_08353.json',\n",
       " 'issue_detail_10276.json',\n",
       " 'issue_detail_09407.json',\n",
       " 'issue_detail_10626.json',\n",
       " 'issue_detail_09954.json',\n",
       " 'issue_detail_08216.json',\n",
       " 'issue_detail_05633.json',\n",
       " 'issue_detail_08001.json',\n",
       " 'issue_detail_05263.json',\n",
       " 'issue_detail_10962.json',\n",
       " 'issue_detail_08451.json',\n",
       " 'issue_detail_10431.json',\n",
       " 'issue_detail_10061.json',\n",
       " 'issue_detail_09305.json',\n",
       " 'issue_detail_09539.json',\n",
       " 'issue_detail_10466.json',\n",
       " 'issue_detail_09702.json',\n",
       " 'issue_detail_05408.json',\n",
       " 'issue_detail_09581.json',\n",
       " 'issue_detail_10923.json',\n",
       " 'issue_detail_10020.json',\n",
       " 'issue_detail_09714.json',\n",
       " 'issue_detail_09256.json',\n",
       " 'issue_detail_10077.json',\n",
       " 'issue_detail_08447.json',\n",
       " 'issue_detail_08152.json',\n",
       " 'issue_detail_10132.json',\n",
       " 'issue_detail_06635.json',\n",
       " 'issue_detail_03437.json',\n",
       " 'issue_detail_08294.json',\n",
       " 'issue_detail_07926.json',\n",
       " 'issue_detail_08153.json',\n",
       " 'issue_detail_04170.json',\n",
       " 'issue_detail_07971.json',\n",
       " 'issue_detail_02620.json',\n",
       " 'issue_detail_07137.json',\n",
       " 'issue_detail_11149.json',\n",
       " 'issue_detail_05809.json',\n",
       " 'issue_detail_01519.json',\n",
       " 'issue_detail_09129.json',\n",
       " 'issue_detail_00922.json',\n",
       " 'issue_detail_10534.json',\n",
       " 'issue_detail_05059.json',\n",
       " 'issue_detail_03162.json',\n",
       " 'issue_detail_09996.json',\n",
       " 'issue_detail_09216.json',\n",
       " 'issue_detail_06419.json',\n",
       " 'issue_detail_10467.json',\n",
       " 'issue_detail_10934.json',\n",
       " 'issue_detail_07208.json',\n",
       " 'issue_detail_10522.json',\n",
       " 'issue_detail_07930.json',\n",
       " 'issue_detail_06272.json',\n",
       " 'issue_detail_09187.json',\n",
       " 'issue_detail_03973.json',\n",
       " 'issue_detail_07176.json',\n",
       " 'issue_detail_03135.json',\n",
       " 'issue_detail_10430.json',\n",
       " 'issue_detail_09611.json',\n",
       " 'issue_detail_10060.json',\n",
       " 'issue_detail_10826.json',\n",
       " 'issue_detail_10298.json',\n",
       " 'issue_detail_09056.json',\n",
       " 'issue_detail_10277.json',\n",
       " 'issue_detail_06659.json',\n",
       " 'issue_detail_08581.json',\n",
       " 'issue_detail_07859.json',\n",
       " 'issue_detail_11124.json',\n",
       " 'issue_detail_09847.json',\n",
       " 'issue_detail_09902.json',\n",
       " 'issue_detail_04849.json',\n",
       " 'issue_detail_09778.json',\n",
       " 'issue_detail_07789.json',\n",
       " 'issue_detail_09502.json',\n",
       " 'issue_detail_04275.json',\n",
       " 'issue_detail_06248.json',\n",
       " 'issue_detail_09914.json',\n",
       " 'issue_detail_07459.json',\n",
       " 'issue_detail_11077.json',\n",
       " 'issue_detail_09294.json',\n",
       " 'issue_detail_06161.json',\n",
       " 'issue_detail_03699.json',\n",
       " 'issue_detail_06474.json',\n",
       " 'issue_detail_04449.json',\n",
       " 'issue_detail_09105.json',\n",
       " 'issue_detail_10324.json',\n",
       " 'issue_detail_10631.json',\n",
       " 'issue_detail_07377.json',\n",
       " 'issue_detail_07727.json',\n",
       " 'issue_detail_06835.json',\n",
       " 'issue_detail_06566.json',\n",
       " 'issue_detail_10518.json',\n",
       " 'issue_detail_02933.json',\n",
       " 'issue_detail_05278.json',\n",
       " 'issue_detail_06511.json',\n",
       " 'issue_detail_09467.json',\n",
       " 'issue_detail_03590.json',\n",
       " 'issue_detail_09934.json',\n",
       " 'issue_detail_04310.json',\n",
       " 'issue_detail_10703.json',\n",
       " 'issue_detail_09522.json',\n",
       " 'issue_detail_02913.json',\n",
       " 'issue_detail_10538.json',\n",
       " 'issue_detail_02456.json',\n",
       " 'issue_detail_08958.json',\n",
       " 'issue_detail_03247.json',\n",
       " 'issue_detail_03302.json',\n",
       " 'issue_detail_02840.json',\n",
       " 'issue_detail_06550.json',\n",
       " 'issue_detail_05686.json',\n",
       " 'issue_detail_09076.json',\n",
       " 'issue_detail_10607.json',\n",
       " 'issue_detail_05110.json',\n",
       " 'issue_detail_11153.json',\n",
       " 'issue_detail_05540.json',\n",
       " 'issue_detail_10742.json',\n",
       " 'issue_detail_06012.json',\n",
       " 'issue_detail_05794.json',\n",
       " 'issue_detail_04869.json',\n",
       " 'issue_detail_10980.json',\n",
       " 'issue_detail_05281.json',\n",
       " 'issue_detail_10083.json',\n",
       " 'issue_detail_03355.json',\n",
       " 'issue_detail_09888.json',\n",
       " 'issue_detail_05452.json',\n",
       " 'issue_detail_09471.json',\n",
       " 'issue_detail_09021.json',\n",
       " 'issue_detail_09164.json',\n",
       " 'issue_detail_02682.json',\n",
       " 'issue_detail_09373.json',\n",
       " 'issue_detail_09236.json',\n",
       " 'issue_detail_09666.json',\n",
       " 'issue_detail_02883.json',\n",
       " 'issue_detail_10555.json',\n",
       " 'issue_detail_02991.json',\n",
       " 'issue_detail_04845.json',\n",
       " 'issue_detail_08020.json',\n",
       " 'issue_detail_11128.json',\n",
       " 'issue_detail_10369.json',\n",
       " 'issue_detail_03545.json',\n",
       " 'issue_detail_10739.json',\n",
       " 'issue_detail_10386.json',\n",
       " 'issue_detail_10543.json',\n",
       " 'issue_detail_09298.json',\n",
       " 'issue_detail_08870.json',\n",
       " 'issue_detail_09277.json',\n",
       " 'issue_detail_00955.json',\n",
       " 'issue_detail_07639.json',\n",
       " 'issue_detail_07510.json',\n",
       " 'issue_detail_01978.json',\n",
       " 'issue_detail_06614.json',\n",
       " 'issue_detail_09735.json',\n",
       " 'issue_detail_10451.json',\n",
       " 'issue_detail_09220.json',\n",
       " 'issue_detail_09109.json',\n",
       " 'issue_detail_01493.json',\n",
       " 'issue_detail_07951.json',\n",
       " 'issue_detail_10995.json',\n",
       " 'issue_detail_09608.json',\n",
       " 'issue_detail_10583.json',\n",
       " 'issue_detail_06904.json',\n",
       " 'issue_detail_09521.json',\n",
       " 'issue_detail_08760.json',\n",
       " 'issue_detail_11111.json',\n",
       " 'issue_detail_09034.json',\n",
       " 'issue_detail_05914.json',\n",
       " 'issue_detail_08808.json',\n",
       " 'issue_detail_07354.json',\n",
       " 'issue_detail_02156.json',\n",
       " 'issue_detail_06400.json',\n",
       " 'issue_detail_11146.json',\n",
       " 'issue_detail_09825.json',\n",
       " 'issue_detail_09576.json',\n",
       " 'issue_detail_03481.json',\n",
       " 'issue_detail_04344.json',\n",
       " 'issue_detail_10612.json',\n",
       " 'issue_detail_03194.json',\n",
       " 'issue_detail_07587.json',\n",
       " 'issue_detail_06800.json',\n",
       " 'issue_detail_04997.json',\n",
       " 'issue_detail_01296.json',\n",
       " 'issue_detail_10192.json',\n",
       " 'issue_detail_08058.json',\n",
       " 'issue_detail_09560.json',\n",
       " 'issue_detail_05113.json',\n",
       " 'issue_detail_11150.json',\n",
       " 'issue_detail_02793.json',\n",
       " 'issue_detail_06380.json',\n",
       " 'issue_detail_05955.json',\n",
       " 'issue_detail_09425.json',\n",
       " 'issue_detail_04169.json',\n",
       " 'issue_detail_10080.json',\n",
       " 'issue_detail_06857.json',\n",
       " 'issue_detail_10595.json',\n",
       " 'issue_detail_08326.json',\n",
       " 'issue_detail_05847.json',\n",
       " 'issue_detail_11042.json',\n",
       " 'issue_detail_05001.json',\n",
       " 'issue_detail_10014.json',\n",
       " 'issue_detail_10444.json',\n",
       " 'issue_detail_10151.json',\n",
       " 'issue_detail_09370.json',\n",
       " 'issue_detail_05703.json',\n",
       " 'issue_detail_10628.json',\n",
       " 'issue_detail_08218.json',\n",
       " 'issue_detail_03842.json',\n",
       " 'issue_detail_10297.json',\n",
       " 'issue_detail_10413.json',\n",
       " 'issue_detail_09798.json',\n",
       " 'issue_detail_09262.json',\n",
       " 'issue_detail_03403.json',\n",
       " 'issue_detail_03546.json',\n",
       " 'issue_detail_06314.json',\n",
       " 'issue_detail_05492.json',\n",
       " 'issue_detail_03815.json',\n",
       " 'issue_detail_06928.json',\n",
       " 'issue_detail_09331.json',\n",
       " 'issue_detail_10540.json',\n",
       " 'issue_detail_08873.json',\n",
       " 'issue_detail_07285.json',\n",
       " 'issue_detail_10239.json',\n",
       " 'issue_detail_10686.json',\n",
       " 'issue_detail_10452.json',\n",
       " 'issue_detail_10517.json',\n",
       " 'issue_detail_06705.json',\n",
       " 'issue_detail_04368.json',\n",
       " 'issue_detail_06288.json',\n",
       " 'issue_detail_07860.json',\n",
       " 'issue_detail_09468.json',\n",
       " 'issue_detail_06637.json',\n",
       " 'issue_detail_05918.json',\n",
       " 'issue_detail_01408.json',\n",
       " 'issue_detail_09311.json',\n",
       " 'issue_detail_04173.json',\n",
       " 'issue_detail_08853.json',\n",
       " 'issue_detail_10075.json',\n",
       " 'issue_detail_03527.json',\n",
       " 'issue_detail_07134.json',\n",
       " 'issue_detail_06230.json',\n",
       " 'issue_detail_07708.json',\n",
       " 'issue_detail_10537.json',\n",
       " 'issue_detail_10167.json',\n",
       " 'issue_detail_07088.json',\n",
       " 'issue_detail_07122.json',\n",
       " 'issue_detail_06363.json',\n",
       " 'issue_detail_09096.json',\n",
       " 'issue_detail_09079.json',\n",
       " 'issue_detail_07437.json',\n",
       " 'issue_detail_11019.json',\n",
       " 'issue_detail_09700.json',\n",
       " 'issue_detail_05373.json',\n",
       " 'issue_detail_05689.json',\n",
       " 'issue_detail_05723.json',\n",
       " 'issue_detail_10937.json',\n",
       " 'issue_detail_10034.json',\n",
       " 'issue_detail_10464.json',\n",
       " 'issue_detail_08280.json',\n",
       " 'issue_detail_05518.json',\n",
       " 'issue_detail_07933.json',\n",
       " 'issue_detail_07899.json',\n",
       " 'issue_detail_08845.json',\n",
       " 'issue_detail_10433.json',\n",
       " 'issue_detail_09612.json',\n",
       " 'issue_detail_05631.json',\n",
       " 'issue_detail_09055.json',\n",
       " 'issue_detail_07948.json',\n",
       " 'issue_detail_10761.json',\n",
       " 'issue_detail_05133.json',\n",
       " 'issue_detail_10448.json',\n",
       " 'issue_detail_09393.json',\n",
       " 'issue_detail_01259.json',\n",
       " 'issue_detail_07677.json',\n",
       " 'issue_detail_06123.json',\n",
       " 'issue_detail_10389.json',\n",
       " 'issue_detail_04630.json',\n",
       " 'issue_detail_05471.json',\n",
       " 'issue_detail_05021.json',\n",
       " 'issue_detail_11127.json',\n",
       " 'issue_detail_09517.json',\n",
       " 'issue_detail_10366.json',\n",
       " 'issue_detail_03663.json',\n",
       " 'issue_detail_04149.json',\n",
       " 'issue_detail_09917.json',\n",
       " 'issue_detail_04626.json',\n",
       " 'issue_detail_09444.json',\n",
       " 'issue_detail_10665.json',\n",
       " 'issue_detail_04763.json',\n",
       " 'issue_detail_10720.json',\n",
       " 'issue_detail_09501.json',\n",
       " 'issue_detail_10409.json',\n",
       " 'issue_detail_10059.json',\n",
       " 'issue_detail_09782.json',\n",
       " 'issue_detail_07266.json',\n",
       " 'issue_detail_06861.json',\n",
       " 'issue_detail_10632.json',\n",
       " 'issue_detail_09556.json',\n",
       " 'issue_detail_06709.json',\n",
       " 'issue_detail_10327.json',\n",
       " 'issue_detail_02930.json',\n",
       " 'issue_detail_06070.json',\n",
       " 'issue_detail_06565.json',\n",
       " 'issue_detail_05349.json',\n",
       " 'issue_detail_09384.json',\n",
       " 'issue_detail_08983.json',\n",
       " 'issue_detail_08829.json',\n",
       " 'issue_detail_07375.json',\n",
       " 'issue_detail_10633.json',\n",
       " 'issue_detail_09412.json',\n",
       " 'issue_detail_11022.json',\n",
       " 'issue_detail_09804.json',\n",
       " 'issue_detail_01167.json',\n",
       " 'issue_detail_09557.json',\n",
       " 'issue_detail_03674.json',\n",
       " 'issue_detail_06163.json',\n",
       " 'issue_detail_11075.json',\n",
       " 'issue_detail_10721.json',\n",
       " 'issue_detail_09795.json',\n",
       " 'issue_detail_03727.json',\n",
       " 'issue_detail_09280.json',\n",
       " 'issue_detail_04148.json',\n",
       " 'issue_detail_03377.json',\n",
       " 'issue_detail_10672.json',\n",
       " 'issue_detail_10388.json',\n",
       " 'issue_detail_05020.json',\n",
       " 'issue_detail_08307.json',\n",
       " 'issue_detail_09392.json',\n",
       " 'issue_detail_10019.json',\n",
       " 'issue_detail_09957.json',\n",
       " 'issue_detail_08645.json',\n",
       " 'issue_detail_02618.json',\n",
       " 'issue_detail_09541.json',\n",
       " 'issue_detail_08147.json',\n",
       " 'issue_detail_08844.json',\n",
       " 'issue_detail_10432.json',\n",
       " 'issue_detail_04471.json',\n",
       " 'issue_detail_10598.json',\n",
       " 'issue_detail_09243.json',\n",
       " 'issue_detail_04922.json',\n",
       " 'issue_detail_03422.json',\n",
       " 'issue_detail_09351.json',\n",
       " 'issue_detail_08813.json',\n",
       " 'issue_detail_10465.json',\n",
       " 'issue_detail_06698.json',\n",
       " 'issue_detail_03530.json',\n",
       " 'issue_detail_06732.json',\n",
       " 'issue_detail_06227.json',\n",
       " 'issue_detail_11018.json',\n",
       " 'issue_detail_07709.json',\n",
       " 'issue_detail_10536.json',\n",
       " 'issue_detail_04349.json',\n",
       " 'issue_detail_09594.json',\n",
       " 'issue_detail_10131.json',\n",
       " 'issue_detail_10561.json',\n",
       " 'issue_detail_05299.json',\n",
       " 'issue_detail_10998.json',\n",
       " 'issue_detail_10074.json',\n",
       " 'issue_detail_03208.json',\n",
       " 'issue_detail_08917.json',\n",
       " 'issue_detail_10648.json',\n",
       " 'issue_detail_06636.json',\n",
       " 'issue_detail_02225.json',\n",
       " 'issue_detail_07050.json',\n",
       " 'issue_detail_07400.json',\n",
       " 'issue_detail_04386.json',\n",
       " 'issue_detail_06354.json',\n",
       " 'issue_detail_07545.json',\n",
       " 'issue_detail_04040.json',\n",
       " 'issue_detail_03785.json',\n",
       " 'issue_detail_06587.json',\n",
       " 'issue_detail_08960.json',\n",
       " 'issue_detail_10516.json',\n",
       " 'issue_detail_04555.json',\n",
       " 'issue_detail_06246.json',\n",
       " 'issue_detail_10238.json',\n",
       " 'issue_detail_03802.json',\n",
       " 'issue_detail_03551.json',\n",
       " 'issue_detail_07791.json',\n",
       " 'issue_detail_10541.json',\n",
       " 'issue_detail_10812.json',\n",
       " 'issue_detail_04797.json',\n",
       " 'issue_detail_03547.json',\n",
       " 'issue_detail_06315.json',\n",
       " 'issue_detail_01983.json',\n",
       " 'issue_detail_09849.json',\n",
       " 'issue_detail_03814.json',\n",
       " 'issue_detail_04001.json',\n",
       " 'issue_detail_05610.json',\n",
       " 'issue_detail_08864.json',\n",
       " 'issue_detail_10107.json',\n",
       " 'issue_detail_10629.json',\n",
       " 'issue_detail_07416.json',\n",
       " 'issue_detail_02244.json',\n",
       " 'issue_detail_06084.json',\n",
       " 'issue_detail_02497.json',\n",
       " 'issue_detail_10853.json',\n",
       " 'issue_detail_08560.json',\n",
       " 'issue_detail_05702.json',\n",
       " 'issue_detail_07482.json',\n",
       " 'issue_detail_10717.json',\n",
       " 'issue_detail_09473.json',\n",
       " 'issue_detail_08262.json',\n",
       " 'issue_detail_05329.json',\n",
       " 'issue_detail_10982.json',\n",
       " 'issue_detail_02053.json',\n",
       " 'issue_detail_06440.json',\n",
       " 'issue_detail_10740.json',\n",
       " 'issue_detail_09832.json',\n",
       " 'issue_detail_09998.json',\n",
       " 'issue_detail_10486.json',\n",
       " 'issue_detail_03245.json',\n",
       " 'issue_detail_10193.json',\n",
       " 'issue_detail_07206.json',\n",
       " 'issue_detail_09824.json',\n",
       " 'issue_detail_05942.json',\n",
       " 'issue_detail_08223.json',\n",
       " 'issue_detail_10869.json',\n",
       " 'issue_detail_02911.json',\n",
       " 'issue_detail_05503.json',\n",
       " 'issue_detail_07181.json',\n",
       " 'issue_detail_11055.json',\n",
       " 'issue_detail_05915.json',\n",
       " 'issue_detail_06790.json',\n",
       " 'issue_detail_10994.json',\n",
       " 'issue_detail_05295.json',\n",
       " 'issue_detail_00097.json',\n",
       " 'issue_detail_02946.json',\n",
       " 'issue_detail_08448.json',\n",
       " 'issue_detail_05780.json',\n",
       " 'issue_detail_06324.json',\n",
       " 'issue_detail_03576.json',\n",
       " 'issue_detail_05158.json',\n",
       " 'issue_detail_07923.json',\n",
       " 'issue_detail_08506.json',\n",
       " 'issue_detail_04876.json',\n",
       " 'issue_detail_10566.json',\n",
       " 'issue_detail_08910.json',\n",
       " 'issue_detail_04899.json',\n",
       " 'issue_detail_09593.json',\n",
       " 'issue_detail_09069.json',\n",
       " 'issue_detail_09710.json',\n",
       " 'issue_detail_03608.json',\n",
       " 'issue_detail_07574.json',\n",
       " 'issue_detail_03864.json',\n",
       " 'issue_detail_07124.json',\n",
       " 'issue_detail_00874.json',\n",
       " 'issue_detail_09356.json',\n",
       " 'issue_detail_09706.json',\n",
       " 'issue_detail_10198.json',\n",
       " 'issue_detail_10931.json',\n",
       " 'issue_detail_02721.json',\n",
       " 'issue_detail_06762.json',\n",
       " 'issue_detail_06332.json',\n",
       " 'issue_detail_06627.json',\n",
       " 'issue_detail_09028.json',\n",
       " 'issue_detail_10659.json',\n",
       " 'issue_detail_07036.json',\n",
       " 'issue_detail_03976.json',\n",
       " 'issue_detail_08843.json',\n",
       " 'issue_detail_08357.json',\n",
       " 'issue_detail_10337.json',\n",
       " 'issue_detail_09546.json',\n",
       " 'issue_detail_06963.json',\n",
       " 'issue_detail_06575.json',\n",
       " 'issue_detail_02648.json',\n",
       " 'issue_detail_08245.json',\n",
       " 'issue_detail_09454.json',\n",
       " 'issue_detail_08750.json',\n",
       " 'issue_detail_03665.json',\n",
       " 'issue_detail_02561.json',\n",
       " 'issue_detail_10663.json',\n",
       " 'issue_detail_10399.json',\n",
       " 'issue_detail_10376.json',\n",
       " 'issue_detail_02961.json',\n",
       " 'issue_detail_06164.json',\n",
       " 'issue_detail_02824.json',\n",
       " 'issue_detail_08480.json',\n",
       " 'issue_detail_02577.json',\n",
       " 'issue_detail_09946.json',\n",
       " 'issue_detail_09415.json',\n",
       " 'issue_detail_04227.json',\n",
       " 'issue_detail_05965.json',\n",
       " 'issue_detail_11160.json',\n",
       " 'issue_detail_09803.json',\n",
       " 'issue_detail_09383.json',\n",
       " 'issue_detail_07722.json',\n",
       " 'issue_detail_07755.json',\n",
       " 'issue_detail_05292.json',\n",
       " 'issue_detail_02941.json',\n",
       " 'issue_detail_09874.json',\n",
       " 'issue_detail_10213.json',\n",
       " 'issue_detail_09198.json',\n",
       " 'issue_detail_07885.json',\n",
       " 'issue_detail_05695.json',\n",
       " 'issue_detail_07702.json',\n",
       " 'issue_detail_06543.json',\n",
       " 'issue_detail_10478.json',\n",
       " 'issue_detail_05380.json',\n",
       " 'issue_detail_10881.json',\n",
       " 'issue_detail_03487.json',\n",
       " 'issue_detail_08361.json',\n",
       " 'issue_detail_07094.json',\n",
       " 'issue_detail_02629.json',\n",
       " 'issue_detail_10614.json',\n",
       " 'issue_detail_05729.json',\n",
       " 'issue_detail_03612.json',\n",
       " 'issue_detail_02900.json',\n",
       " 'issue_detail_06410.json',\n",
       " 'issue_detail_09835.json',\n",
       " 'issue_detail_05115.json',\n",
       " 'issue_detail_07082.json',\n",
       " 'issue_detail_08377.json',\n",
       " 'issue_detail_11156.json',\n",
       " 'issue_detail_05953.json',\n",
       " 'issue_detail_06386.json',\n",
       " 'issue_detail_10602.json',\n",
       " 'issue_detail_09970.json',\n",
       " 'issue_detail_07313.json',\n",
       " 'issue_detail_05284.json',\n",
       " 'issue_detail_02812.json',\n",
       " 'issue_detail_10069.json',\n",
       " 'issue_detail_11101.json',\n",
       " 'issue_detail_11044.json',\n",
       " 'issue_detail_09927.json',\n",
       " 'issue_detail_08635.json',\n",
       " 'issue_detail_05007.json',\n",
       " 'issue_detail_10655.json',\n",
       " 'issue_detail_10442.json',\n",
       " 'issue_detail_09663.json',\n",
       " 'issue_detail_04952.json',\n",
       " 'issue_detail_08567.json',\n",
       " 'issue_detail_06083.json',\n",
       " 'issue_detail_04544.json',\n",
       " 'issue_detail_03281.json',\n",
       " 'issue_detail_06579.json',\n",
       " 'issue_detail_07554.json',\n",
       " 'issue_detail_09819.json',\n",
       " 'issue_detail_10946.json',\n",
       " 'issue_detail_10415.json',\n",
       " 'issue_detail_10045.json',\n",
       " 'issue_detail_10550.json',\n",
       " 'issue_detail_06484.json',\n",
       " 'issue_detail_04840.json',\n",
       " 'issue_detail_08530.json',\n",
       " 'issue_detail_09008.json',\n",
       " 'issue_detail_01438.json',\n",
       " 'issue_detail_11087.json',\n",
       " 'issue_detail_07850.json',\n",
       " 'issue_detail_06312.json',\n",
       " 'issue_detail_10053.json',\n",
       " 'issue_detail_06884.json',\n",
       " 'issue_detail_07283.json',\n",
       " 'issue_detail_07779.json',\n",
       " 'issue_detail_06538.json',\n",
       " 'issue_detail_04155.json',\n",
       " 'issue_detail_10546.json',\n",
       " 'issue_detail_03278.json',\n",
       " 'issue_detail_09225.json',\n",
       " 'issue_detail_09730.json',\n",
       " 'issue_detail_10842.json',\n",
       " 'issue_detail_09049.json',\n",
       " 'issue_detail_08658.json',\n",
       " 'issue_detail_06703.json',\n",
       " 'issue_detail_05986.json',\n",
       " 'issue_detail_10269.json',\n",
       " 'issue_detail_10639.json',\n",
       " 'issue_detail_08659.json',\n",
       " 'issue_detail_02254.json',\n",
       " 'issue_detail_06352.json',\n",
       " 'issue_detail_08435.json',\n",
       " 'issue_detail_10906.json',\n",
       " 'issue_detail_09674.json',\n",
       " 'issue_detail_03783.json',\n",
       " 'issue_detail_09224.json',\n",
       " 'issue_detail_10510.json',\n",
       " 'issue_detail_08570.json',\n",
       " 'issue_detail_03557.json',\n",
       " 'issue_detail_02716.json',\n",
       " 'issue_detail_09859.json',\n",
       " 'issue_detail_09273.json',\n",
       " 'issue_detail_08931.json',\n",
       " 'issue_detail_09623.json',\n",
       " 'issue_detail_02829.json',\n",
       " 'issue_detail_10117.json',\n",
       " 'issue_detail_09766.json',\n",
       " 'issue_detail_04154.json',\n",
       " 'issue_detail_06606.json',\n",
       " 'issue_detail_11069.json',\n",
       " 'issue_detail_06743.json',\n",
       " 'issue_detail_08474.json',\n",
       " 'issue_detail_07781.json',\n",
       " 'issue_detail_04457.json',\n",
       " 'issue_detail_01340.json',\n",
       " 'issue_detail_06344.json',\n",
       " 'issue_detail_05092.json',\n",
       " 'issue_detail_05211.json',\n",
       " 'issue_detail_03280.json',\n",
       " 'issue_detail_06128.json',\n",
       " 'issue_detail_11100.json',\n",
       " 'issue_detail_10654.json',\n",
       " 'issue_detail_09619.json',\n",
       " 'issue_detail_07257.json',\n",
       " 'issue_detail_00746.json',\n",
       " 'issue_detail_05544.json',\n",
       " 'issue_detail_09137.json',\n",
       " 'issue_detail_09588.json',\n",
       " 'issue_detail_06387.json',\n",
       " 'issue_detail_10603.json',\n",
       " 'issue_detail_09422.json',\n",
       " 'issue_detail_05051.json',\n",
       " 'issue_detail_08233.json',\n",
       " 'issue_detail_06104.json',\n",
       " 'issue_detail_10480.json',\n",
       " 'issue_detail_07650.json',\n",
       " 'issue_detail_10195.json',\n",
       " 'issue_detail_07996.json',\n",
       " 'issue_detail_09121.json',\n",
       " 'issue_detail_11004.json',\n",
       " 'issue_detail_09434.json',\n",
       " 'issue_detail_10615.json',\n",
       " 'issue_detail_06811.json',\n",
       " 'issue_detail_10029.json',\n",
       " 'issue_detail_10183.json',\n",
       " 'issue_detail_03255.json',\n",
       " 'issue_detail_11116.json',\n",
       " 'issue_detail_10707.json',\n",
       " 'issue_detail_06329.json',\n",
       " 'issue_detail_05913.json',\n",
       " 'issue_detail_09033.json',\n",
       " 'issue_detail_09463.json',\n",
       " 'issue_detail_07187.json',\n",
       " 'issue_detail_05769.json',\n",
       " 'issue_detail_10992.json',\n",
       " 'issue_detail_06450.json',\n",
       " 'issue_detail_09382.json',\n",
       " 'issue_detail_02034.json',\n",
       " ...]"
      ]
     },
     "execution_count": 17,
     "metadata": {},
     "output_type": "execute_result"
    }
   ],
   "source": [
    "os.listdir(f\"{repo}_issues\")"
   ]
  },
  {
   "cell_type": "code",
   "execution_count": 1,
   "metadata": {},
   "outputs": [
    {
     "name": "stderr",
     "output_type": "stream",
     "text": [
      "/Users/ray/miniforge3/envs/test_env/lib/python3.10/site-packages/tqdm/auto.py:21: TqdmWarning: IProgress not found. Please update jupyter and ipywidgets. See https://ipywidgets.readthedocs.io/en/stable/user_install.html\n",
      "  from .autonotebook import tqdm as notebook_tqdm\n"
     ]
    }
   ],
   "source": [
    "    import json\n",
    "    import os\n",
    "    import pandas as pd\n",
    "\n",
    "    from tqdm.auto import tqdm"
   ]
  },
  {
   "cell_type": "code",
   "execution_count": 3,
   "metadata": {},
   "outputs": [],
   "source": [
    "repo: str = \"dask\""
   ]
  },
  {
   "cell_type": "code",
   "execution_count": 4,
   "metadata": {},
   "outputs": [
    {
     "name": "stderr",
     "output_type": "stream",
     "text": [
      "  0%|          | 3/1055 [00:00<00:50, 21.03it/s]"
     ]
    },
    {
     "name": "stdout",
     "output_type": "stream",
     "text": [
      "dask_issues/issue_detail_00072.json\n",
      "dask_issues/issue_detail_00097.json\n",
      "dask_issues/issue_detail_00731.json\n",
      "dask_issues/issue_detail_00746.json\n",
      "dask_issues/issue_detail_00874.json\n",
      "dask_issues/issue_detail_00898.json\n",
      "dask_issues/issue_detail_00922.json\n"
     ]
    },
    {
     "name": "stderr",
     "output_type": "stream",
     "text": [
      "  2%|▏         | 16/1055 [00:00<00:22, 46.17it/s]"
     ]
    },
    {
     "name": "stdout",
     "output_type": "stream",
     "text": [
      "dask_issues/issue_detail_00955.json\n",
      "dask_issues/issue_detail_01167.json\n",
      "dask_issues/issue_detail_01233.json\n",
      "dask_issues/issue_detail_01259.json\n",
      "dask_issues/issue_detail_01288.json\n",
      "dask_issues/issue_detail_01296.json\n",
      "dask_issues/issue_detail_01340.json\n",
      "dask_issues/issue_detail_01353.json\n",
      "dask_issues/issue_detail_01408.json\n",
      "dask_issues/issue_detail_01438.json\n",
      "dask_issues/issue_detail_01493.json\n",
      "dask_issues/issue_detail_01519.json\n"
     ]
    },
    {
     "name": "stderr",
     "output_type": "stream",
     "text": [
      "  3%|▎         | 28/1055 [00:00<00:19, 52.49it/s]"
     ]
    },
    {
     "name": "stdout",
     "output_type": "stream",
     "text": [
      "dask_issues/issue_detail_01744.json\n",
      "dask_issues/issue_detail_01821.json\n",
      "dask_issues/issue_detail_01978.json\n",
      "dask_issues/issue_detail_01983.json\n",
      "dask_issues/issue_detail_01991.json\n",
      "dask_issues/issue_detail_02034.json\n",
      "dask_issues/issue_detail_02053.json\n",
      "dask_issues/issue_detail_02103.json\n",
      "dask_issues/issue_detail_02149.json\n",
      "dask_issues/issue_detail_02156.json\n",
      "dask_issues/issue_detail_02201.json\n",
      "dask_issues/issue_detail_02225.json\n"
     ]
    },
    {
     "name": "stderr",
     "output_type": "stream",
     "text": [
      "  4%|▍         | 40/1055 [00:00<00:18, 55.22it/s]"
     ]
    },
    {
     "name": "stdout",
     "output_type": "stream",
     "text": [
      "dask_issues/issue_detail_02244.json\n",
      "dask_issues/issue_detail_02254.json\n",
      "dask_issues/issue_detail_02292.json\n",
      "dask_issues/issue_detail_02299.json\n",
      "dask_issues/issue_detail_02431.json\n",
      "dask_issues/issue_detail_02456.json\n",
      "dask_issues/issue_detail_02488.json\n",
      "dask_issues/issue_detail_02497.json\n",
      "dask_issues/issue_detail_02498.json\n",
      "dask_issues/issue_detail_02561.json\n",
      "dask_issues/issue_detail_02577.json\n"
     ]
    },
    {
     "name": "stderr",
     "output_type": "stream",
     "text": [
      "  5%|▍         | 52/1055 [00:01<00:18, 54.18it/s]"
     ]
    },
    {
     "name": "stdout",
     "output_type": "stream",
     "text": [
      "dask_issues/issue_detail_02618.json\n",
      "dask_issues/issue_detail_02620.json\n",
      "dask_issues/issue_detail_02629.json\n",
      "dask_issues/issue_detail_02648.json\n",
      "dask_issues/issue_detail_02670.json\n",
      "dask_issues/issue_detail_02682.json\n",
      "dask_issues/issue_detail_02716.json\n",
      "dask_issues/issue_detail_02721.json\n",
      "dask_issues/issue_detail_02793.json\n",
      "dask_issues/issue_detail_02812.json\n",
      "dask_issues/issue_detail_02824.json\n"
     ]
    },
    {
     "name": "stderr",
     "output_type": "stream",
     "text": [
      "  5%|▌         | 58/1055 [00:01<00:20, 49.66it/s]"
     ]
    },
    {
     "name": "stdout",
     "output_type": "stream",
     "text": [
      "dask_issues/issue_detail_02829.json\n",
      "dask_issues/issue_detail_02840.json\n",
      "dask_issues/issue_detail_02851.json\n",
      "dask_issues/issue_detail_02882.json\n",
      "dask_issues/issue_detail_02883.json\n",
      "dask_issues/issue_detail_02893.json\n",
      "dask_issues/issue_detail_02900.json\n",
      "dask_issues/issue_detail_02911.json\n"
     ]
    },
    {
     "name": "stderr",
     "output_type": "stream",
     "text": [
      "  7%|▋         | 70/1055 [00:01<00:22, 44.03it/s]"
     ]
    },
    {
     "name": "stdout",
     "output_type": "stream",
     "text": [
      "dask_issues/issue_detail_02912.json\n",
      "dask_issues/issue_detail_02913.json\n",
      "dask_issues/issue_detail_02923.json\n",
      "dask_issues/issue_detail_02930.json\n",
      "dask_issues/issue_detail_02933.json\n",
      "dask_issues/issue_detail_02939.json\n",
      "dask_issues/issue_detail_02941.json\n",
      "dask_issues/issue_detail_02946.json\n",
      "dask_issues/issue_detail_02959.json\n",
      "dask_issues/issue_detail_02961.json\n",
      "dask_issues/issue_detail_02991.json\n"
     ]
    },
    {
     "name": "stderr",
     "output_type": "stream",
     "text": [
      "  8%|▊         | 82/1055 [00:01<00:20, 47.32it/s]"
     ]
    },
    {
     "name": "stdout",
     "output_type": "stream",
     "text": [
      "dask_issues/issue_detail_02999.json\n",
      "dask_issues/issue_detail_03074.json\n",
      "dask_issues/issue_detail_03135.json\n",
      "dask_issues/issue_detail_03162.json\n",
      "dask_issues/issue_detail_03194.json\n",
      "dask_issues/issue_detail_03208.json\n",
      "dask_issues/issue_detail_03245.json\n",
      "dask_issues/issue_detail_03247.json\n",
      "dask_issues/issue_detail_03250.json\n",
      "dask_issues/issue_detail_03255.json\n",
      "dask_issues/issue_detail_03277.json\n"
     ]
    },
    {
     "name": "stderr",
     "output_type": "stream",
     "text": [
      "  9%|▉         | 94/1055 [00:01<00:18, 51.72it/s]"
     ]
    },
    {
     "name": "stdout",
     "output_type": "stream",
     "text": [
      "dask_issues/issue_detail_03278.json\n",
      "dask_issues/issue_detail_03280.json\n",
      "dask_issues/issue_detail_03281.json\n",
      "dask_issues/issue_detail_03302.json\n",
      "dask_issues/issue_detail_03329.json\n",
      "dask_issues/issue_detail_03355.json\n",
      "dask_issues/issue_detail_03377.json\n",
      "dask_issues/issue_detail_03403.json\n",
      "dask_issues/issue_detail_03406.json\n",
      "dask_issues/issue_detail_03411.json\n",
      "dask_issues/issue_detail_03422.json\n",
      "dask_issues/issue_detail_03431.json\n"
     ]
    },
    {
     "name": "stderr",
     "output_type": "stream",
     "text": [
      "  9%|▉         | 100/1055 [00:02<00:18, 52.72it/s]"
     ]
    },
    {
     "name": "stdout",
     "output_type": "stream",
     "text": [
      "dask_issues/issue_detail_03437.json\n",
      "dask_issues/issue_detail_03481.json\n",
      "dask_issues/issue_detail_03487.json\n",
      "dask_issues/issue_detail_03514.json\n",
      "dask_issues/issue_detail_03523.json\n",
      "dask_issues/issue_detail_03527.json\n",
      "dask_issues/issue_detail_03530.json\n",
      "dask_issues/issue_detail_03535.json\n",
      "dask_issues/issue_detail_03542.json\n",
      "dask_issues/issue_detail_03545.json\n",
      "dask_issues/issue_detail_03546.json\n"
     ]
    },
    {
     "name": "stderr",
     "output_type": "stream",
     "text": [
      " 11%|█         | 112/1055 [00:02<00:18, 52.27it/s]"
     ]
    },
    {
     "name": "stdout",
     "output_type": "stream",
     "text": [
      "dask_issues/issue_detail_03547.json\n",
      "dask_issues/issue_detail_03551.json\n",
      "dask_issues/issue_detail_03557.json\n",
      "dask_issues/issue_detail_03576.json\n",
      "dask_issues/issue_detail_03587.json\n",
      "dask_issues/issue_detail_03590.json\n",
      "dask_issues/issue_detail_03608.json\n",
      "dask_issues/issue_detail_03612.json\n",
      "dask_issues/issue_detail_03630.json\n",
      "dask_issues/issue_detail_03641.json\n",
      "dask_issues/issue_detail_03650.json\n"
     ]
    },
    {
     "name": "stderr",
     "output_type": "stream",
     "text": [
      " 12%|█▏        | 124/1055 [00:02<00:17, 52.63it/s]"
     ]
    },
    {
     "name": "stdout",
     "output_type": "stream",
     "text": [
      "dask_issues/issue_detail_03657.json\n",
      "dask_issues/issue_detail_03663.json\n",
      "dask_issues/issue_detail_03664.json\n",
      "dask_issues/issue_detail_03665.json\n",
      "dask_issues/issue_detail_03671.json\n",
      "dask_issues/issue_detail_03674.json\n",
      "dask_issues/issue_detail_03682.json\n",
      "dask_issues/issue_detail_03688.json\n",
      "dask_issues/issue_detail_03693.json\n",
      "dask_issues/issue_detail_03699.json\n",
      "dask_issues/issue_detail_03714.json\n"
     ]
    },
    {
     "name": "stderr",
     "output_type": "stream",
     "text": [
      " 12%|█▏        | 130/1055 [00:02<00:20, 44.14it/s]"
     ]
    },
    {
     "name": "stdout",
     "output_type": "stream",
     "text": [
      "dask_issues/issue_detail_03727.json\n",
      "dask_issues/issue_detail_03734.json\n",
      "dask_issues/issue_detail_03753.json\n",
      "dask_issues/issue_detail_03783.json\n",
      "dask_issues/issue_detail_03785.json\n",
      "dask_issues/issue_detail_03802.json\n",
      "dask_issues/issue_detail_03814.json\n",
      "dask_issues/issue_detail_03815.json\n"
     ]
    },
    {
     "name": "stderr",
     "output_type": "stream",
     "text": [
      " 13%|█▎        | 141/1055 [00:02<00:19, 46.94it/s]"
     ]
    },
    {
     "name": "stdout",
     "output_type": "stream",
     "text": [
      "dask_issues/issue_detail_03824.json\n",
      "dask_issues/issue_detail_03832.json\n",
      "dask_issues/issue_detail_03842.json\n",
      "dask_issues/issue_detail_03864.json\n",
      "dask_issues/issue_detail_03889.json\n",
      "dask_issues/issue_detail_03913.json\n",
      "dask_issues/issue_detail_03929.json\n",
      "dask_issues/issue_detail_03962.json\n",
      "dask_issues/issue_detail_03973.json\n",
      "dask_issues/issue_detail_03976.json\n",
      "dask_issues/issue_detail_03987.json\n"
     ]
    },
    {
     "name": "stderr",
     "output_type": "stream",
     "text": [
      " 15%|█▍        | 154/1055 [00:03<00:17, 50.50it/s]"
     ]
    },
    {
     "name": "stdout",
     "output_type": "stream",
     "text": [
      "dask_issues/issue_detail_04001.json\n",
      "dask_issues/issue_detail_04040.json\n",
      "dask_issues/issue_detail_04148.json\n",
      "dask_issues/issue_detail_04149.json\n",
      "dask_issues/issue_detail_04154.json\n",
      "dask_issues/issue_detail_04155.json\n",
      "dask_issues/issue_detail_04156.json\n",
      "dask_issues/issue_detail_04157.json\n",
      "dask_issues/issue_detail_04169.json\n",
      "dask_issues/issue_detail_04170.json\n"
     ]
    },
    {
     "name": "stderr",
     "output_type": "stream",
     "text": [
      " 16%|█▌        | 166/1055 [00:03<00:17, 49.82it/s]"
     ]
    },
    {
     "name": "stdout",
     "output_type": "stream",
     "text": [
      "dask_issues/issue_detail_04173.json\n",
      "dask_issues/issue_detail_04184.json\n",
      "dask_issues/issue_detail_04226.json\n",
      "dask_issues/issue_detail_04227.json\n",
      "dask_issues/issue_detail_04252.json\n",
      "dask_issues/issue_detail_04253.json\n",
      "dask_issues/issue_detail_04275.json\n",
      "dask_issues/issue_detail_04310.json\n",
      "dask_issues/issue_detail_04344.json\n",
      "dask_issues/issue_detail_04349.json\n",
      "dask_issues/issue_detail_04360.json\n"
     ]
    },
    {
     "name": "stderr",
     "output_type": "stream",
     "text": [
      " 17%|█▋        | 178/1055 [00:03<00:17, 50.72it/s]"
     ]
    },
    {
     "name": "stdout",
     "output_type": "stream",
     "text": [
      "dask_issues/issue_detail_04368.json\n",
      "dask_issues/issue_detail_04386.json\n",
      "dask_issues/issue_detail_04389.json\n",
      "dask_issues/issue_detail_04449.json\n",
      "dask_issues/issue_detail_04457.json\n",
      "dask_issues/issue_detail_04471.json\n",
      "dask_issues/issue_detail_04544.json\n",
      "dask_issues/issue_detail_04555.json\n",
      "dask_issues/issue_detail_04626.json\n",
      "dask_issues/issue_detail_04630.json\n",
      "dask_issues/issue_detail_04635.json\n"
     ]
    },
    {
     "name": "stderr",
     "output_type": "stream",
     "text": [
      " 17%|█▋        | 184/1055 [00:03<00:16, 51.76it/s]"
     ]
    },
    {
     "name": "stdout",
     "output_type": "stream",
     "text": [
      "dask_issues/issue_detail_04763.json\n",
      "dask_issues/issue_detail_04797.json\n",
      "dask_issues/issue_detail_04840.json\n",
      "dask_issues/issue_detail_04845.json\n",
      "dask_issues/issue_detail_04849.json\n",
      "dask_issues/issue_detail_04855.json\n",
      "dask_issues/issue_detail_04869.json\n",
      "dask_issues/issue_detail_04876.json\n",
      "dask_issues/issue_detail_04899.json\n",
      "dask_issues/issue_detail_04922.json\n",
      "dask_issues/issue_detail_04930.json\n"
     ]
    },
    {
     "name": "stderr",
     "output_type": "stream",
     "text": [
      " 18%|█▊        | 190/1055 [00:03<00:16, 52.66it/s]"
     ]
    },
    {
     "name": "stdout",
     "output_type": "stream",
     "text": [
      "dask_issues/issue_detail_04950.json\n",
      "dask_issues/issue_detail_04951.json\n",
      "dask_issues/issue_detail_04952.json\n",
      "dask_issues/issue_detail_04966.json\n"
     ]
    },
    {
     "name": "stderr",
     "output_type": "stream",
     "text": [
      " 19%|█▉        | 202/1055 [00:04<00:20, 41.44it/s]"
     ]
    },
    {
     "name": "stdout",
     "output_type": "stream",
     "text": [
      "dask_issues/issue_detail_04997.json\n",
      "dask_issues/issue_detail_05001.json\n",
      "dask_issues/issue_detail_05007.json\n",
      "dask_issues/issue_detail_05012.json\n",
      "dask_issues/issue_detail_05020.json\n",
      "dask_issues/issue_detail_05021.json\n",
      "dask_issues/issue_detail_05051.json\n",
      "dask_issues/issue_detail_05059.json\n",
      "dask_issues/issue_detail_05067.json\n",
      "dask_issues/issue_detail_05087.json\n",
      "dask_issues/issue_detail_05092.json\n"
     ]
    },
    {
     "name": "stderr",
     "output_type": "stream",
     "text": [
      " 20%|██        | 214/1055 [00:04<00:17, 47.74it/s]"
     ]
    },
    {
     "name": "stdout",
     "output_type": "stream",
     "text": [
      "dask_issues/issue_detail_05097.json\n",
      "dask_issues/issue_detail_05101.json\n",
      "dask_issues/issue_detail_05110.json\n",
      "dask_issues/issue_detail_05113.json\n",
      "dask_issues/issue_detail_05115.json\n",
      "dask_issues/issue_detail_05127.json\n",
      "dask_issues/issue_detail_05133.json\n",
      "dask_issues/issue_detail_05158.json\n",
      "dask_issues/issue_detail_05159.json\n",
      "dask_issues/issue_detail_05160.json\n",
      "dask_issues/issue_detail_05198.json\n"
     ]
    },
    {
     "name": "stderr",
     "output_type": "stream",
     "text": [
      " 21%|██▏       | 226/1055 [00:04<00:16, 48.90it/s]"
     ]
    },
    {
     "name": "stdout",
     "output_type": "stream",
     "text": [
      "dask_issues/issue_detail_05199.json\n",
      "dask_issues/issue_detail_05202.json\n",
      "dask_issues/issue_detail_05211.json\n",
      "dask_issues/issue_detail_05259.json\n",
      "dask_issues/issue_detail_05263.json\n",
      "dask_issues/issue_detail_05278.json\n",
      "dask_issues/issue_detail_05281.json\n",
      "dask_issues/issue_detail_05284.json\n",
      "dask_issues/issue_detail_05292.json\n",
      "dask_issues/issue_detail_05295.json\n",
      "dask_issues/issue_detail_05299.json\n"
     ]
    },
    {
     "name": "stderr",
     "output_type": "stream",
     "text": [
      " 22%|██▏       | 232/1055 [00:04<00:17, 46.69it/s]"
     ]
    },
    {
     "name": "stdout",
     "output_type": "stream",
     "text": [
      "dask_issues/issue_detail_05320.json\n",
      "dask_issues/issue_detail_05321.json\n",
      "dask_issues/issue_detail_05323.json\n",
      "dask_issues/issue_detail_05329.json\n",
      "dask_issues/issue_detail_05349.json\n",
      "dask_issues/issue_detail_05361.json\n",
      "dask_issues/issue_detail_05373.json\n",
      "dask_issues/issue_detail_05377.json\n",
      "dask_issues/issue_detail_05380.json\n"
     ]
    },
    {
     "name": "stderr",
     "output_type": "stream",
     "text": [
      " 23%|██▎       | 242/1055 [00:05<00:17, 47.45it/s]"
     ]
    },
    {
     "name": "stdout",
     "output_type": "stream",
     "text": [
      "dask_issues/issue_detail_05408.json\n",
      "dask_issues/issue_detail_05412.json\n",
      "dask_issues/issue_detail_05432.json\n",
      "dask_issues/issue_detail_05452.json\n",
      "dask_issues/issue_detail_05455.json\n",
      "dask_issues/issue_detail_05471.json\n",
      "dask_issues/issue_detail_05492.json\n",
      "dask_issues/issue_detail_05503.json\n",
      "dask_issues/issue_detail_05518.json\n",
      "dask_issues/issue_detail_05533.json\n",
      "dask_issues/issue_detail_05540.json\n"
     ]
    },
    {
     "name": "stderr",
     "output_type": "stream",
     "text": [
      " 24%|██▎       | 248/1055 [00:05<00:18, 42.70it/s]"
     ]
    },
    {
     "name": "stdout",
     "output_type": "stream",
     "text": [
      "dask_issues/issue_detail_05544.json\n",
      "dask_issues/issue_detail_05610.json\n",
      "dask_issues/issue_detail_05631.json\n",
      "dask_issues/issue_detail_05633.json\n",
      "dask_issues/issue_detail_05644.json\n"
     ]
    },
    {
     "name": "stderr",
     "output_type": "stream",
     "text": [
      " 24%|██▍       | 258/1055 [00:05<00:19, 41.94it/s]"
     ]
    },
    {
     "name": "stdout",
     "output_type": "stream",
     "text": [
      "dask_issues/issue_detail_05652.json\n",
      "dask_issues/issue_detail_05686.json\n",
      "dask_issues/issue_detail_05689.json\n",
      "dask_issues/issue_detail_05691.json\n",
      "dask_issues/issue_detail_05695.json\n",
      "dask_issues/issue_detail_05702.json\n",
      "dask_issues/issue_detail_05703.json\n",
      "dask_issues/issue_detail_05723.json\n",
      "dask_issues/issue_detail_05729.json\n",
      "dask_issues/issue_detail_05756.json\n",
      "dask_issues/issue_detail_05769.json\n"
     ]
    },
    {
     "name": "stderr",
     "output_type": "stream",
     "text": [
      " 25%|██▌       | 269/1055 [00:05<00:19, 40.35it/s]"
     ]
    },
    {
     "name": "stdout",
     "output_type": "stream",
     "text": [
      "dask_issues/issue_detail_05780.json\n",
      "dask_issues/issue_detail_05794.json\n",
      "dask_issues/issue_detail_05809.json\n",
      "dask_issues/issue_detail_05822.json\n",
      "dask_issues/issue_detail_05823.json\n",
      "dask_issues/issue_detail_05834.json\n",
      "dask_issues/issue_detail_05837.json\n",
      "dask_issues/issue_detail_05847.json\n"
     ]
    },
    {
     "name": "stderr",
     "output_type": "stream",
     "text": [
      " 27%|██▋       | 280/1055 [00:05<00:17, 45.49it/s]"
     ]
    },
    {
     "name": "stdout",
     "output_type": "stream",
     "text": [
      "dask_issues/issue_detail_05865.json\n",
      "dask_issues/issue_detail_05913.json\n",
      "dask_issues/issue_detail_05914.json\n",
      "dask_issues/issue_detail_05915.json\n",
      "dask_issues/issue_detail_05918.json\n",
      "dask_issues/issue_detail_05942.json\n",
      "dask_issues/issue_detail_05953.json\n",
      "dask_issues/issue_detail_05955.json\n",
      "dask_issues/issue_detail_05957.json\n",
      "dask_issues/issue_detail_05965.json\n",
      "dask_issues/issue_detail_05985.json\n"
     ]
    },
    {
     "name": "stderr",
     "output_type": "stream",
     "text": [
      " 28%|██▊       | 291/1055 [00:06<00:16, 46.63it/s]"
     ]
    },
    {
     "name": "stdout",
     "output_type": "stream",
     "text": [
      "dask_issues/issue_detail_05986.json\n",
      "dask_issues/issue_detail_05993.json\n",
      "dask_issues/issue_detail_06012.json\n",
      "dask_issues/issue_detail_06018.json\n",
      "dask_issues/issue_detail_06058.json\n",
      "dask_issues/issue_detail_06068.json\n",
      "dask_issues/issue_detail_06070.json\n",
      "dask_issues/issue_detail_06083.json\n",
      "dask_issues/issue_detail_06084.json\n",
      "dask_issues/issue_detail_06104.json\n"
     ]
    },
    {
     "name": "stderr",
     "output_type": "stream",
     "text": [
      " 28%|██▊       | 297/1055 [00:06<00:15, 49.03it/s]"
     ]
    },
    {
     "name": "stdout",
     "output_type": "stream",
     "text": [
      "dask_issues/issue_detail_06123.json\n",
      "dask_issues/issue_detail_06127.json\n",
      "dask_issues/issue_detail_06128.json\n",
      "dask_issues/issue_detail_06150.json\n",
      "dask_issues/issue_detail_06161.json\n",
      "dask_issues/issue_detail_06163.json\n",
      "dask_issues/issue_detail_06164.json\n",
      "dask_issues/issue_detail_06219.json\n",
      "dask_issues/issue_detail_06227.json\n",
      "dask_issues/issue_detail_06228.json\n",
      "dask_issues/issue_detail_06230.json\n"
     ]
    },
    {
     "name": "stderr",
     "output_type": "stream",
     "text": [
      " 29%|██▉       | 309/1055 [00:06<00:17, 42.11it/s]"
     ]
    },
    {
     "name": "stdout",
     "output_type": "stream",
     "text": [
      "dask_issues/issue_detail_06242.json\n",
      "dask_issues/issue_detail_06246.json\n",
      "dask_issues/issue_detail_06248.json\n",
      "dask_issues/issue_detail_06272.json\n",
      "dask_issues/issue_detail_06275.json\n",
      "dask_issues/issue_detail_06276.json\n",
      "dask_issues/issue_detail_06288.json\n"
     ]
    },
    {
     "name": "stderr",
     "output_type": "stream",
     "text": [
      " 30%|██▉       | 315/1055 [00:06<00:16, 45.69it/s]"
     ]
    },
    {
     "name": "stdout",
     "output_type": "stream",
     "text": [
      "dask_issues/issue_detail_06306.json\n",
      "dask_issues/issue_detail_06312.json\n",
      "dask_issues/issue_detail_06314.json\n",
      "dask_issues/issue_detail_06315.json\n",
      "dask_issues/issue_detail_06316.json\n",
      "dask_issues/issue_detail_06324.json\n",
      "dask_issues/issue_detail_06329.json\n",
      "dask_issues/issue_detail_06332.json\n",
      "dask_issues/issue_detail_06333.json\n",
      "dask_issues/issue_detail_06341.json\n",
      "dask_issues/issue_detail_06344.json\n"
     ]
    },
    {
     "name": "stderr",
     "output_type": "stream",
     "text": [
      " 31%|███       | 327/1055 [00:06<00:15, 48.23it/s]"
     ]
    },
    {
     "name": "stdout",
     "output_type": "stream",
     "text": [
      "dask_issues/issue_detail_06352.json\n",
      "dask_issues/issue_detail_06354.json\n",
      "dask_issues/issue_detail_06363.json\n",
      "dask_issues/issue_detail_06380.json\n",
      "dask_issues/issue_detail_06385.json\n",
      "dask_issues/issue_detail_06386.json\n",
      "dask_issues/issue_detail_06387.json\n",
      "dask_issues/issue_detail_06388.json\n",
      "dask_issues/issue_detail_06400.json\n",
      "dask_issues/issue_detail_06405.json\n",
      "dask_issues/issue_detail_06410.json\n"
     ]
    },
    {
     "name": "stderr",
     "output_type": "stream",
     "text": [
      " 32%|███▏      | 339/1055 [00:07<00:15, 47.41it/s]"
     ]
    },
    {
     "name": "stdout",
     "output_type": "stream",
     "text": [
      "dask_issues/issue_detail_06419.json\n",
      "dask_issues/issue_detail_06440.json\n",
      "dask_issues/issue_detail_06448.json\n",
      "dask_issues/issue_detail_06450.json\n",
      "dask_issues/issue_detail_06474.json\n",
      "dask_issues/issue_detail_06484.json\n",
      "dask_issues/issue_detail_06506.json\n",
      "dask_issues/issue_detail_06511.json\n",
      "dask_issues/issue_detail_06519.json\n",
      "dask_issues/issue_detail_06520.json\n"
     ]
    },
    {
     "name": "stderr",
     "output_type": "stream",
     "text": [
      " 33%|███▎      | 350/1055 [00:07<00:14, 50.24it/s]"
     ]
    },
    {
     "name": "stdout",
     "output_type": "stream",
     "text": [
      "dask_issues/issue_detail_06535.json\n",
      "dask_issues/issue_detail_06537.json\n",
      "dask_issues/issue_detail_06538.json\n",
      "dask_issues/issue_detail_06541.json\n",
      "dask_issues/issue_detail_06543.json\n",
      "dask_issues/issue_detail_06550.json\n",
      "dask_issues/issue_detail_06562.json\n",
      "dask_issues/issue_detail_06565.json\n",
      "dask_issues/issue_detail_06566.json\n",
      "dask_issues/issue_detail_06574.json\n"
     ]
    },
    {
     "name": "stderr",
     "output_type": "stream",
     "text": [
      " 34%|███▎      | 356/1055 [00:07<00:14, 47.67it/s]"
     ]
    },
    {
     "name": "stdout",
     "output_type": "stream",
     "text": [
      "dask_issues/issue_detail_06575.json\n",
      "dask_issues/issue_detail_06579.json\n",
      "dask_issues/issue_detail_06587.json\n",
      "dask_issues/issue_detail_06606.json\n",
      "dask_issues/issue_detail_06614.json\n",
      "dask_issues/issue_detail_06627.json\n",
      "dask_issues/issue_detail_06635.json\n",
      "dask_issues/issue_detail_06636.json\n",
      "dask_issues/issue_detail_06637.json\n",
      "dask_issues/issue_detail_06649.json\n"
     ]
    },
    {
     "name": "stderr",
     "output_type": "stream",
     "text": [
      " 35%|███▍      | 368/1055 [00:07<00:15, 45.48it/s]"
     ]
    },
    {
     "name": "stdout",
     "output_type": "stream",
     "text": [
      "dask_issues/issue_detail_06659.json\n",
      "dask_issues/issue_detail_06672.json\n",
      "dask_issues/issue_detail_06673.json\n",
      "dask_issues/issue_detail_06691.json\n",
      "dask_issues/issue_detail_06698.json\n",
      "dask_issues/issue_detail_06703.json\n",
      "dask_issues/issue_detail_06705.json\n",
      "dask_issues/issue_detail_06709.json\n",
      "dask_issues/issue_detail_06732.json\n"
     ]
    },
    {
     "name": "stderr",
     "output_type": "stream",
     "text": [
      " 35%|███▌      | 373/1055 [00:07<00:14, 46.32it/s]"
     ]
    },
    {
     "name": "stdout",
     "output_type": "stream",
     "text": [
      "dask_issues/issue_detail_06743.json\n",
      "dask_issues/issue_detail_06746.json\n",
      "dask_issues/issue_detail_06762.json\n",
      "dask_issues/issue_detail_06790.json\n",
      "dask_issues/issue_detail_06800.json\n",
      "dask_issues/issue_detail_06805.json\n"
     ]
    },
    {
     "name": "stderr",
     "output_type": "stream",
     "text": [
      " 36%|███▋      | 383/1055 [00:08<00:16, 40.58it/s]"
     ]
    },
    {
     "name": "stdout",
     "output_type": "stream",
     "text": [
      "dask_issues/issue_detail_06811.json\n",
      "dask_issues/issue_detail_06812.json\n",
      "dask_issues/issue_detail_06822.json\n",
      "dask_issues/issue_detail_06827.json\n",
      "dask_issues/issue_detail_06828.json\n",
      "dask_issues/issue_detail_06833.json\n",
      "dask_issues/issue_detail_06835.json\n",
      "dask_issues/issue_detail_06843.json\n",
      "dask_issues/issue_detail_06844.json\n",
      "dask_issues/issue_detail_06857.json\n"
     ]
    },
    {
     "name": "stderr",
     "output_type": "stream",
     "text": [
      " 37%|███▋      | 388/1055 [00:08<00:15, 42.17it/s]"
     ]
    },
    {
     "name": "stdout",
     "output_type": "stream",
     "text": [
      "dask_issues/issue_detail_06861.json\n",
      "dask_issues/issue_detail_06865.json\n",
      "dask_issues/issue_detail_06868.json\n",
      "dask_issues/issue_detail_06869.json\n",
      "dask_issues/issue_detail_06884.json\n",
      "dask_issues/issue_detail_06904.json\n"
     ]
    },
    {
     "name": "stderr",
     "output_type": "stream",
     "text": [
      " 38%|███▊      | 398/1055 [00:08<00:17, 36.80it/s]"
     ]
    },
    {
     "name": "stdout",
     "output_type": "stream",
     "text": [
      "dask_issues/issue_detail_06910.json\n",
      "dask_issues/issue_detail_06928.json\n",
      "dask_issues/issue_detail_06935.json\n",
      "dask_issues/issue_detail_06956.json\n",
      "dask_issues/issue_detail_06963.json\n",
      "dask_issues/issue_detail_06983.json\n",
      "dask_issues/issue_detail_07015.json\n",
      "dask_issues/issue_detail_07036.json\n",
      "dask_issues/issue_detail_07050.json\n",
      "dask_issues/issue_detail_07082.json\n",
      "dask_issues/issue_detail_07086.json\n"
     ]
    },
    {
     "name": "stderr",
     "output_type": "stream",
     "text": [
      " 39%|███▉      | 409/1055 [00:08<00:15, 42.68it/s]"
     ]
    },
    {
     "name": "stdout",
     "output_type": "stream",
     "text": [
      "dask_issues/issue_detail_07088.json\n",
      "dask_issues/issue_detail_07094.json\n",
      "dask_issues/issue_detail_07107.json\n",
      "dask_issues/issue_detail_07122.json\n",
      "dask_issues/issue_detail_07124.json\n",
      "dask_issues/issue_detail_07134.json\n",
      "dask_issues/issue_detail_07137.json\n",
      "dask_issues/issue_detail_07141.json\n",
      "dask_issues/issue_detail_07148.json\n",
      "dask_issues/issue_detail_07167.json\n",
      "dask_issues/issue_detail_07176.json\n"
     ]
    },
    {
     "name": "stderr",
     "output_type": "stream",
     "text": [
      " 40%|███▉      | 420/1055 [00:09<00:16, 39.13it/s]"
     ]
    },
    {
     "name": "stdout",
     "output_type": "stream",
     "text": [
      "dask_issues/issue_detail_07181.json\n",
      "dask_issues/issue_detail_07187.json\n",
      "dask_issues/issue_detail_07206.json\n",
      "dask_issues/issue_detail_07208.json\n",
      "dask_issues/issue_detail_07218.json\n",
      "dask_issues/issue_detail_07219.json\n",
      "dask_issues/issue_detail_07257.json\n"
     ]
    },
    {
     "name": "stderr",
     "output_type": "stream",
     "text": [
      " 41%|████      | 431/1055 [00:09<00:13, 46.01it/s]"
     ]
    },
    {
     "name": "stdout",
     "output_type": "stream",
     "text": [
      "dask_issues/issue_detail_07266.json\n",
      "dask_issues/issue_detail_07280.json\n",
      "dask_issues/issue_detail_07283.json\n",
      "dask_issues/issue_detail_07285.json\n",
      "dask_issues/issue_detail_07313.json\n",
      "dask_issues/issue_detail_07354.json\n",
      "dask_issues/issue_detail_07371.json\n",
      "dask_issues/issue_detail_07375.json\n",
      "dask_issues/issue_detail_07377.json\n",
      "dask_issues/issue_detail_07399.json\n",
      "dask_issues/issue_detail_07400.json\n"
     ]
    },
    {
     "name": "stderr",
     "output_type": "stream",
     "text": [
      " 42%|████▏     | 441/1055 [00:09<00:12, 47.36it/s]"
     ]
    },
    {
     "name": "stdout",
     "output_type": "stream",
     "text": [
      "dask_issues/issue_detail_07416.json\n",
      "dask_issues/issue_detail_07437.json\n",
      "dask_issues/issue_detail_07459.json\n",
      "dask_issues/issue_detail_07482.json\n",
      "dask_issues/issue_detail_07510.json\n",
      "dask_issues/issue_detail_07545.json\n",
      "dask_issues/issue_detail_07550.json\n",
      "dask_issues/issue_detail_07554.json\n",
      "dask_issues/issue_detail_07574.json\n",
      "dask_issues/issue_detail_07587.json\n"
     ]
    },
    {
     "name": "stderr",
     "output_type": "stream",
     "text": [
      " 43%|████▎     | 452/1055 [00:09<00:12, 50.15it/s]"
     ]
    },
    {
     "name": "stdout",
     "output_type": "stream",
     "text": [
      "dask_issues/issue_detail_07613.json\n",
      "dask_issues/issue_detail_07622.json\n",
      "dask_issues/issue_detail_07639.json\n",
      "dask_issues/issue_detail_07650.json\n",
      "dask_issues/issue_detail_07652.json\n",
      "dask_issues/issue_detail_07655.json\n",
      "dask_issues/issue_detail_07673.json\n",
      "dask_issues/issue_detail_07677.json\n",
      "dask_issues/issue_detail_07686.json\n",
      "dask_issues/issue_detail_07702.json\n",
      "dask_issues/issue_detail_07708.json\n"
     ]
    },
    {
     "name": "stderr",
     "output_type": "stream",
     "text": [
      " 43%|████▎     | 458/1055 [00:09<00:12, 47.23it/s]"
     ]
    },
    {
     "name": "stdout",
     "output_type": "stream",
     "text": [
      "dask_issues/issue_detail_07709.json\n",
      "dask_issues/issue_detail_07722.json\n",
      "dask_issues/issue_detail_07727.json\n",
      "dask_issues/issue_detail_07755.json\n",
      "dask_issues/issue_detail_07767.json\n",
      "dask_issues/issue_detail_07779.json\n",
      "dask_issues/issue_detail_07781.json\n",
      "dask_issues/issue_detail_07788.json\n",
      "dask_issues/issue_detail_07789.json\n"
     ]
    },
    {
     "name": "stderr",
     "output_type": "stream",
     "text": [
      " 44%|████▍     | 469/1055 [00:10<00:12, 47.05it/s]"
     ]
    },
    {
     "name": "stdout",
     "output_type": "stream",
     "text": [
      "dask_issues/issue_detail_07791.json\n",
      "dask_issues/issue_detail_07828.json\n",
      "dask_issues/issue_detail_07850.json\n",
      "dask_issues/issue_detail_07859.json\n",
      "dask_issues/issue_detail_07860.json\n",
      "dask_issues/issue_detail_07885.json\n",
      "dask_issues/issue_detail_07899.json\n",
      "dask_issues/issue_detail_07911.json\n",
      "dask_issues/issue_detail_07923.json\n",
      "dask_issues/issue_detail_07926.json\n",
      "dask_issues/issue_detail_07930.json\n"
     ]
    },
    {
     "name": "stderr",
     "output_type": "stream",
     "text": [
      " 45%|████▌     | 475/1055 [00:10<00:11, 49.48it/s]"
     ]
    },
    {
     "name": "stdout",
     "output_type": "stream",
     "text": [
      "dask_issues/issue_detail_07933.json\n",
      "dask_issues/issue_detail_07941.json\n",
      "dask_issues/issue_detail_07948.json\n",
      "dask_issues/issue_detail_07950.json\n",
      "dask_issues/issue_detail_07951.json\n",
      "dask_issues/issue_detail_07957.json\n",
      "dask_issues/issue_detail_07971.json\n"
     ]
    },
    {
     "name": "stderr",
     "output_type": "stream",
     "text": [
      " 46%|████▌     | 486/1055 [00:10<00:13, 43.18it/s]"
     ]
    },
    {
     "name": "stdout",
     "output_type": "stream",
     "text": [
      "dask_issues/issue_detail_07977.json\n",
      "dask_issues/issue_detail_07996.json\n",
      "dask_issues/issue_detail_07999.json\n",
      "dask_issues/issue_detail_08001.json\n",
      "dask_issues/issue_detail_08020.json\n",
      "dask_issues/issue_detail_08045.json\n",
      "dask_issues/issue_detail_08058.json\n",
      "dask_issues/issue_detail_08084.json\n",
      "dask_issues/issue_detail_08143.json\n",
      "dask_issues/issue_detail_08147.json\n"
     ]
    },
    {
     "name": "stderr",
     "output_type": "stream",
     "text": [
      " 47%|████▋     | 496/1055 [00:10<00:12, 44.82it/s]"
     ]
    },
    {
     "name": "stdout",
     "output_type": "stream",
     "text": [
      "dask_issues/issue_detail_08152.json\n",
      "dask_issues/issue_detail_08153.json\n",
      "dask_issues/issue_detail_08172.json\n",
      "dask_issues/issue_detail_08196.json\n",
      "dask_issues/issue_detail_08216.json\n",
      "dask_issues/issue_detail_08218.json\n",
      "dask_issues/issue_detail_08223.json\n",
      "dask_issues/issue_detail_08229.json\n",
      "dask_issues/issue_detail_08233.json\n",
      "dask_issues/issue_detail_08245.json\n"
     ]
    },
    {
     "name": "stderr",
     "output_type": "stream",
     "text": [
      " 48%|████▊     | 506/1055 [00:10<00:12, 42.85it/s]"
     ]
    },
    {
     "name": "stdout",
     "output_type": "stream",
     "text": [
      "dask_issues/issue_detail_08247.json\n",
      "dask_issues/issue_detail_08262.json\n",
      "dask_issues/issue_detail_08280.json\n",
      "dask_issues/issue_detail_08289.json\n",
      "dask_issues/issue_detail_08292.json\n",
      "dask_issues/issue_detail_08294.json\n",
      "dask_issues/issue_detail_08307.json\n",
      "dask_issues/issue_detail_08308.json\n",
      "dask_issues/issue_detail_08326.json\n"
     ]
    },
    {
     "name": "stderr",
     "output_type": "stream",
     "text": [
      " 49%|████▉     | 516/1055 [00:11<00:12, 44.34it/s]"
     ]
    },
    {
     "name": "stdout",
     "output_type": "stream",
     "text": [
      "dask_issues/issue_detail_08334.json\n",
      "dask_issues/issue_detail_08340.json\n",
      "dask_issues/issue_detail_08353.json\n",
      "dask_issues/issue_detail_08355.json\n",
      "dask_issues/issue_detail_08357.json\n",
      "dask_issues/issue_detail_08361.json\n",
      "dask_issues/issue_detail_08377.json\n",
      "dask_issues/issue_detail_08380.json\n",
      "dask_issues/issue_detail_08415.json\n",
      "dask_issues/issue_detail_08421.json\n"
     ]
    },
    {
     "name": "stderr",
     "output_type": "stream",
     "text": [
      " 50%|████▉     | 526/1055 [00:11<00:11, 45.99it/s]"
     ]
    },
    {
     "name": "stdout",
     "output_type": "stream",
     "text": [
      "dask_issues/issue_detail_08430.json\n",
      "dask_issues/issue_detail_08435.json\n",
      "dask_issues/issue_detail_08437.json\n",
      "dask_issues/issue_detail_08442.json\n",
      "dask_issues/issue_detail_08447.json\n",
      "dask_issues/issue_detail_08448.json\n",
      "dask_issues/issue_detail_08451.json\n",
      "dask_issues/issue_detail_08460.json\n",
      "dask_issues/issue_detail_08474.json\n",
      "dask_issues/issue_detail_08476.json\n"
     ]
    },
    {
     "name": "stderr",
     "output_type": "stream",
     "text": [
      " 50%|█████     | 531/1055 [00:11<00:11, 44.83it/s]"
     ]
    },
    {
     "name": "stdout",
     "output_type": "stream",
     "text": [
      "dask_issues/issue_detail_08480.json\n",
      "dask_issues/issue_detail_08481.json\n",
      "dask_issues/issue_detail_08499.json\n",
      "dask_issues/issue_detail_08506.json\n",
      "dask_issues/issue_detail_08528.json\n",
      "dask_issues/issue_detail_08530.json\n"
     ]
    },
    {
     "name": "stderr",
     "output_type": "stream",
     "text": [
      " 51%|█████     | 540/1055 [00:11<00:13, 36.86it/s]"
     ]
    },
    {
     "name": "stdout",
     "output_type": "stream",
     "text": [
      "dask_issues/issue_detail_08546.json\n",
      "dask_issues/issue_detail_08549.json\n",
      "dask_issues/issue_detail_08560.json\n",
      "dask_issues/issue_detail_08567.json\n",
      "dask_issues/issue_detail_08570.json\n",
      "dask_issues/issue_detail_08579.json\n",
      "dask_issues/issue_detail_08581.json\n",
      "dask_issues/issue_detail_08585.json\n",
      "dask_issues/issue_detail_08616.json\n"
     ]
    },
    {
     "name": "stderr",
     "output_type": "stream",
     "text": [
      " 52%|█████▏    | 550/1055 [00:12<00:12, 39.78it/s]"
     ]
    },
    {
     "name": "stdout",
     "output_type": "stream",
     "text": [
      "dask_issues/issue_detail_08620.json\n",
      "dask_issues/issue_detail_08635.json\n",
      "dask_issues/issue_detail_08638.json\n",
      "dask_issues/issue_detail_08645.json\n",
      "dask_issues/issue_detail_08656.json\n",
      "dask_issues/issue_detail_08658.json\n",
      "dask_issues/issue_detail_08659.json\n",
      "dask_issues/issue_detail_08750.json\n"
     ]
    },
    {
     "name": "stderr",
     "output_type": "stream",
     "text": [
      " 53%|█████▎    | 560/1055 [00:12<00:11, 42.10it/s]"
     ]
    },
    {
     "name": "stdout",
     "output_type": "stream",
     "text": [
      "dask_issues/issue_detail_08760.json\n",
      "dask_issues/issue_detail_08769.json\n",
      "dask_issues/issue_detail_08800.json\n",
      "dask_issues/issue_detail_08808.json\n",
      "dask_issues/issue_detail_08813.json\n",
      "dask_issues/issue_detail_08815.json\n",
      "dask_issues/issue_detail_08816.json\n",
      "dask_issues/issue_detail_08821.json\n",
      "dask_issues/issue_detail_08829.json\n",
      "dask_issues/issue_detail_08842.json\n"
     ]
    },
    {
     "name": "stderr",
     "output_type": "stream",
     "text": [
      " 54%|█████▍    | 570/1055 [00:12<00:10, 45.01it/s]"
     ]
    },
    {
     "name": "stdout",
     "output_type": "stream",
     "text": [
      "dask_issues/issue_detail_08843.json\n",
      "dask_issues/issue_detail_08844.json\n",
      "dask_issues/issue_detail_08845.json\n",
      "dask_issues/issue_detail_08853.json\n",
      "dask_issues/issue_detail_08864.json\n",
      "dask_issues/issue_detail_08870.json\n",
      "dask_issues/issue_detail_08873.json\n",
      "dask_issues/issue_detail_08876.json\n",
      "dask_issues/issue_detail_08877.json\n",
      "dask_issues/issue_detail_08910.json\n"
     ]
    },
    {
     "name": "stderr",
     "output_type": "stream",
     "text": [
      " 55%|█████▍    | 580/1055 [00:12<00:10, 46.65it/s]"
     ]
    },
    {
     "name": "stdout",
     "output_type": "stream",
     "text": [
      "dask_issues/issue_detail_08917.json\n",
      "dask_issues/issue_detail_08918.json\n",
      "dask_issues/issue_detail_08922.json\n",
      "dask_issues/issue_detail_08931.json\n",
      "dask_issues/issue_detail_08934.json\n",
      "dask_issues/issue_detail_08948.json\n",
      "dask_issues/issue_detail_08958.json\n",
      "dask_issues/issue_detail_08959.json\n",
      "dask_issues/issue_detail_08960.json\n",
      "dask_issues/issue_detail_08965.json\n"
     ]
    },
    {
     "name": "stderr",
     "output_type": "stream",
     "text": [
      " 56%|█████▌    | 590/1055 [00:12<00:10, 45.49it/s]"
     ]
    },
    {
     "name": "stdout",
     "output_type": "stream",
     "text": [
      "dask_issues/issue_detail_08980.json\n",
      "dask_issues/issue_detail_08983.json\n",
      "dask_issues/issue_detail_09007.json\n",
      "dask_issues/issue_detail_09008.json\n",
      "dask_issues/issue_detail_09020.json\n",
      "dask_issues/issue_detail_09021.json\n",
      "dask_issues/issue_detail_09028.json\n",
      "dask_issues/issue_detail_09030.json\n",
      "dask_issues/issue_detail_09033.json\n",
      "dask_issues/issue_detail_09034.json\n",
      "dask_issues/issue_detail_09044.json\n"
     ]
    },
    {
     "name": "stderr",
     "output_type": "stream",
     "text": [
      " 56%|█████▋    | 595/1055 [00:13<00:11, 39.54it/s]"
     ]
    },
    {
     "name": "stdout",
     "output_type": "stream",
     "text": [
      "dask_issues/issue_detail_09047.json\n",
      "dask_issues/issue_detail_09049.json\n",
      "dask_issues/issue_detail_09051.json\n",
      "dask_issues/issue_detail_09055.json\n",
      "dask_issues/issue_detail_09056.json\n",
      "dask_issues/issue_detail_09067.json\n",
      "dask_issues/issue_detail_09069.json\n"
     ]
    },
    {
     "name": "stderr",
     "output_type": "stream",
     "text": [
      " 57%|█████▋    | 606/1055 [00:13<00:10, 42.11it/s]"
     ]
    },
    {
     "name": "stdout",
     "output_type": "stream",
     "text": [
      "dask_issues/issue_detail_09076.json\n",
      "dask_issues/issue_detail_09079.json\n",
      "dask_issues/issue_detail_09085.json\n",
      "dask_issues/issue_detail_09088.json\n",
      "dask_issues/issue_detail_09093.json\n",
      "dask_issues/issue_detail_09096.json\n",
      "dask_issues/issue_detail_09105.json\n",
      "dask_issues/issue_detail_09109.json\n",
      "dask_issues/issue_detail_09117.json\n",
      "dask_issues/issue_detail_09121.json\n"
     ]
    },
    {
     "name": "stderr",
     "output_type": "stream",
     "text": [
      " 58%|█████▊    | 616/1055 [00:13<00:09, 44.26it/s]"
     ]
    },
    {
     "name": "stdout",
     "output_type": "stream",
     "text": [
      "dask_issues/issue_detail_09123.json\n",
      "dask_issues/issue_detail_09129.json\n",
      "dask_issues/issue_detail_09137.json\n",
      "dask_issues/issue_detail_09155.json\n",
      "dask_issues/issue_detail_09158.json\n",
      "dask_issues/issue_detail_09159.json\n",
      "dask_issues/issue_detail_09164.json\n",
      "dask_issues/issue_detail_09187.json\n",
      "dask_issues/issue_detail_09197.json\n",
      "dask_issues/issue_detail_09198.json\n"
     ]
    },
    {
     "name": "stderr",
     "output_type": "stream",
     "text": [
      " 59%|█████▉    | 626/1055 [00:13<00:09, 43.29it/s]"
     ]
    },
    {
     "name": "stdout",
     "output_type": "stream",
     "text": [
      "dask_issues/issue_detail_09207.json\n",
      "dask_issues/issue_detail_09211.json\n",
      "dask_issues/issue_detail_09216.json\n",
      "dask_issues/issue_detail_09220.json\n",
      "dask_issues/issue_detail_09224.json\n",
      "dask_issues/issue_detail_09225.json\n",
      "dask_issues/issue_detail_09227.json\n",
      "dask_issues/issue_detail_09236.json\n",
      "dask_issues/issue_detail_09243.json\n"
     ]
    },
    {
     "name": "stderr",
     "output_type": "stream",
     "text": [
      " 60%|██████    | 636/1055 [00:13<00:09, 44.28it/s]"
     ]
    },
    {
     "name": "stdout",
     "output_type": "stream",
     "text": [
      "dask_issues/issue_detail_09245.json\n",
      "dask_issues/issue_detail_09256.json\n",
      "dask_issues/issue_detail_09262.json\n",
      "dask_issues/issue_detail_09266.json\n",
      "dask_issues/issue_detail_09273.json\n",
      "dask_issues/issue_detail_09277.json\n",
      "dask_issues/issue_detail_09280.json\n",
      "dask_issues/issue_detail_09292.json\n",
      "dask_issues/issue_detail_09293.json\n"
     ]
    },
    {
     "name": "stderr",
     "output_type": "stream",
     "text": [
      " 61%|██████    | 641/1055 [00:14<00:09, 41.58it/s]"
     ]
    },
    {
     "name": "stdout",
     "output_type": "stream",
     "text": [
      "dask_issues/issue_detail_09294.json\n",
      "dask_issues/issue_detail_09298.json\n",
      "dask_issues/issue_detail_09303.json\n",
      "dask_issues/issue_detail_09305.json\n",
      "dask_issues/issue_detail_09311.json\n",
      "dask_issues/issue_detail_09331.json\n"
     ]
    },
    {
     "name": "stderr",
     "output_type": "stream",
     "text": [
      " 62%|██████▏   | 651/1055 [00:14<00:11, 34.52it/s]"
     ]
    },
    {
     "name": "stdout",
     "output_type": "stream",
     "text": [
      "dask_issues/issue_detail_09351.json\n",
      "dask_issues/issue_detail_09355.json\n",
      "dask_issues/issue_detail_09356.json\n",
      "dask_issues/issue_detail_09358.json\n",
      "dask_issues/issue_detail_09363.json\n",
      "dask_issues/issue_detail_09368.json\n",
      "dask_issues/issue_detail_09370.json\n",
      "dask_issues/issue_detail_09373.json\n",
      "dask_issues/issue_detail_09374.json\n"
     ]
    },
    {
     "name": "stderr",
     "output_type": "stream",
     "text": [
      " 63%|██████▎   | 661/1055 [00:14<00:10, 38.13it/s]"
     ]
    },
    {
     "name": "stdout",
     "output_type": "stream",
     "text": [
      "dask_issues/issue_detail_09379.json\n",
      "dask_issues/issue_detail_09380.json\n",
      "dask_issues/issue_detail_09381.json\n",
      "dask_issues/issue_detail_09382.json\n",
      "dask_issues/issue_detail_09383.json\n",
      "dask_issues/issue_detail_09384.json\n",
      "dask_issues/issue_detail_09387.json\n",
      "dask_issues/issue_detail_09392.json\n",
      "dask_issues/issue_detail_09393.json\n",
      "dask_issues/issue_detail_09400.json\n"
     ]
    },
    {
     "name": "stderr",
     "output_type": "stream",
     "text": [
      " 64%|██████▎   | 671/1055 [00:14<00:08, 42.71it/s]"
     ]
    },
    {
     "name": "stdout",
     "output_type": "stream",
     "text": [
      "dask_issues/issue_detail_09401.json\n",
      "dask_issues/issue_detail_09407.json\n",
      "dask_issues/issue_detail_09412.json\n",
      "dask_issues/issue_detail_09415.json\n",
      "dask_issues/issue_detail_09416.json\n",
      "dask_issues/issue_detail_09417.json\n",
      "dask_issues/issue_detail_09420.json\n",
      "dask_issues/issue_detail_09422.json\n",
      "dask_issues/issue_detail_09425.json\n",
      "dask_issues/issue_detail_09427.json\n"
     ]
    },
    {
     "name": "stderr",
     "output_type": "stream",
     "text": [
      " 64%|██████▍   | 676/1055 [00:15<00:11, 34.25it/s]"
     ]
    },
    {
     "name": "stdout",
     "output_type": "stream",
     "text": [
      "dask_issues/issue_detail_09434.json\n",
      "dask_issues/issue_detail_09440.json\n",
      "dask_issues/issue_detail_09444.json\n",
      "dask_issues/issue_detail_09450.json\n",
      "dask_issues/issue_detail_09454.json\n"
     ]
    },
    {
     "name": "stderr",
     "output_type": "stream",
     "text": [
      " 65%|██████▌   | 686/1055 [00:15<00:09, 37.71it/s]"
     ]
    },
    {
     "name": "stdout",
     "output_type": "stream",
     "text": [
      "dask_issues/issue_detail_09463.json\n",
      "dask_issues/issue_detail_09467.json\n",
      "dask_issues/issue_detail_09468.json\n",
      "dask_issues/issue_detail_09470.json\n",
      "dask_issues/issue_detail_09471.json\n",
      "dask_issues/issue_detail_09473.json\n",
      "dask_issues/issue_detail_09476.json\n",
      "dask_issues/issue_detail_09499.json\n",
      "dask_issues/issue_detail_09501.json\n",
      "dask_issues/issue_detail_09502.json\n"
     ]
    },
    {
     "name": "stderr",
     "output_type": "stream",
     "text": [
      " 66%|██████▌   | 696/1055 [00:15<00:08, 41.68it/s]"
     ]
    },
    {
     "name": "stdout",
     "output_type": "stream",
     "text": [
      "dask_issues/issue_detail_09506.json\n",
      "dask_issues/issue_detail_09508.json\n",
      "dask_issues/issue_detail_09509.json\n",
      "dask_issues/issue_detail_09510.json\n",
      "dask_issues/issue_detail_09512.json\n",
      "dask_issues/issue_detail_09515.json\n",
      "dask_issues/issue_detail_09517.json\n",
      "dask_issues/issue_detail_09521.json\n",
      "dask_issues/issue_detail_09522.json\n",
      "dask_issues/issue_detail_09523.json\n"
     ]
    },
    {
     "name": "stderr",
     "output_type": "stream",
     "text": [
      " 67%|██████▋   | 706/1055 [00:15<00:08, 42.05it/s]"
     ]
    },
    {
     "name": "stdout",
     "output_type": "stream",
     "text": [
      "dask_issues/issue_detail_09525.json\n",
      "dask_issues/issue_detail_09529.json\n",
      "dask_issues/issue_detail_09539.json\n",
      "dask_issues/issue_detail_09541.json\n",
      "dask_issues/issue_detail_09546.json\n",
      "dask_issues/issue_detail_09548.json\n",
      "dask_issues/issue_detail_09556.json\n",
      "dask_issues/issue_detail_09557.json\n",
      "dask_issues/issue_detail_09558.json\n",
      "dask_issues/issue_detail_09560.json\n"
     ]
    },
    {
     "name": "stderr",
     "output_type": "stream",
     "text": [
      " 68%|██████▊   | 716/1055 [00:16<00:08, 41.20it/s]"
     ]
    },
    {
     "name": "stdout",
     "output_type": "stream",
     "text": [
      "dask_issues/issue_detail_09565.json\n",
      "dask_issues/issue_detail_09574.json\n",
      "dask_issues/issue_detail_09576.json\n",
      "dask_issues/issue_detail_09581.json\n",
      "dask_issues/issue_detail_09586.json\n",
      "dask_issues/issue_detail_09588.json\n",
      "dask_issues/issue_detail_09590.json\n",
      "dask_issues/issue_detail_09593.json\n",
      "dask_issues/issue_detail_09594.json\n",
      "dask_issues/issue_detail_09601.json\n",
      "dask_issues/issue_detail_09608.json\n",
      "dask_issues/issue_detail_09611.json\n"
     ]
    },
    {
     "name": "stderr",
     "output_type": "stream",
     "text": [
      " 69%|██████▉   | 726/1055 [00:16<00:10, 32.27it/s]"
     ]
    },
    {
     "name": "stdout",
     "output_type": "stream",
     "text": [
      "dask_issues/issue_detail_09612.json\n",
      "dask_issues/issue_detail_09619.json\n",
      "dask_issues/issue_detail_09620.json\n",
      "dask_issues/issue_detail_09623.json\n",
      "dask_issues/issue_detail_09656.json\n",
      "dask_issues/issue_detail_09663.json\n",
      "dask_issues/issue_detail_09666.json\n",
      "dask_issues/issue_detail_09674.json\n",
      "dask_issues/issue_detail_09694.json\n"
     ]
    },
    {
     "name": "stderr",
     "output_type": "stream",
     "text": [
      " 70%|██████▉   | 734/1055 [00:16<00:10, 30.82it/s]"
     ]
    },
    {
     "name": "stdout",
     "output_type": "stream",
     "text": [
      "dask_issues/issue_detail_09698.json\n",
      "dask_issues/issue_detail_09700.json\n",
      "dask_issues/issue_detail_09702.json\n",
      "dask_issues/issue_detail_09705.json\n",
      "dask_issues/issue_detail_09706.json\n",
      "dask_issues/issue_detail_09709.json\n"
     ]
    },
    {
     "name": "stderr",
     "output_type": "stream",
     "text": [
      " 71%|███████   | 744/1055 [00:16<00:08, 36.53it/s]"
     ]
    },
    {
     "name": "stdout",
     "output_type": "stream",
     "text": [
      "dask_issues/issue_detail_09710.json\n",
      "dask_issues/issue_detail_09711.json\n",
      "dask_issues/issue_detail_09712.json\n",
      "dask_issues/issue_detail_09713.json\n",
      "dask_issues/issue_detail_09714.json\n",
      "dask_issues/issue_detail_09718.json\n",
      "dask_issues/issue_detail_09725.json\n",
      "dask_issues/issue_detail_09729.json\n",
      "dask_issues/issue_detail_09730.json\n"
     ]
    },
    {
     "name": "stderr",
     "output_type": "stream",
     "text": [
      " 71%|███████   | 749/1055 [00:17<00:08, 37.94it/s]"
     ]
    },
    {
     "name": "stdout",
     "output_type": "stream",
     "text": [
      "dask_issues/issue_detail_09732.json\n",
      "dask_issues/issue_detail_09735.json\n",
      "dask_issues/issue_detail_09763.json\n",
      "dask_issues/issue_detail_09765.json\n",
      "dask_issues/issue_detail_09766.json\n",
      "dask_issues/issue_detail_09769.json\n",
      "dask_issues/issue_detail_09773.json\n",
      "dask_issues/issue_detail_09778.json\n",
      "dask_issues/issue_detail_09780.json\n"
     ]
    },
    {
     "name": "stderr",
     "output_type": "stream",
     "text": [
      " 72%|███████▏  | 759/1055 [00:17<00:07, 39.84it/s]"
     ]
    },
    {
     "name": "stdout",
     "output_type": "stream",
     "text": [
      "dask_issues/issue_detail_09782.json\n",
      "dask_issues/issue_detail_09791.json\n",
      "dask_issues/issue_detail_09795.json\n",
      "dask_issues/issue_detail_09798.json\n",
      "dask_issues/issue_detail_09800.json\n",
      "dask_issues/issue_detail_09802.json\n",
      "dask_issues/issue_detail_09803.json\n",
      "dask_issues/issue_detail_09804.json\n",
      "dask_issues/issue_detail_09814.json\n"
     ]
    },
    {
     "name": "stderr",
     "output_type": "stream",
     "text": [
      " 73%|███████▎  | 769/1055 [00:17<00:06, 41.15it/s]"
     ]
    },
    {
     "name": "stdout",
     "output_type": "stream",
     "text": [
      "dask_issues/issue_detail_09819.json\n",
      "dask_issues/issue_detail_09821.json\n",
      "dask_issues/issue_detail_09824.json\n",
      "dask_issues/issue_detail_09825.json\n",
      "dask_issues/issue_detail_09832.json\n",
      "dask_issues/issue_detail_09835.json\n",
      "dask_issues/issue_detail_09837.json\n",
      "dask_issues/issue_detail_09846.json\n",
      "dask_issues/issue_detail_09847.json\n",
      "dask_issues/issue_detail_09849.json\n"
     ]
    },
    {
     "name": "stderr",
     "output_type": "stream",
     "text": [
      " 74%|███████▍  | 780/1055 [00:17<00:06, 44.29it/s]"
     ]
    },
    {
     "name": "stdout",
     "output_type": "stream",
     "text": [
      "dask_issues/issue_detail_09850.json\n",
      "dask_issues/issue_detail_09856.json\n",
      "dask_issues/issue_detail_09857.json\n",
      "dask_issues/issue_detail_09859.json\n",
      "dask_issues/issue_detail_09861.json\n",
      "dask_issues/issue_detail_09866.json\n",
      "dask_issues/issue_detail_09874.json\n",
      "dask_issues/issue_detail_09879.json\n",
      "dask_issues/issue_detail_09882.json\n"
     ]
    },
    {
     "name": "stderr",
     "output_type": "stream",
     "text": [
      " 74%|███████▍  | 785/1055 [00:17<00:05, 45.25it/s]"
     ]
    },
    {
     "name": "stdout",
     "output_type": "stream",
     "text": [
      "dask_issues/issue_detail_09883.json\n",
      "dask_issues/issue_detail_09888.json\n",
      "dask_issues/issue_detail_09894.json\n",
      "dask_issues/issue_detail_09902.json\n",
      "dask_issues/issue_detail_09913.json\n",
      "dask_issues/issue_detail_09914.json\n"
     ]
    },
    {
     "name": "stderr",
     "output_type": "stream",
     "text": [
      " 75%|███████▌  | 794/1055 [00:18<00:11, 22.54it/s]"
     ]
    },
    {
     "name": "stdout",
     "output_type": "stream",
     "text": [
      "dask_issues/issue_detail_09915.json\n",
      "dask_issues/issue_detail_09917.json\n",
      "dask_issues/issue_detail_09923.json\n",
      "dask_issues/issue_detail_09925.json\n",
      "dask_issues/issue_detail_09927.json\n",
      "dask_issues/issue_detail_09934.json\n",
      "dask_issues/issue_detail_09935.json\n",
      "dask_issues/issue_detail_09942.json\n"
     ]
    },
    {
     "name": "stderr",
     "output_type": "stream",
     "text": [
      " 76%|███████▌  | 804/1055 [00:18<00:08, 30.38it/s]"
     ]
    },
    {
     "name": "stdout",
     "output_type": "stream",
     "text": [
      "dask_issues/issue_detail_09946.json\n",
      "dask_issues/issue_detail_09954.json\n",
      "dask_issues/issue_detail_09957.json\n",
      "dask_issues/issue_detail_09958.json\n",
      "dask_issues/issue_detail_09964.json\n",
      "dask_issues/issue_detail_09968.json\n",
      "dask_issues/issue_detail_09969.json\n",
      "dask_issues/issue_detail_09970.json\n",
      "dask_issues/issue_detail_09974.json\n",
      "dask_issues/issue_detail_09992.json\n"
     ]
    },
    {
     "name": "stderr",
     "output_type": "stream",
     "text": [
      " 77%|███████▋  | 814/1055 [00:19<00:06, 36.77it/s]"
     ]
    },
    {
     "name": "stdout",
     "output_type": "stream",
     "text": [
      "dask_issues/issue_detail_09996.json\n",
      "dask_issues/issue_detail_09998.json\n",
      "dask_issues/issue_detail_10006.json\n",
      "dask_issues/issue_detail_10010.json\n",
      "dask_issues/issue_detail_10014.json\n",
      "dask_issues/issue_detail_10016.json\n",
      "dask_issues/issue_detail_10019.json\n",
      "dask_issues/issue_detail_10020.json\n",
      "dask_issues/issue_detail_10029.json\n",
      "dask_issues/issue_detail_10034.json\n"
     ]
    },
    {
     "name": "stderr",
     "output_type": "stream",
     "text": [
      " 78%|███████▊  | 824/1055 [00:19<00:05, 39.55it/s]"
     ]
    },
    {
     "name": "stdout",
     "output_type": "stream",
     "text": [
      "dask_issues/issue_detail_10045.json\n",
      "dask_issues/issue_detail_10053.json\n",
      "dask_issues/issue_detail_10057.json\n",
      "dask_issues/issue_detail_10059.json\n",
      "dask_issues/issue_detail_10060.json\n",
      "dask_issues/issue_detail_10061.json\n",
      "dask_issues/issue_detail_10067.json\n",
      "dask_issues/issue_detail_10069.json\n",
      "dask_issues/issue_detail_10072.json\n",
      "dask_issues/issue_detail_10074.json\n"
     ]
    },
    {
     "name": "stderr",
     "output_type": "stream",
     "text": [
      " 79%|███████▉  | 834/1055 [00:19<00:05, 42.05it/s]"
     ]
    },
    {
     "name": "stdout",
     "output_type": "stream",
     "text": [
      "dask_issues/issue_detail_10075.json\n",
      "dask_issues/issue_detail_10077.json\n",
      "dask_issues/issue_detail_10080.json\n",
      "dask_issues/issue_detail_10083.json\n",
      "dask_issues/issue_detail_10084.json\n",
      "dask_issues/issue_detail_10107.json\n",
      "dask_issues/issue_detail_10117.json\n",
      "dask_issues/issue_detail_10119.json\n",
      "dask_issues/issue_detail_10131.json\n"
     ]
    },
    {
     "name": "stderr",
     "output_type": "stream",
     "text": [
      " 80%|███████▉  | 839/1055 [00:19<00:05, 40.98it/s]"
     ]
    },
    {
     "name": "stdout",
     "output_type": "stream",
     "text": [
      "dask_issues/issue_detail_10132.json\n",
      "dask_issues/issue_detail_10139.json\n",
      "dask_issues/issue_detail_10143.json\n",
      "dask_issues/issue_detail_10151.json\n",
      "dask_issues/issue_detail_10158.json\n",
      "dask_issues/issue_detail_10167.json\n",
      "dask_issues/issue_detail_10174.json\n",
      "dask_issues/issue_detail_10175.json\n",
      "dask_issues/issue_detail_10178.json\n"
     ]
    },
    {
     "name": "stderr",
     "output_type": "stream",
     "text": [
      " 80%|████████  | 849/1055 [00:19<00:05, 35.00it/s]"
     ]
    },
    {
     "name": "stdout",
     "output_type": "stream",
     "text": [
      "dask_issues/issue_detail_10183.json\n",
      "dask_issues/issue_detail_10192.json\n",
      "dask_issues/issue_detail_10193.json\n",
      "dask_issues/issue_detail_10195.json\n",
      "dask_issues/issue_detail_10196.json\n",
      "dask_issues/issue_detail_10198.json\n"
     ]
    },
    {
     "name": "stderr",
     "output_type": "stream",
     "text": [
      " 81%|████████  | 854/1055 [00:20<00:05, 37.94it/s]"
     ]
    },
    {
     "name": "stdout",
     "output_type": "stream",
     "text": [
      "dask_issues/issue_detail_10199.json\n",
      "dask_issues/issue_detail_10213.json\n",
      "dask_issues/issue_detail_10217.json\n",
      "dask_issues/issue_detail_10237.json\n",
      "dask_issues/issue_detail_10238.json\n",
      "dask_issues/issue_detail_10239.json\n",
      "dask_issues/issue_detail_10249.json\n",
      "dask_issues/issue_detail_10265.json\n",
      "dask_issues/issue_detail_10269.json\n"
     ]
    },
    {
     "name": "stderr",
     "output_type": "stream",
     "text": [
      " 82%|████████▏ | 863/1055 [00:20<00:05, 37.27it/s]"
     ]
    },
    {
     "name": "stdout",
     "output_type": "stream",
     "text": [
      "dask_issues/issue_detail_10270.json\n",
      "dask_issues/issue_detail_10273.json\n",
      "dask_issues/issue_detail_10276.json\n",
      "dask_issues/issue_detail_10277.json\n",
      "dask_issues/issue_detail_10284.json\n",
      "dask_issues/issue_detail_10297.json\n",
      "dask_issues/issue_detail_10298.json\n",
      "dask_issues/issue_detail_10302.json\n",
      "dask_issues/issue_detail_10324.json\n"
     ]
    },
    {
     "name": "stderr",
     "output_type": "stream",
     "text": [
      " 83%|████████▎ | 873/1055 [00:20<00:05, 31.41it/s]"
     ]
    },
    {
     "name": "stdout",
     "output_type": "stream",
     "text": [
      "dask_issues/issue_detail_10325.json\n",
      "dask_issues/issue_detail_10327.json\n",
      "dask_issues/issue_detail_10337.json\n",
      "dask_issues/issue_detail_10339.json\n",
      "dask_issues/issue_detail_10366.json\n",
      "dask_issues/issue_detail_10368.json\n",
      "dask_issues/issue_detail_10369.json\n",
      "dask_issues/issue_detail_10374.json\n",
      "dask_issues/issue_detail_10375.json\n",
      "dask_issues/issue_detail_10376.json\n"
     ]
    },
    {
     "name": "stderr",
     "output_type": "stream",
     "text": [
      " 84%|████████▎ | 883/1055 [00:20<00:04, 37.75it/s]"
     ]
    },
    {
     "name": "stdout",
     "output_type": "stream",
     "text": [
      "dask_issues/issue_detail_10386.json\n",
      "dask_issues/issue_detail_10387.json\n",
      "dask_issues/issue_detail_10388.json\n",
      "dask_issues/issue_detail_10389.json\n",
      "dask_issues/issue_detail_10396.json\n",
      "dask_issues/issue_detail_10399.json\n",
      "dask_issues/issue_detail_10409.json\n",
      "dask_issues/issue_detail_10413.json\n",
      "dask_issues/issue_detail_10415.json\n"
     ]
    },
    {
     "name": "stderr",
     "output_type": "stream",
     "text": [
      " 85%|████████▍ | 893/1055 [00:21<00:04, 39.72it/s]"
     ]
    },
    {
     "name": "stdout",
     "output_type": "stream",
     "text": [
      "dask_issues/issue_detail_10416.json\n",
      "dask_issues/issue_detail_10417.json\n",
      "dask_issues/issue_detail_10430.json\n",
      "dask_issues/issue_detail_10431.json\n",
      "dask_issues/issue_detail_10432.json\n",
      "dask_issues/issue_detail_10433.json\n",
      "dask_issues/issue_detail_10442.json\n",
      "dask_issues/issue_detail_10444.json\n",
      "dask_issues/issue_detail_10448.json\n"
     ]
    },
    {
     "name": "stderr",
     "output_type": "stream",
     "text": [
      " 86%|████████▌ | 903/1055 [00:21<00:03, 40.34it/s]"
     ]
    },
    {
     "name": "stdout",
     "output_type": "stream",
     "text": [
      "dask_issues/issue_detail_10451.json\n",
      "dask_issues/issue_detail_10452.json\n",
      "dask_issues/issue_detail_10463.json\n",
      "dask_issues/issue_detail_10464.json\n",
      "dask_issues/issue_detail_10465.json\n",
      "dask_issues/issue_detail_10466.json\n",
      "dask_issues/issue_detail_10467.json\n",
      "dask_issues/issue_detail_10478.json\n",
      "dask_issues/issue_detail_10480.json\n"
     ]
    },
    {
     "name": "stderr",
     "output_type": "stream",
     "text": [
      " 86%|████████▌ | 908/1055 [00:21<00:04, 33.44it/s]"
     ]
    },
    {
     "name": "stdout",
     "output_type": "stream",
     "text": [
      "dask_issues/issue_detail_10486.json\n",
      "dask_issues/issue_detail_10494.json\n",
      "dask_issues/issue_detail_10508.json\n",
      "dask_issues/issue_detail_10510.json\n",
      "dask_issues/issue_detail_10512.json\n"
     ]
    },
    {
     "name": "stderr",
     "output_type": "stream",
     "text": [
      " 87%|████████▋ | 918/1055 [00:21<00:03, 37.43it/s]"
     ]
    },
    {
     "name": "stdout",
     "output_type": "stream",
     "text": [
      "dask_issues/issue_detail_10516.json\n",
      "dask_issues/issue_detail_10517.json\n",
      "dask_issues/issue_detail_10518.json\n",
      "dask_issues/issue_detail_10522.json\n",
      "dask_issues/issue_detail_10525.json\n",
      "dask_issues/issue_detail_10530.json\n",
      "dask_issues/issue_detail_10533.json\n",
      "dask_issues/issue_detail_10534.json\n",
      "dask_issues/issue_detail_10536.json\n",
      "dask_issues/issue_detail_10537.json\n"
     ]
    },
    {
     "name": "stderr",
     "output_type": "stream",
     "text": [
      " 88%|████████▊ | 928/1055 [00:22<00:03, 42.12it/s]"
     ]
    },
    {
     "name": "stdout",
     "output_type": "stream",
     "text": [
      "dask_issues/issue_detail_10538.json\n",
      "dask_issues/issue_detail_10540.json\n",
      "dask_issues/issue_detail_10541.json\n",
      "dask_issues/issue_detail_10543.json\n",
      "dask_issues/issue_detail_10545.json\n",
      "dask_issues/issue_detail_10546.json\n",
      "dask_issues/issue_detail_10548.json\n",
      "dask_issues/issue_detail_10550.json\n",
      "dask_issues/issue_detail_10554.json\n",
      "dask_issues/issue_detail_10555.json\n"
     ]
    },
    {
     "name": "stderr",
     "output_type": "stream",
     "text": [
      " 88%|████████▊ | 933/1055 [00:22<00:02, 40.81it/s]"
     ]
    },
    {
     "name": "stdout",
     "output_type": "stream",
     "text": [
      "dask_issues/issue_detail_10558.json\n",
      "dask_issues/issue_detail_10561.json\n",
      "dask_issues/issue_detail_10564.json\n",
      "dask_issues/issue_detail_10566.json\n",
      "dask_issues/issue_detail_10567.json\n",
      "dask_issues/issue_detail_10568.json\n",
      "dask_issues/issue_detail_10572.json\n"
     ]
    },
    {
     "name": "stderr",
     "output_type": "stream",
     "text": [
      " 89%|████████▉ | 943/1055 [00:22<00:02, 39.32it/s]"
     ]
    },
    {
     "name": "stdout",
     "output_type": "stream",
     "text": [
      "dask_issues/issue_detail_10573.json\n",
      "dask_issues/issue_detail_10583.json\n",
      "dask_issues/issue_detail_10586.json\n",
      "dask_issues/issue_detail_10587.json\n",
      "dask_issues/issue_detail_10595.json\n",
      "dask_issues/issue_detail_10598.json\n",
      "dask_issues/issue_detail_10602.json\n",
      "dask_issues/issue_detail_10603.json\n",
      "dask_issues/issue_detail_10606.json\n"
     ]
    },
    {
     "name": "stderr",
     "output_type": "stream",
     "text": [
      " 90%|████████▉ | 948/1055 [00:22<00:02, 38.64it/s]"
     ]
    },
    {
     "name": "stdout",
     "output_type": "stream",
     "text": [
      "dask_issues/issue_detail_10607.json\n",
      "dask_issues/issue_detail_10612.json\n",
      "dask_issues/issue_detail_10614.json\n",
      "dask_issues/issue_detail_10615.json\n",
      "dask_issues/issue_detail_10617.json\n"
     ]
    },
    {
     "name": "stderr",
     "output_type": "stream",
     "text": [
      " 91%|█████████ | 956/1055 [00:22<00:02, 33.30it/s]"
     ]
    },
    {
     "name": "stdout",
     "output_type": "stream",
     "text": [
      "dask_issues/issue_detail_10626.json\n",
      "dask_issues/issue_detail_10628.json\n",
      "dask_issues/issue_detail_10629.json\n",
      "dask_issues/issue_detail_10631.json\n",
      "dask_issues/issue_detail_10632.json\n",
      "dask_issues/issue_detail_10633.json\n",
      "dask_issues/issue_detail_10635.json\n",
      "dask_issues/issue_detail_10639.json\n",
      "dask_issues/issue_detail_10641.json\n"
     ]
    },
    {
     "name": "stderr",
     "output_type": "stream",
     "text": [
      " 92%|█████████▏| 966/1055 [00:23<00:02, 38.57it/s]"
     ]
    },
    {
     "name": "stdout",
     "output_type": "stream",
     "text": [
      "dask_issues/issue_detail_10647.json\n",
      "dask_issues/issue_detail_10648.json\n",
      "dask_issues/issue_detail_10654.json\n",
      "dask_issues/issue_detail_10655.json\n",
      "dask_issues/issue_detail_10659.json\n",
      "dask_issues/issue_detail_10663.json\n",
      "dask_issues/issue_detail_10665.json\n",
      "dask_issues/issue_detail_10672.json\n",
      "dask_issues/issue_detail_10677.json\n"
     ]
    },
    {
     "name": "stderr",
     "output_type": "stream",
     "text": [
      " 93%|█████████▎| 976/1055 [00:23<00:01, 40.11it/s]"
     ]
    },
    {
     "name": "stdout",
     "output_type": "stream",
     "text": [
      "dask_issues/issue_detail_10683.json\n",
      "dask_issues/issue_detail_10686.json\n",
      "dask_issues/issue_detail_10703.json\n",
      "dask_issues/issue_detail_10707.json\n",
      "dask_issues/issue_detail_10713.json\n",
      "dask_issues/issue_detail_10717.json\n",
      "dask_issues/issue_detail_10720.json\n",
      "dask_issues/issue_detail_10721.json\n",
      "dask_issues/issue_detail_10722.json\n"
     ]
    },
    {
     "name": "stderr",
     "output_type": "stream",
     "text": [
      " 93%|█████████▎| 986/1055 [00:23<00:01, 40.82it/s]"
     ]
    },
    {
     "name": "stdout",
     "output_type": "stream",
     "text": [
      "dask_issues/issue_detail_10731.json\n",
      "dask_issues/issue_detail_10733.json\n",
      "dask_issues/issue_detail_10739.json\n",
      "dask_issues/issue_detail_10740.json\n",
      "dask_issues/issue_detail_10742.json\n",
      "dask_issues/issue_detail_10761.json\n",
      "dask_issues/issue_detail_10770.json\n",
      "dask_issues/issue_detail_10811.json\n",
      "dask_issues/issue_detail_10812.json\n"
     ]
    },
    {
     "name": "stderr",
     "output_type": "stream",
     "text": [
      " 94%|█████████▍| 991/1055 [00:23<00:01, 42.56it/s]"
     ]
    },
    {
     "name": "stdout",
     "output_type": "stream",
     "text": [
      "dask_issues/issue_detail_10816.json\n",
      "dask_issues/issue_detail_10826.json\n",
      "dask_issues/issue_detail_10836.json\n",
      "dask_issues/issue_detail_10842.json\n",
      "dask_issues/issue_detail_10853.json\n",
      "dask_issues/issue_detail_10869.json\n",
      "dask_issues/issue_detail_10881.json\n",
      "dask_issues/issue_detail_10893.json\n",
      "dask_issues/issue_detail_10895.json\n"
     ]
    },
    {
     "name": "stderr",
     "output_type": "stream",
     "text": [
      " 95%|█████████▍| 1001/1055 [00:24<00:01, 34.12it/s]"
     ]
    },
    {
     "name": "stdout",
     "output_type": "stream",
     "text": [
      "dask_issues/issue_detail_10899.json\n",
      "dask_issues/issue_detail_10906.json\n",
      "dask_issues/issue_detail_10923.json\n",
      "dask_issues/issue_detail_10931.json\n",
      "dask_issues/issue_detail_10933.json\n"
     ]
    },
    {
     "name": "stderr",
     "output_type": "stream",
     "text": [
      " 95%|█████████▌| 1006/1055 [00:24<00:01, 36.50it/s]"
     ]
    },
    {
     "name": "stdout",
     "output_type": "stream",
     "text": [
      "dask_issues/issue_detail_10934.json\n",
      "dask_issues/issue_detail_10937.json\n",
      "dask_issues/issue_detail_10945.json\n",
      "dask_issues/issue_detail_10946.json\n",
      "dask_issues/issue_detail_10949.json\n",
      "dask_issues/issue_detail_10962.json\n",
      "dask_issues/issue_detail_10980.json\n",
      "dask_issues/issue_detail_10982.json\n",
      "dask_issues/issue_detail_10991.json\n"
     ]
    },
    {
     "name": "stderr",
     "output_type": "stream",
     "text": [
      " 96%|█████████▌| 1015/1055 [00:24<00:01, 37.67it/s]"
     ]
    },
    {
     "name": "stdout",
     "output_type": "stream",
     "text": [
      "dask_issues/issue_detail_10992.json\n",
      "dask_issues/issue_detail_10994.json\n",
      "dask_issues/issue_detail_10995.json\n",
      "dask_issues/issue_detail_10998.json\n",
      "dask_issues/issue_detail_11004.json\n",
      "dask_issues/issue_detail_11017.json\n",
      "dask_issues/issue_detail_11018.json\n",
      "dask_issues/issue_detail_11019.json\n"
     ]
    },
    {
     "name": "stderr",
     "output_type": "stream",
     "text": [
      " 97%|█████████▋| 1024/1055 [00:24<00:00, 39.99it/s]"
     ]
    },
    {
     "name": "stdout",
     "output_type": "stream",
     "text": [
      "dask_issues/issue_detail_11021.json\n",
      "dask_issues/issue_detail_11022.json\n",
      "dask_issues/issue_detail_11026.json\n",
      "dask_issues/issue_detail_11042.json\n",
      "dask_issues/issue_detail_11044.json\n",
      "dask_issues/issue_detail_11046.json\n",
      "dask_issues/issue_detail_11047.json\n",
      "dask_issues/issue_detail_11051.json\n",
      "dask_issues/issue_detail_11055.json\n"
     ]
    },
    {
     "name": "stderr",
     "output_type": "stream",
     "text": [
      " 98%|█████████▊| 1034/1055 [00:24<00:00, 40.44it/s]"
     ]
    },
    {
     "name": "stdout",
     "output_type": "stream",
     "text": [
      "dask_issues/issue_detail_11067.json\n",
      "dask_issues/issue_detail_11069.json\n",
      "dask_issues/issue_detail_11070.json\n",
      "dask_issues/issue_detail_11075.json\n",
      "dask_issues/issue_detail_11076.json\n",
      "dask_issues/issue_detail_11077.json\n",
      "dask_issues/issue_detail_11087.json\n",
      "dask_issues/issue_detail_11093.json\n",
      "dask_issues/issue_detail_11095.json\n"
     ]
    },
    {
     "name": "stderr",
     "output_type": "stream",
     "text": [
      " 99%|█████████▉| 1044/1055 [00:25<00:00, 41.56it/s]"
     ]
    },
    {
     "name": "stdout",
     "output_type": "stream",
     "text": [
      "dask_issues/issue_detail_11100.json\n",
      "dask_issues/issue_detail_11101.json\n",
      "dask_issues/issue_detail_11102.json\n",
      "dask_issues/issue_detail_11111.json\n",
      "dask_issues/issue_detail_11113.json\n",
      "dask_issues/issue_detail_11116.json\n",
      "dask_issues/issue_detail_11118.json\n",
      "dask_issues/issue_detail_11119.json\n",
      "dask_issues/issue_detail_11122.json\n"
     ]
    },
    {
     "name": "stderr",
     "output_type": "stream",
     "text": [
      " 99%|█████████▉| 1049/1055 [00:25<00:00, 34.59it/s]"
     ]
    },
    {
     "name": "stdout",
     "output_type": "stream",
     "text": [
      "dask_issues/issue_detail_11124.json\n",
      "dask_issues/issue_detail_11127.json\n",
      "dask_issues/issue_detail_11128.json\n",
      "dask_issues/issue_detail_11146.json\n",
      "dask_issues/issue_detail_11149.json\n",
      "dask_issues/issue_detail_11150.json\n"
     ]
    },
    {
     "name": "stderr",
     "output_type": "stream",
     "text": [
      "100%|██████████| 1055/1055 [00:25<00:00, 41.49it/s]"
     ]
    },
    {
     "name": "stdout",
     "output_type": "stream",
     "text": [
      "dask_issues/issue_detail_11153.json\n",
      "dask_issues/issue_detail_11155.json\n",
      "dask_issues/issue_detail_11156.json\n",
      "dask_issues/issue_detail_11160.json\n"
     ]
    },
    {
     "name": "stderr",
     "output_type": "stream",
     "text": [
      "\n"
     ]
    }
   ],
   "source": [
    "    df = pd.DataFrame()\n",
    "    for file in tqdm(sorted(os.listdir(f\"{repo}_issues\"))):\n",
    "        print(f\"{repo}_issues/{file}\")\n",
    "        with open(f\"{repo}_issues/{file}\", \"r\") as f:\n",
    "            data = json.load(f)\n",
    "        _df = pd.json_normalize(data)\n",
    "        df = pd.concat([df, _df], axis=0).reset_index(drop=True)"
   ]
  },
  {
   "cell_type": "code",
   "execution_count": 5,
   "metadata": {},
   "outputs": [
    {
     "data": {
      "text/html": [
       "<div>\n",
       "<style scoped>\n",
       "    .dataframe tbody tr th:only-of-type {\n",
       "        vertical-align: middle;\n",
       "    }\n",
       "\n",
       "    .dataframe tbody tr th {\n",
       "        vertical-align: top;\n",
       "    }\n",
       "\n",
       "    .dataframe thead th {\n",
       "        text-align: right;\n",
       "    }\n",
       "</style>\n",
       "<table border=\"1\" class=\"dataframe\">\n",
       "  <thead>\n",
       "    <tr style=\"text-align: right;\">\n",
       "      <th></th>\n",
       "      <th>url</th>\n",
       "      <th>repository_url</th>\n",
       "      <th>labels_url</th>\n",
       "      <th>comments_url</th>\n",
       "      <th>events_url</th>\n",
       "      <th>html_url</th>\n",
       "      <th>id</th>\n",
       "      <th>node_id</th>\n",
       "      <th>number</th>\n",
       "      <th>title</th>\n",
       "      <th>...</th>\n",
       "      <th>assignee.following_url</th>\n",
       "      <th>assignee.gists_url</th>\n",
       "      <th>assignee.starred_url</th>\n",
       "      <th>assignee.subscriptions_url</th>\n",
       "      <th>assignee.organizations_url</th>\n",
       "      <th>assignee.repos_url</th>\n",
       "      <th>assignee.events_url</th>\n",
       "      <th>assignee.received_events_url</th>\n",
       "      <th>assignee.type</th>\n",
       "      <th>assignee.site_admin</th>\n",
       "    </tr>\n",
       "  </thead>\n",
       "  <tbody>\n",
       "    <tr>\n",
       "      <th>0</th>\n",
       "      <td>https://api.github.com/repos/dask/dask/issues/72</td>\n",
       "      <td>https://api.github.com/repos/dask/dask</td>\n",
       "      <td>https://api.github.com/repos/dask/dask/issues/...</td>\n",
       "      <td>https://api.github.com/repos/dask/dask/issues/...</td>\n",
       "      <td>https://api.github.com/repos/dask/dask/issues/...</td>\n",
       "      <td>https://github.com/dask/dask/issues/72</td>\n",
       "      <td>60959584</td>\n",
       "      <td>MDU6SXNzdWU2MDk1OTU4NA==</td>\n",
       "      <td>72</td>\n",
       "      <td>Create multiple output arrays with map_blocks</td>\n",
       "      <td>...</td>\n",
       "      <td>NaN</td>\n",
       "      <td>NaN</td>\n",
       "      <td>NaN</td>\n",
       "      <td>NaN</td>\n",
       "      <td>NaN</td>\n",
       "      <td>NaN</td>\n",
       "      <td>NaN</td>\n",
       "      <td>NaN</td>\n",
       "      <td>NaN</td>\n",
       "      <td>NaN</td>\n",
       "    </tr>\n",
       "    <tr>\n",
       "      <th>1</th>\n",
       "      <td>https://api.github.com/repos/dask/dask/issues/97</td>\n",
       "      <td>https://api.github.com/repos/dask/dask</td>\n",
       "      <td>https://api.github.com/repos/dask/dask/issues/...</td>\n",
       "      <td>https://api.github.com/repos/dask/dask/issues/...</td>\n",
       "      <td>https://api.github.com/repos/dask/dask/issues/...</td>\n",
       "      <td>https://github.com/dask/dask/issues/97</td>\n",
       "      <td>64692056</td>\n",
       "      <td>MDU6SXNzdWU2NDY5MjA1Ng==</td>\n",
       "      <td>97</td>\n",
       "      <td>Idea: deferred errors</td>\n",
       "      <td>...</td>\n",
       "      <td>NaN</td>\n",
       "      <td>NaN</td>\n",
       "      <td>NaN</td>\n",
       "      <td>NaN</td>\n",
       "      <td>NaN</td>\n",
       "      <td>NaN</td>\n",
       "      <td>NaN</td>\n",
       "      <td>NaN</td>\n",
       "      <td>NaN</td>\n",
       "      <td>NaN</td>\n",
       "    </tr>\n",
       "    <tr>\n",
       "      <th>2</th>\n",
       "      <td>https://api.github.com/repos/dask/dask/issues/731</td>\n",
       "      <td>https://api.github.com/repos/dask/dask</td>\n",
       "      <td>https://api.github.com/repos/dask/dask/issues/...</td>\n",
       "      <td>https://api.github.com/repos/dask/dask/issues/...</td>\n",
       "      <td>https://api.github.com/repos/dask/dask/issues/...</td>\n",
       "      <td>https://github.com/dask/dask/issues/731</td>\n",
       "      <td>107308081</td>\n",
       "      <td>MDU6SXNzdWUxMDczMDgwODE=</td>\n",
       "      <td>731</td>\n",
       "      <td>dask.dataframe quantile fails spectacularly in...</td>\n",
       "      <td>...</td>\n",
       "      <td>NaN</td>\n",
       "      <td>NaN</td>\n",
       "      <td>NaN</td>\n",
       "      <td>NaN</td>\n",
       "      <td>NaN</td>\n",
       "      <td>NaN</td>\n",
       "      <td>NaN</td>\n",
       "      <td>NaN</td>\n",
       "      <td>NaN</td>\n",
       "      <td>NaN</td>\n",
       "    </tr>\n",
       "    <tr>\n",
       "      <th>3</th>\n",
       "      <td>https://api.github.com/repos/dask/dask/issues/746</td>\n",
       "      <td>https://api.github.com/repos/dask/dask</td>\n",
       "      <td>https://api.github.com/repos/dask/dask/issues/...</td>\n",
       "      <td>https://api.github.com/repos/dask/dask/issues/...</td>\n",
       "      <td>https://api.github.com/repos/dask/dask/issues/...</td>\n",
       "      <td>https://github.com/dask/dask/issues/746</td>\n",
       "      <td>107803943</td>\n",
       "      <td>MDU6SXNzdWUxMDc4MDM5NDM=</td>\n",
       "      <td>746</td>\n",
       "      <td>Add optimizations to dask.array to remap ufunc...</td>\n",
       "      <td>...</td>\n",
       "      <td>NaN</td>\n",
       "      <td>NaN</td>\n",
       "      <td>NaN</td>\n",
       "      <td>NaN</td>\n",
       "      <td>NaN</td>\n",
       "      <td>NaN</td>\n",
       "      <td>NaN</td>\n",
       "      <td>NaN</td>\n",
       "      <td>NaN</td>\n",
       "      <td>NaN</td>\n",
       "    </tr>\n",
       "    <tr>\n",
       "      <th>4</th>\n",
       "      <td>https://api.github.com/repos/dask/dask/issues/874</td>\n",
       "      <td>https://api.github.com/repos/dask/dask</td>\n",
       "      <td>https://api.github.com/repos/dask/dask/issues/...</td>\n",
       "      <td>https://api.github.com/repos/dask/dask/issues/...</td>\n",
       "      <td>https://api.github.com/repos/dask/dask/issues/...</td>\n",
       "      <td>https://github.com/dask/dask/issues/874</td>\n",
       "      <td>121327475</td>\n",
       "      <td>MDU6SXNzdWUxMjEzMjc0NzU=</td>\n",
       "      <td>874</td>\n",
       "      <td>Scheduler fail case: centering data with dask....</td>\n",
       "      <td>...</td>\n",
       "      <td>NaN</td>\n",
       "      <td>NaN</td>\n",
       "      <td>NaN</td>\n",
       "      <td>NaN</td>\n",
       "      <td>NaN</td>\n",
       "      <td>NaN</td>\n",
       "      <td>NaN</td>\n",
       "      <td>NaN</td>\n",
       "      <td>NaN</td>\n",
       "      <td>NaN</td>\n",
       "    </tr>\n",
       "    <tr>\n",
       "      <th>...</th>\n",
       "      <td>...</td>\n",
       "      <td>...</td>\n",
       "      <td>...</td>\n",
       "      <td>...</td>\n",
       "      <td>...</td>\n",
       "      <td>...</td>\n",
       "      <td>...</td>\n",
       "      <td>...</td>\n",
       "      <td>...</td>\n",
       "      <td>...</td>\n",
       "      <td>...</td>\n",
       "      <td>...</td>\n",
       "      <td>...</td>\n",
       "      <td>...</td>\n",
       "      <td>...</td>\n",
       "      <td>...</td>\n",
       "      <td>...</td>\n",
       "      <td>...</td>\n",
       "      <td>...</td>\n",
       "      <td>...</td>\n",
       "      <td>...</td>\n",
       "    </tr>\n",
       "    <tr>\n",
       "      <th>1050</th>\n",
       "      <td>https://api.github.com/repos/dask/dask/issues/...</td>\n",
       "      <td>https://api.github.com/repos/dask/dask</td>\n",
       "      <td>https://api.github.com/repos/dask/dask/issues/...</td>\n",
       "      <td>https://api.github.com/repos/dask/dask/issues/...</td>\n",
       "      <td>https://api.github.com/repos/dask/dask/issues/...</td>\n",
       "      <td>https://github.com/dask/dask/pull/11150</td>\n",
       "      <td>2321835367</td>\n",
       "      <td>PR_kwDOAbcwm85wznQv</td>\n",
       "      <td>11150</td>\n",
       "      <td>Modify left semi/anti test to cover CPU query ...</td>\n",
       "      <td>...</td>\n",
       "      <td>NaN</td>\n",
       "      <td>NaN</td>\n",
       "      <td>NaN</td>\n",
       "      <td>NaN</td>\n",
       "      <td>NaN</td>\n",
       "      <td>NaN</td>\n",
       "      <td>NaN</td>\n",
       "      <td>NaN</td>\n",
       "      <td>NaN</td>\n",
       "      <td>NaN</td>\n",
       "    </tr>\n",
       "    <tr>\n",
       "      <th>1051</th>\n",
       "      <td>https://api.github.com/repos/dask/dask/issues/...</td>\n",
       "      <td>https://api.github.com/repos/dask/dask</td>\n",
       "      <td>https://api.github.com/repos/dask/dask/issues/...</td>\n",
       "      <td>https://api.github.com/repos/dask/dask/issues/...</td>\n",
       "      <td>https://api.github.com/repos/dask/dask/issues/...</td>\n",
       "      <td>https://github.com/dask/dask/issues/11153</td>\n",
       "      <td>2323604866</td>\n",
       "      <td>I_kwDOAbcwm86Kf2WC</td>\n",
       "      <td>11153</td>\n",
       "      <td>`dask/dataframe/tests/test_indexing.py::test_g...</td>\n",
       "      <td>...</td>\n",
       "      <td>NaN</td>\n",
       "      <td>NaN</td>\n",
       "      <td>NaN</td>\n",
       "      <td>NaN</td>\n",
       "      <td>NaN</td>\n",
       "      <td>NaN</td>\n",
       "      <td>NaN</td>\n",
       "      <td>NaN</td>\n",
       "      <td>NaN</td>\n",
       "      <td>NaN</td>\n",
       "    </tr>\n",
       "    <tr>\n",
       "      <th>1052</th>\n",
       "      <td>https://api.github.com/repos/dask/dask/issues/...</td>\n",
       "      <td>https://api.github.com/repos/dask/dask</td>\n",
       "      <td>https://api.github.com/repos/dask/dask/issues/...</td>\n",
       "      <td>https://api.github.com/repos/dask/dask/issues/...</td>\n",
       "      <td>https://api.github.com/repos/dask/dask/issues/...</td>\n",
       "      <td>https://github.com/dask/dask/issues/11155</td>\n",
       "      <td>2325180025</td>\n",
       "      <td>I_kwDOAbcwm86Kl255</td>\n",
       "      <td>11155</td>\n",
       "      <td>'SeriesGroupBy' object has no attribute 'nuniq...</td>\n",
       "      <td>...</td>\n",
       "      <td>NaN</td>\n",
       "      <td>NaN</td>\n",
       "      <td>NaN</td>\n",
       "      <td>NaN</td>\n",
       "      <td>NaN</td>\n",
       "      <td>NaN</td>\n",
       "      <td>NaN</td>\n",
       "      <td>NaN</td>\n",
       "      <td>NaN</td>\n",
       "      <td>NaN</td>\n",
       "    </tr>\n",
       "    <tr>\n",
       "      <th>1053</th>\n",
       "      <td>https://api.github.com/repos/dask/dask/issues/...</td>\n",
       "      <td>https://api.github.com/repos/dask/dask</td>\n",
       "      <td>https://api.github.com/repos/dask/dask/issues/...</td>\n",
       "      <td>https://api.github.com/repos/dask/dask/issues/...</td>\n",
       "      <td>https://api.github.com/repos/dask/dask/issues/...</td>\n",
       "      <td>https://github.com/dask/dask/pull/11156</td>\n",
       "      <td>2326241330</td>\n",
       "      <td>PR_kwDOAbcwm85xCtT1</td>\n",
       "      <td>11156</td>\n",
       "      <td>[#11122] updated API doc template generators f...</td>\n",
       "      <td>...</td>\n",
       "      <td>NaN</td>\n",
       "      <td>NaN</td>\n",
       "      <td>NaN</td>\n",
       "      <td>NaN</td>\n",
       "      <td>NaN</td>\n",
       "      <td>NaN</td>\n",
       "      <td>NaN</td>\n",
       "      <td>NaN</td>\n",
       "      <td>NaN</td>\n",
       "      <td>NaN</td>\n",
       "    </tr>\n",
       "    <tr>\n",
       "      <th>1054</th>\n",
       "      <td>https://api.github.com/repos/dask/dask/issues/...</td>\n",
       "      <td>https://api.github.com/repos/dask/dask</td>\n",
       "      <td>https://api.github.com/repos/dask/dask/issues/...</td>\n",
       "      <td>https://api.github.com/repos/dask/dask/issues/...</td>\n",
       "      <td>https://api.github.com/repos/dask/dask/issues/...</td>\n",
       "      <td>https://github.com/dask/dask/issues/11160</td>\n",
       "      <td>2332832601</td>\n",
       "      <td>I_kwDOAbcwm86LDDNZ</td>\n",
       "      <td>11160</td>\n",
       "      <td>Can not process datasets created by the older ...</td>\n",
       "      <td>...</td>\n",
       "      <td>NaN</td>\n",
       "      <td>NaN</td>\n",
       "      <td>NaN</td>\n",
       "      <td>NaN</td>\n",
       "      <td>NaN</td>\n",
       "      <td>NaN</td>\n",
       "      <td>NaN</td>\n",
       "      <td>NaN</td>\n",
       "      <td>NaN</td>\n",
       "      <td>NaN</td>\n",
       "    </tr>\n",
       "  </tbody>\n",
       "</table>\n",
       "<p>1055 rows × 97 columns</p>\n",
       "</div>"
      ],
      "text/plain": [
       "                                                    url  \\\n",
       "0      https://api.github.com/repos/dask/dask/issues/72   \n",
       "1      https://api.github.com/repos/dask/dask/issues/97   \n",
       "2     https://api.github.com/repos/dask/dask/issues/731   \n",
       "3     https://api.github.com/repos/dask/dask/issues/746   \n",
       "4     https://api.github.com/repos/dask/dask/issues/874   \n",
       "...                                                 ...   \n",
       "1050  https://api.github.com/repos/dask/dask/issues/...   \n",
       "1051  https://api.github.com/repos/dask/dask/issues/...   \n",
       "1052  https://api.github.com/repos/dask/dask/issues/...   \n",
       "1053  https://api.github.com/repos/dask/dask/issues/...   \n",
       "1054  https://api.github.com/repos/dask/dask/issues/...   \n",
       "\n",
       "                              repository_url  \\\n",
       "0     https://api.github.com/repos/dask/dask   \n",
       "1     https://api.github.com/repos/dask/dask   \n",
       "2     https://api.github.com/repos/dask/dask   \n",
       "3     https://api.github.com/repos/dask/dask   \n",
       "4     https://api.github.com/repos/dask/dask   \n",
       "...                                      ...   \n",
       "1050  https://api.github.com/repos/dask/dask   \n",
       "1051  https://api.github.com/repos/dask/dask   \n",
       "1052  https://api.github.com/repos/dask/dask   \n",
       "1053  https://api.github.com/repos/dask/dask   \n",
       "1054  https://api.github.com/repos/dask/dask   \n",
       "\n",
       "                                             labels_url  \\\n",
       "0     https://api.github.com/repos/dask/dask/issues/...   \n",
       "1     https://api.github.com/repos/dask/dask/issues/...   \n",
       "2     https://api.github.com/repos/dask/dask/issues/...   \n",
       "3     https://api.github.com/repos/dask/dask/issues/...   \n",
       "4     https://api.github.com/repos/dask/dask/issues/...   \n",
       "...                                                 ...   \n",
       "1050  https://api.github.com/repos/dask/dask/issues/...   \n",
       "1051  https://api.github.com/repos/dask/dask/issues/...   \n",
       "1052  https://api.github.com/repos/dask/dask/issues/...   \n",
       "1053  https://api.github.com/repos/dask/dask/issues/...   \n",
       "1054  https://api.github.com/repos/dask/dask/issues/...   \n",
       "\n",
       "                                           comments_url  \\\n",
       "0     https://api.github.com/repos/dask/dask/issues/...   \n",
       "1     https://api.github.com/repos/dask/dask/issues/...   \n",
       "2     https://api.github.com/repos/dask/dask/issues/...   \n",
       "3     https://api.github.com/repos/dask/dask/issues/...   \n",
       "4     https://api.github.com/repos/dask/dask/issues/...   \n",
       "...                                                 ...   \n",
       "1050  https://api.github.com/repos/dask/dask/issues/...   \n",
       "1051  https://api.github.com/repos/dask/dask/issues/...   \n",
       "1052  https://api.github.com/repos/dask/dask/issues/...   \n",
       "1053  https://api.github.com/repos/dask/dask/issues/...   \n",
       "1054  https://api.github.com/repos/dask/dask/issues/...   \n",
       "\n",
       "                                             events_url  \\\n",
       "0     https://api.github.com/repos/dask/dask/issues/...   \n",
       "1     https://api.github.com/repos/dask/dask/issues/...   \n",
       "2     https://api.github.com/repos/dask/dask/issues/...   \n",
       "3     https://api.github.com/repos/dask/dask/issues/...   \n",
       "4     https://api.github.com/repos/dask/dask/issues/...   \n",
       "...                                                 ...   \n",
       "1050  https://api.github.com/repos/dask/dask/issues/...   \n",
       "1051  https://api.github.com/repos/dask/dask/issues/...   \n",
       "1052  https://api.github.com/repos/dask/dask/issues/...   \n",
       "1053  https://api.github.com/repos/dask/dask/issues/...   \n",
       "1054  https://api.github.com/repos/dask/dask/issues/...   \n",
       "\n",
       "                                       html_url          id  \\\n",
       "0        https://github.com/dask/dask/issues/72    60959584   \n",
       "1        https://github.com/dask/dask/issues/97    64692056   \n",
       "2       https://github.com/dask/dask/issues/731   107308081   \n",
       "3       https://github.com/dask/dask/issues/746   107803943   \n",
       "4       https://github.com/dask/dask/issues/874   121327475   \n",
       "...                                         ...         ...   \n",
       "1050    https://github.com/dask/dask/pull/11150  2321835367   \n",
       "1051  https://github.com/dask/dask/issues/11153  2323604866   \n",
       "1052  https://github.com/dask/dask/issues/11155  2325180025   \n",
       "1053    https://github.com/dask/dask/pull/11156  2326241330   \n",
       "1054  https://github.com/dask/dask/issues/11160  2332832601   \n",
       "\n",
       "                       node_id  number  \\\n",
       "0     MDU6SXNzdWU2MDk1OTU4NA==      72   \n",
       "1     MDU6SXNzdWU2NDY5MjA1Ng==      97   \n",
       "2     MDU6SXNzdWUxMDczMDgwODE=     731   \n",
       "3     MDU6SXNzdWUxMDc4MDM5NDM=     746   \n",
       "4     MDU6SXNzdWUxMjEzMjc0NzU=     874   \n",
       "...                        ...     ...   \n",
       "1050       PR_kwDOAbcwm85wznQv   11150   \n",
       "1051        I_kwDOAbcwm86Kf2WC   11153   \n",
       "1052        I_kwDOAbcwm86Kl255   11155   \n",
       "1053       PR_kwDOAbcwm85xCtT1   11156   \n",
       "1054        I_kwDOAbcwm86LDDNZ   11160   \n",
       "\n",
       "                                                  title  ...  \\\n",
       "0         Create multiple output arrays with map_blocks  ...   \n",
       "1                                 Idea: deferred errors  ...   \n",
       "2     dask.dataframe quantile fails spectacularly in...  ...   \n",
       "3     Add optimizations to dask.array to remap ufunc...  ...   \n",
       "4     Scheduler fail case: centering data with dask....  ...   \n",
       "...                                                 ...  ...   \n",
       "1050  Modify left semi/anti test to cover CPU query ...  ...   \n",
       "1051  `dask/dataframe/tests/test_indexing.py::test_g...  ...   \n",
       "1052  'SeriesGroupBy' object has no attribute 'nuniq...  ...   \n",
       "1053  [#11122] updated API doc template generators f...  ...   \n",
       "1054  Can not process datasets created by the older ...  ...   \n",
       "\n",
       "     assignee.following_url assignee.gists_url  assignee.starred_url  \\\n",
       "0                       NaN                NaN                   NaN   \n",
       "1                       NaN                NaN                   NaN   \n",
       "2                       NaN                NaN                   NaN   \n",
       "3                       NaN                NaN                   NaN   \n",
       "4                       NaN                NaN                   NaN   \n",
       "...                     ...                ...                   ...   \n",
       "1050                    NaN                NaN                   NaN   \n",
       "1051                    NaN                NaN                   NaN   \n",
       "1052                    NaN                NaN                   NaN   \n",
       "1053                    NaN                NaN                   NaN   \n",
       "1054                    NaN                NaN                   NaN   \n",
       "\n",
       "     assignee.subscriptions_url assignee.organizations_url assignee.repos_url  \\\n",
       "0                           NaN                        NaN                NaN   \n",
       "1                           NaN                        NaN                NaN   \n",
       "2                           NaN                        NaN                NaN   \n",
       "3                           NaN                        NaN                NaN   \n",
       "4                           NaN                        NaN                NaN   \n",
       "...                         ...                        ...                ...   \n",
       "1050                        NaN                        NaN                NaN   \n",
       "1051                        NaN                        NaN                NaN   \n",
       "1052                        NaN                        NaN                NaN   \n",
       "1053                        NaN                        NaN                NaN   \n",
       "1054                        NaN                        NaN                NaN   \n",
       "\n",
       "      assignee.events_url assignee.received_events_url assignee.type  \\\n",
       "0                     NaN                          NaN           NaN   \n",
       "1                     NaN                          NaN           NaN   \n",
       "2                     NaN                          NaN           NaN   \n",
       "3                     NaN                          NaN           NaN   \n",
       "4                     NaN                          NaN           NaN   \n",
       "...                   ...                          ...           ...   \n",
       "1050                  NaN                          NaN           NaN   \n",
       "1051                  NaN                          NaN           NaN   \n",
       "1052                  NaN                          NaN           NaN   \n",
       "1053                  NaN                          NaN           NaN   \n",
       "1054                  NaN                          NaN           NaN   \n",
       "\n",
       "     assignee.site_admin  \n",
       "0                    NaN  \n",
       "1                    NaN  \n",
       "2                    NaN  \n",
       "3                    NaN  \n",
       "4                    NaN  \n",
       "...                  ...  \n",
       "1050                 NaN  \n",
       "1051                 NaN  \n",
       "1052                 NaN  \n",
       "1053                 NaN  \n",
       "1054                 NaN  \n",
       "\n",
       "[1055 rows x 97 columns]"
      ]
     },
     "execution_count": 5,
     "metadata": {},
     "output_type": "execute_result"
    }
   ],
   "source": [
    "df"
   ]
  },
  {
   "cell_type": "code",
   "execution_count": 7,
   "metadata": {},
   "outputs": [
    {
     "data": {
      "text/plain": [
       "Index(['url', 'repository_url', 'labels_url', 'comments_url', 'events_url',\n",
       "       'html_url', 'id', 'node_id', 'number', 'title', 'labels', 'state',\n",
       "       'locked', 'assignee', 'assignees', 'milestone', 'comments',\n",
       "       'created_at', 'updated_at', 'closed_at', 'author_association',\n",
       "       'active_lock_reason', 'body', 'closed_by', 'timeline_url',\n",
       "       'performed_via_github_app', 'state_reason', 'user.login', 'user.id',\n",
       "       'user.node_id', 'user.avatar_url', 'user.gravatar_id', 'user.url',\n",
       "       'user.html_url', 'user.followers_url', 'user.following_url',\n",
       "       'user.gists_url', 'user.starred_url', 'user.subscriptions_url',\n",
       "       'user.organizations_url', 'user.repos_url', 'user.events_url',\n",
       "       'user.received_events_url', 'user.type', 'user.site_admin',\n",
       "       'reactions.url', 'reactions.total_count', 'reactions.+1',\n",
       "       'reactions.-1', 'reactions.laugh', 'reactions.hooray',\n",
       "       'reactions.confused', 'reactions.heart', 'reactions.rocket',\n",
       "       'reactions.eyes', 'closed_by.login', 'closed_by.id',\n",
       "       'closed_by.node_id', 'closed_by.avatar_url', 'closed_by.gravatar_id',\n",
       "       'closed_by.url', 'closed_by.html_url', 'closed_by.followers_url',\n",
       "       'closed_by.following_url', 'closed_by.gists_url',\n",
       "       'closed_by.starred_url', 'closed_by.subscriptions_url',\n",
       "       'closed_by.organizations_url', 'closed_by.repos_url',\n",
       "       'closed_by.events_url', 'closed_by.received_events_url',\n",
       "       'closed_by.type', 'closed_by.site_admin', 'draft', 'pull_request.url',\n",
       "       'pull_request.html_url', 'pull_request.diff_url',\n",
       "       'pull_request.patch_url', 'pull_request.merged_at', 'assignee.login',\n",
       "       'assignee.id', 'assignee.node_id', 'assignee.avatar_url',\n",
       "       'assignee.gravatar_id', 'assignee.url', 'assignee.html_url',\n",
       "       'assignee.followers_url', 'assignee.following_url',\n",
       "       'assignee.gists_url', 'assignee.starred_url',\n",
       "       'assignee.subscriptions_url', 'assignee.organizations_url',\n",
       "       'assignee.repos_url', 'assignee.events_url',\n",
       "       'assignee.received_events_url', 'assignee.type', 'assignee.site_admin'],\n",
       "      dtype='object')"
      ]
     },
     "execution_count": 7,
     "metadata": {},
     "output_type": "execute_result"
    }
   ],
   "source": [
    "df.columns"
   ]
  },
  {
   "cell_type": "code",
   "execution_count": 17,
   "metadata": {},
   "outputs": [
    {
     "data": {
      "text/plain": [
       "'If a user provides a map function that produces multiple outputs, e.g.\\n\\n``` python\\ndef f(block):\\n    return block - 1, block + 1\\n```\\n\\nThen they should be able to specify that somehow in the call to mapblocks\\n\\n``` python\\na, b = x.map_blocks(f, blockshape=[(10, 10), (10, 10)])\\n```\\n\\nand receive two dask `Array` objects that share a common dask graph.\\n'"
      ]
     },
     "execution_count": 17,
     "metadata": {},
     "output_type": "execute_result"
    }
   ],
   "source": [
    "df['body'].iloc[0]"
   ]
  },
  {
   "cell_type": "code",
   "execution_count": 15,
   "metadata": {},
   "outputs": [
    {
     "data": {
      "text/plain": [
       "'https://api.github.com/repos/dask/dask/issues/72/comments'"
      ]
     },
     "execution_count": 15,
     "metadata": {},
     "output_type": "execute_result"
    }
   ],
   "source": [
    "df[\"comments_url\"].iloc[0]"
   ]
  },
  {
   "cell_type": "code",
   "execution_count": 18,
   "metadata": {},
   "outputs": [],
   "source": [
    "import pandas as pd"
   ]
  },
  {
   "cell_type": "code",
   "execution_count": 19,
   "metadata": {},
   "outputs": [],
   "source": [
    "df = pd.read_csv(\"dask_issue_details.csv\")"
   ]
  },
  {
   "cell_type": "code",
   "execution_count": 20,
   "metadata": {},
   "outputs": [],
   "source": [
    "    import pandas as pd\n",
    "\n",
    "    df = pd.read_csv(\"dask_issue_details.csv\")"
   ]
  },
  {
   "cell_type": "code",
   "execution_count": 21,
   "metadata": {},
   "outputs": [
    {
     "data": {
      "text/html": [
       "<div>\n",
       "<style scoped>\n",
       "    .dataframe tbody tr th:only-of-type {\n",
       "        vertical-align: middle;\n",
       "    }\n",
       "\n",
       "    .dataframe tbody tr th {\n",
       "        vertical-align: top;\n",
       "    }\n",
       "\n",
       "    .dataframe thead th {\n",
       "        text-align: right;\n",
       "    }\n",
       "</style>\n",
       "<table border=\"1\" class=\"dataframe\">\n",
       "  <thead>\n",
       "    <tr style=\"text-align: right;\">\n",
       "      <th></th>\n",
       "      <th>Unnamed: 0</th>\n",
       "      <th>url</th>\n",
       "      <th>repository_url</th>\n",
       "      <th>labels_url</th>\n",
       "      <th>comments_url</th>\n",
       "      <th>events_url</th>\n",
       "      <th>html_url</th>\n",
       "      <th>id</th>\n",
       "      <th>node_id</th>\n",
       "      <th>number</th>\n",
       "      <th>...</th>\n",
       "      <th>assignee.following_url</th>\n",
       "      <th>assignee.gists_url</th>\n",
       "      <th>assignee.starred_url</th>\n",
       "      <th>assignee.subscriptions_url</th>\n",
       "      <th>assignee.organizations_url</th>\n",
       "      <th>assignee.repos_url</th>\n",
       "      <th>assignee.events_url</th>\n",
       "      <th>assignee.received_events_url</th>\n",
       "      <th>assignee.type</th>\n",
       "      <th>assignee.site_admin</th>\n",
       "    </tr>\n",
       "  </thead>\n",
       "  <tbody>\n",
       "    <tr>\n",
       "      <th>0</th>\n",
       "      <td>0</td>\n",
       "      <td>https://api.github.com/repos/dask/dask/issues/72</td>\n",
       "      <td>https://api.github.com/repos/dask/dask</td>\n",
       "      <td>https://api.github.com/repos/dask/dask/issues/...</td>\n",
       "      <td>https://api.github.com/repos/dask/dask/issues/...</td>\n",
       "      <td>https://api.github.com/repos/dask/dask/issues/...</td>\n",
       "      <td>https://github.com/dask/dask/issues/72</td>\n",
       "      <td>60959584</td>\n",
       "      <td>MDU6SXNzdWU2MDk1OTU4NA==</td>\n",
       "      <td>72</td>\n",
       "      <td>...</td>\n",
       "      <td>NaN</td>\n",
       "      <td>NaN</td>\n",
       "      <td>NaN</td>\n",
       "      <td>NaN</td>\n",
       "      <td>NaN</td>\n",
       "      <td>NaN</td>\n",
       "      <td>NaN</td>\n",
       "      <td>NaN</td>\n",
       "      <td>NaN</td>\n",
       "      <td>NaN</td>\n",
       "    </tr>\n",
       "    <tr>\n",
       "      <th>1</th>\n",
       "      <td>1</td>\n",
       "      <td>https://api.github.com/repos/dask/dask/issues/97</td>\n",
       "      <td>https://api.github.com/repos/dask/dask</td>\n",
       "      <td>https://api.github.com/repos/dask/dask/issues/...</td>\n",
       "      <td>https://api.github.com/repos/dask/dask/issues/...</td>\n",
       "      <td>https://api.github.com/repos/dask/dask/issues/...</td>\n",
       "      <td>https://github.com/dask/dask/issues/97</td>\n",
       "      <td>64692056</td>\n",
       "      <td>MDU6SXNzdWU2NDY5MjA1Ng==</td>\n",
       "      <td>97</td>\n",
       "      <td>...</td>\n",
       "      <td>NaN</td>\n",
       "      <td>NaN</td>\n",
       "      <td>NaN</td>\n",
       "      <td>NaN</td>\n",
       "      <td>NaN</td>\n",
       "      <td>NaN</td>\n",
       "      <td>NaN</td>\n",
       "      <td>NaN</td>\n",
       "      <td>NaN</td>\n",
       "      <td>NaN</td>\n",
       "    </tr>\n",
       "    <tr>\n",
       "      <th>2</th>\n",
       "      <td>2</td>\n",
       "      <td>https://api.github.com/repos/dask/dask/issues/731</td>\n",
       "      <td>https://api.github.com/repos/dask/dask</td>\n",
       "      <td>https://api.github.com/repos/dask/dask/issues/...</td>\n",
       "      <td>https://api.github.com/repos/dask/dask/issues/...</td>\n",
       "      <td>https://api.github.com/repos/dask/dask/issues/...</td>\n",
       "      <td>https://github.com/dask/dask/issues/731</td>\n",
       "      <td>107308081</td>\n",
       "      <td>MDU6SXNzdWUxMDczMDgwODE=</td>\n",
       "      <td>731</td>\n",
       "      <td>...</td>\n",
       "      <td>NaN</td>\n",
       "      <td>NaN</td>\n",
       "      <td>NaN</td>\n",
       "      <td>NaN</td>\n",
       "      <td>NaN</td>\n",
       "      <td>NaN</td>\n",
       "      <td>NaN</td>\n",
       "      <td>NaN</td>\n",
       "      <td>NaN</td>\n",
       "      <td>NaN</td>\n",
       "    </tr>\n",
       "    <tr>\n",
       "      <th>3</th>\n",
       "      <td>3</td>\n",
       "      <td>https://api.github.com/repos/dask/dask/issues/746</td>\n",
       "      <td>https://api.github.com/repos/dask/dask</td>\n",
       "      <td>https://api.github.com/repos/dask/dask/issues/...</td>\n",
       "      <td>https://api.github.com/repos/dask/dask/issues/...</td>\n",
       "      <td>https://api.github.com/repos/dask/dask/issues/...</td>\n",
       "      <td>https://github.com/dask/dask/issues/746</td>\n",
       "      <td>107803943</td>\n",
       "      <td>MDU6SXNzdWUxMDc4MDM5NDM=</td>\n",
       "      <td>746</td>\n",
       "      <td>...</td>\n",
       "      <td>NaN</td>\n",
       "      <td>NaN</td>\n",
       "      <td>NaN</td>\n",
       "      <td>NaN</td>\n",
       "      <td>NaN</td>\n",
       "      <td>NaN</td>\n",
       "      <td>NaN</td>\n",
       "      <td>NaN</td>\n",
       "      <td>NaN</td>\n",
       "      <td>NaN</td>\n",
       "    </tr>\n",
       "    <tr>\n",
       "      <th>4</th>\n",
       "      <td>4</td>\n",
       "      <td>https://api.github.com/repos/dask/dask/issues/874</td>\n",
       "      <td>https://api.github.com/repos/dask/dask</td>\n",
       "      <td>https://api.github.com/repos/dask/dask/issues/...</td>\n",
       "      <td>https://api.github.com/repos/dask/dask/issues/...</td>\n",
       "      <td>https://api.github.com/repos/dask/dask/issues/...</td>\n",
       "      <td>https://github.com/dask/dask/issues/874</td>\n",
       "      <td>121327475</td>\n",
       "      <td>MDU6SXNzdWUxMjEzMjc0NzU=</td>\n",
       "      <td>874</td>\n",
       "      <td>...</td>\n",
       "      <td>NaN</td>\n",
       "      <td>NaN</td>\n",
       "      <td>NaN</td>\n",
       "      <td>NaN</td>\n",
       "      <td>NaN</td>\n",
       "      <td>NaN</td>\n",
       "      <td>NaN</td>\n",
       "      <td>NaN</td>\n",
       "      <td>NaN</td>\n",
       "      <td>NaN</td>\n",
       "    </tr>\n",
       "    <tr>\n",
       "      <th>...</th>\n",
       "      <td>...</td>\n",
       "      <td>...</td>\n",
       "      <td>...</td>\n",
       "      <td>...</td>\n",
       "      <td>...</td>\n",
       "      <td>...</td>\n",
       "      <td>...</td>\n",
       "      <td>...</td>\n",
       "      <td>...</td>\n",
       "      <td>...</td>\n",
       "      <td>...</td>\n",
       "      <td>...</td>\n",
       "      <td>...</td>\n",
       "      <td>...</td>\n",
       "      <td>...</td>\n",
       "      <td>...</td>\n",
       "      <td>...</td>\n",
       "      <td>...</td>\n",
       "      <td>...</td>\n",
       "      <td>...</td>\n",
       "      <td>...</td>\n",
       "    </tr>\n",
       "    <tr>\n",
       "      <th>1050</th>\n",
       "      <td>1050</td>\n",
       "      <td>https://api.github.com/repos/dask/dask/issues/...</td>\n",
       "      <td>https://api.github.com/repos/dask/dask</td>\n",
       "      <td>https://api.github.com/repos/dask/dask/issues/...</td>\n",
       "      <td>https://api.github.com/repos/dask/dask/issues/...</td>\n",
       "      <td>https://api.github.com/repos/dask/dask/issues/...</td>\n",
       "      <td>https://github.com/dask/dask/pull/11150</td>\n",
       "      <td>2321835367</td>\n",
       "      <td>PR_kwDOAbcwm85wznQv</td>\n",
       "      <td>11150</td>\n",
       "      <td>...</td>\n",
       "      <td>NaN</td>\n",
       "      <td>NaN</td>\n",
       "      <td>NaN</td>\n",
       "      <td>NaN</td>\n",
       "      <td>NaN</td>\n",
       "      <td>NaN</td>\n",
       "      <td>NaN</td>\n",
       "      <td>NaN</td>\n",
       "      <td>NaN</td>\n",
       "      <td>NaN</td>\n",
       "    </tr>\n",
       "    <tr>\n",
       "      <th>1051</th>\n",
       "      <td>1051</td>\n",
       "      <td>https://api.github.com/repos/dask/dask/issues/...</td>\n",
       "      <td>https://api.github.com/repos/dask/dask</td>\n",
       "      <td>https://api.github.com/repos/dask/dask/issues/...</td>\n",
       "      <td>https://api.github.com/repos/dask/dask/issues/...</td>\n",
       "      <td>https://api.github.com/repos/dask/dask/issues/...</td>\n",
       "      <td>https://github.com/dask/dask/issues/11153</td>\n",
       "      <td>2323604866</td>\n",
       "      <td>I_kwDOAbcwm86Kf2WC</td>\n",
       "      <td>11153</td>\n",
       "      <td>...</td>\n",
       "      <td>NaN</td>\n",
       "      <td>NaN</td>\n",
       "      <td>NaN</td>\n",
       "      <td>NaN</td>\n",
       "      <td>NaN</td>\n",
       "      <td>NaN</td>\n",
       "      <td>NaN</td>\n",
       "      <td>NaN</td>\n",
       "      <td>NaN</td>\n",
       "      <td>NaN</td>\n",
       "    </tr>\n",
       "    <tr>\n",
       "      <th>1052</th>\n",
       "      <td>1052</td>\n",
       "      <td>https://api.github.com/repos/dask/dask/issues/...</td>\n",
       "      <td>https://api.github.com/repos/dask/dask</td>\n",
       "      <td>https://api.github.com/repos/dask/dask/issues/...</td>\n",
       "      <td>https://api.github.com/repos/dask/dask/issues/...</td>\n",
       "      <td>https://api.github.com/repos/dask/dask/issues/...</td>\n",
       "      <td>https://github.com/dask/dask/issues/11155</td>\n",
       "      <td>2325180025</td>\n",
       "      <td>I_kwDOAbcwm86Kl255</td>\n",
       "      <td>11155</td>\n",
       "      <td>...</td>\n",
       "      <td>NaN</td>\n",
       "      <td>NaN</td>\n",
       "      <td>NaN</td>\n",
       "      <td>NaN</td>\n",
       "      <td>NaN</td>\n",
       "      <td>NaN</td>\n",
       "      <td>NaN</td>\n",
       "      <td>NaN</td>\n",
       "      <td>NaN</td>\n",
       "      <td>NaN</td>\n",
       "    </tr>\n",
       "    <tr>\n",
       "      <th>1053</th>\n",
       "      <td>1053</td>\n",
       "      <td>https://api.github.com/repos/dask/dask/issues/...</td>\n",
       "      <td>https://api.github.com/repos/dask/dask</td>\n",
       "      <td>https://api.github.com/repos/dask/dask/issues/...</td>\n",
       "      <td>https://api.github.com/repos/dask/dask/issues/...</td>\n",
       "      <td>https://api.github.com/repos/dask/dask/issues/...</td>\n",
       "      <td>https://github.com/dask/dask/pull/11156</td>\n",
       "      <td>2326241330</td>\n",
       "      <td>PR_kwDOAbcwm85xCtT1</td>\n",
       "      <td>11156</td>\n",
       "      <td>...</td>\n",
       "      <td>NaN</td>\n",
       "      <td>NaN</td>\n",
       "      <td>NaN</td>\n",
       "      <td>NaN</td>\n",
       "      <td>NaN</td>\n",
       "      <td>NaN</td>\n",
       "      <td>NaN</td>\n",
       "      <td>NaN</td>\n",
       "      <td>NaN</td>\n",
       "      <td>NaN</td>\n",
       "    </tr>\n",
       "    <tr>\n",
       "      <th>1054</th>\n",
       "      <td>1054</td>\n",
       "      <td>https://api.github.com/repos/dask/dask/issues/...</td>\n",
       "      <td>https://api.github.com/repos/dask/dask</td>\n",
       "      <td>https://api.github.com/repos/dask/dask/issues/...</td>\n",
       "      <td>https://api.github.com/repos/dask/dask/issues/...</td>\n",
       "      <td>https://api.github.com/repos/dask/dask/issues/...</td>\n",
       "      <td>https://github.com/dask/dask/issues/11160</td>\n",
       "      <td>2332832601</td>\n",
       "      <td>I_kwDOAbcwm86LDDNZ</td>\n",
       "      <td>11160</td>\n",
       "      <td>...</td>\n",
       "      <td>NaN</td>\n",
       "      <td>NaN</td>\n",
       "      <td>NaN</td>\n",
       "      <td>NaN</td>\n",
       "      <td>NaN</td>\n",
       "      <td>NaN</td>\n",
       "      <td>NaN</td>\n",
       "      <td>NaN</td>\n",
       "      <td>NaN</td>\n",
       "      <td>NaN</td>\n",
       "    </tr>\n",
       "  </tbody>\n",
       "</table>\n",
       "<p>1055 rows × 98 columns</p>\n",
       "</div>"
      ],
      "text/plain": [
       "      Unnamed: 0                                                url  \\\n",
       "0              0   https://api.github.com/repos/dask/dask/issues/72   \n",
       "1              1   https://api.github.com/repos/dask/dask/issues/97   \n",
       "2              2  https://api.github.com/repos/dask/dask/issues/731   \n",
       "3              3  https://api.github.com/repos/dask/dask/issues/746   \n",
       "4              4  https://api.github.com/repos/dask/dask/issues/874   \n",
       "...          ...                                                ...   \n",
       "1050        1050  https://api.github.com/repos/dask/dask/issues/...   \n",
       "1051        1051  https://api.github.com/repos/dask/dask/issues/...   \n",
       "1052        1052  https://api.github.com/repos/dask/dask/issues/...   \n",
       "1053        1053  https://api.github.com/repos/dask/dask/issues/...   \n",
       "1054        1054  https://api.github.com/repos/dask/dask/issues/...   \n",
       "\n",
       "                              repository_url  \\\n",
       "0     https://api.github.com/repos/dask/dask   \n",
       "1     https://api.github.com/repos/dask/dask   \n",
       "2     https://api.github.com/repos/dask/dask   \n",
       "3     https://api.github.com/repos/dask/dask   \n",
       "4     https://api.github.com/repos/dask/dask   \n",
       "...                                      ...   \n",
       "1050  https://api.github.com/repos/dask/dask   \n",
       "1051  https://api.github.com/repos/dask/dask   \n",
       "1052  https://api.github.com/repos/dask/dask   \n",
       "1053  https://api.github.com/repos/dask/dask   \n",
       "1054  https://api.github.com/repos/dask/dask   \n",
       "\n",
       "                                             labels_url  \\\n",
       "0     https://api.github.com/repos/dask/dask/issues/...   \n",
       "1     https://api.github.com/repos/dask/dask/issues/...   \n",
       "2     https://api.github.com/repos/dask/dask/issues/...   \n",
       "3     https://api.github.com/repos/dask/dask/issues/...   \n",
       "4     https://api.github.com/repos/dask/dask/issues/...   \n",
       "...                                                 ...   \n",
       "1050  https://api.github.com/repos/dask/dask/issues/...   \n",
       "1051  https://api.github.com/repos/dask/dask/issues/...   \n",
       "1052  https://api.github.com/repos/dask/dask/issues/...   \n",
       "1053  https://api.github.com/repos/dask/dask/issues/...   \n",
       "1054  https://api.github.com/repos/dask/dask/issues/...   \n",
       "\n",
       "                                           comments_url  \\\n",
       "0     https://api.github.com/repos/dask/dask/issues/...   \n",
       "1     https://api.github.com/repos/dask/dask/issues/...   \n",
       "2     https://api.github.com/repos/dask/dask/issues/...   \n",
       "3     https://api.github.com/repos/dask/dask/issues/...   \n",
       "4     https://api.github.com/repos/dask/dask/issues/...   \n",
       "...                                                 ...   \n",
       "1050  https://api.github.com/repos/dask/dask/issues/...   \n",
       "1051  https://api.github.com/repos/dask/dask/issues/...   \n",
       "1052  https://api.github.com/repos/dask/dask/issues/...   \n",
       "1053  https://api.github.com/repos/dask/dask/issues/...   \n",
       "1054  https://api.github.com/repos/dask/dask/issues/...   \n",
       "\n",
       "                                             events_url  \\\n",
       "0     https://api.github.com/repos/dask/dask/issues/...   \n",
       "1     https://api.github.com/repos/dask/dask/issues/...   \n",
       "2     https://api.github.com/repos/dask/dask/issues/...   \n",
       "3     https://api.github.com/repos/dask/dask/issues/...   \n",
       "4     https://api.github.com/repos/dask/dask/issues/...   \n",
       "...                                                 ...   \n",
       "1050  https://api.github.com/repos/dask/dask/issues/...   \n",
       "1051  https://api.github.com/repos/dask/dask/issues/...   \n",
       "1052  https://api.github.com/repos/dask/dask/issues/...   \n",
       "1053  https://api.github.com/repos/dask/dask/issues/...   \n",
       "1054  https://api.github.com/repos/dask/dask/issues/...   \n",
       "\n",
       "                                       html_url          id  \\\n",
       "0        https://github.com/dask/dask/issues/72    60959584   \n",
       "1        https://github.com/dask/dask/issues/97    64692056   \n",
       "2       https://github.com/dask/dask/issues/731   107308081   \n",
       "3       https://github.com/dask/dask/issues/746   107803943   \n",
       "4       https://github.com/dask/dask/issues/874   121327475   \n",
       "...                                         ...         ...   \n",
       "1050    https://github.com/dask/dask/pull/11150  2321835367   \n",
       "1051  https://github.com/dask/dask/issues/11153  2323604866   \n",
       "1052  https://github.com/dask/dask/issues/11155  2325180025   \n",
       "1053    https://github.com/dask/dask/pull/11156  2326241330   \n",
       "1054  https://github.com/dask/dask/issues/11160  2332832601   \n",
       "\n",
       "                       node_id  number  ... assignee.following_url  \\\n",
       "0     MDU6SXNzdWU2MDk1OTU4NA==      72  ...                    NaN   \n",
       "1     MDU6SXNzdWU2NDY5MjA1Ng==      97  ...                    NaN   \n",
       "2     MDU6SXNzdWUxMDczMDgwODE=     731  ...                    NaN   \n",
       "3     MDU6SXNzdWUxMDc4MDM5NDM=     746  ...                    NaN   \n",
       "4     MDU6SXNzdWUxMjEzMjc0NzU=     874  ...                    NaN   \n",
       "...                        ...     ...  ...                    ...   \n",
       "1050       PR_kwDOAbcwm85wznQv   11150  ...                    NaN   \n",
       "1051        I_kwDOAbcwm86Kf2WC   11153  ...                    NaN   \n",
       "1052        I_kwDOAbcwm86Kl255   11155  ...                    NaN   \n",
       "1053       PR_kwDOAbcwm85xCtT1   11156  ...                    NaN   \n",
       "1054        I_kwDOAbcwm86LDDNZ   11160  ...                    NaN   \n",
       "\n",
       "     assignee.gists_url assignee.starred_url  assignee.subscriptions_url  \\\n",
       "0                   NaN                  NaN                         NaN   \n",
       "1                   NaN                  NaN                         NaN   \n",
       "2                   NaN                  NaN                         NaN   \n",
       "3                   NaN                  NaN                         NaN   \n",
       "4                   NaN                  NaN                         NaN   \n",
       "...                 ...                  ...                         ...   \n",
       "1050                NaN                  NaN                         NaN   \n",
       "1051                NaN                  NaN                         NaN   \n",
       "1052                NaN                  NaN                         NaN   \n",
       "1053                NaN                  NaN                         NaN   \n",
       "1054                NaN                  NaN                         NaN   \n",
       "\n",
       "      assignee.organizations_url assignee.repos_url  assignee.events_url  \\\n",
       "0                            NaN                NaN                  NaN   \n",
       "1                            NaN                NaN                  NaN   \n",
       "2                            NaN                NaN                  NaN   \n",
       "3                            NaN                NaN                  NaN   \n",
       "4                            NaN                NaN                  NaN   \n",
       "...                          ...                ...                  ...   \n",
       "1050                         NaN                NaN                  NaN   \n",
       "1051                         NaN                NaN                  NaN   \n",
       "1052                         NaN                NaN                  NaN   \n",
       "1053                         NaN                NaN                  NaN   \n",
       "1054                         NaN                NaN                  NaN   \n",
       "\n",
       "      assignee.received_events_url assignee.type assignee.site_admin  \n",
       "0                              NaN           NaN                 NaN  \n",
       "1                              NaN           NaN                 NaN  \n",
       "2                              NaN           NaN                 NaN  \n",
       "3                              NaN           NaN                 NaN  \n",
       "4                              NaN           NaN                 NaN  \n",
       "...                            ...           ...                 ...  \n",
       "1050                           NaN           NaN                 NaN  \n",
       "1051                           NaN           NaN                 NaN  \n",
       "1052                           NaN           NaN                 NaN  \n",
       "1053                           NaN           NaN                 NaN  \n",
       "1054                           NaN           NaN                 NaN  \n",
       "\n",
       "[1055 rows x 98 columns]"
      ]
     },
     "execution_count": 21,
     "metadata": {},
     "output_type": "execute_result"
    }
   ],
   "source": [
    "df"
   ]
  },
  {
   "cell_type": "code",
   "execution_count": 23,
   "metadata": {},
   "outputs": [
    {
     "data": {
      "text/plain": [
       "'https://api.github.com/repos/dask/dask/issues/72/comments'"
      ]
     },
     "execution_count": 23,
     "metadata": {},
     "output_type": "execute_result"
    }
   ],
   "source": [
    "df[\"comments_url\"][0]"
   ]
  },
  {
   "cell_type": "code",
   "execution_count": null,
   "metadata": {},
   "outputs": [],
   "source": []
  }
 ],
 "metadata": {
  "kernelspec": {
   "display_name": "test_env",
   "language": "python",
   "name": "python3"
  },
  "language_info": {
   "codemirror_mode": {
    "name": "ipython",
    "version": 3
   },
   "file_extension": ".py",
   "mimetype": "text/x-python",
   "name": "python",
   "nbconvert_exporter": "python",
   "pygments_lexer": "ipython3",
   "version": "3.10.14"
  }
 },
 "nbformat": 4,
 "nbformat_minor": 2
}
