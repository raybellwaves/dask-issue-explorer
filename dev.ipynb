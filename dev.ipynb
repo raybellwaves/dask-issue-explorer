{
 "cells": [
  {
   "cell_type": "code",
   "execution_count": null,
   "metadata": {},
   "outputs": [],
   "source": [
    "ORG = \"dask\"\n",
    "REPO = \"dask\"\n",
    "repo = REPO"
   ]
  },
  {
   "cell_type": "code",
   "execution_count": null,
   "metadata": {},
   "outputs": [],
   "source": [
    "    BOTS = [\"dependabot[bot]\", \"GPUtester\", \"github-actions[bot]\"]\n",
    "\n",
    "    import pandas as pd\n",
    "\n",
    "    issue_core_columns = [\n",
    "        \"number\",\n",
    "        \"title\",\n",
    "        \"issue_text\",\n",
    "        \"issue_user.login\",\n",
    "        \"author_association\",\n",
    "        \"label_names\",\n",
    "        # \"state\",\n",
    "        # \"locked\",\n",
    "        # \"milestone\",\n",
    "        \"issue_created_at\",\n",
    "        \"issue_updated_at\",\n",
    "        \"issue_reactions.total_count\",\n",
    "        \"issue_reactions.+1\",\n",
    "        \"issue_reactions.-1\",\n",
    "        \"issue_reactions.laugh\",\n",
    "        \"issue_reactions.hooray\",\n",
    "        \"issue_reactions.confused\",\n",
    "        \"issue_reactions.heart\",\n",
    "        \"issue_reactions.rocket\",\n",
    "        \"issue_reactions.eyes\",\n",
    "        \"n_comments\",\n",
    "    ]\n",
    "    df_issues = pd.read_csv(f\"{repo}_issue_details.csv\")[issue_core_columns]\n",
    "    df_issues = df_issues.loc[~df_issues[\"issue_user.login\"].isin(BOTS)].reset_index(\n",
    "        drop=True\n",
    "    )"
   ]
  },
  {
   "cell_type": "code",
   "execution_count": null,
   "metadata": {},
   "outputs": [],
   "source": [
    "df_issues"
   ]
  },
  {
   "cell_type": "code",
   "execution_count": null,
   "metadata": {},
   "outputs": [],
   "source": [
    "df_issues[\"number\"][4] == 874"
   ]
  },
  {
   "cell_type": "code",
   "execution_count": null,
   "metadata": {},
   "outputs": [],
   "source": [
    "874 in df_issues[\"number\"].astype(int)"
   ]
  },
  {
   "cell_type": "code",
   "execution_count": null,
   "metadata": {},
   "outputs": [],
   "source": [
    "# Check the data type\n",
    "print(df_issues[\"number\"].dtype)\n",
    "\n",
    "# Convert to integers if needed\n",
    "if df_issues[\"number\"].dtype != 'int64':\n",
    "    df_issues[\"number\"] = df_issues[\"number\"].astype(int)\n",
    "\n",
    "# Now check again\n",
    "print(874 in df_issues[\"number\"].tolist())  # Should return True if 874 is in the column\n",
    "\n",
    "# Alternatively, ensure there's no whitespace if it's a string\n",
    "# df_issues[\"number\"] = df_issues[\"number\"].str.strip()\n"
   ]
  },
  {
   "cell_type": "code",
   "execution_count": null,
   "metadata": {},
   "outputs": [],
   "source": [
    "874 in df_issues[\"number\"]"
   ]
  },
  {
   "cell_type": "code",
   "execution_count": null,
   "metadata": {},
   "outputs": [],
   "source": [
    "!ls dask_issues/* | wc -l"
   ]
  },
  {
   "cell_type": "code",
   "execution_count": null,
   "metadata": {},
   "outputs": [],
   "source": [
    "    import json\n",
    "    import os\n",
    "    import pandas as pd\n",
    "\n",
    "    from tqdm.auto import tqdm\n"
   ]
  },
  {
   "cell_type": "code",
   "execution_count": null,
   "metadata": {},
   "outputs": [],
   "source": [
    "874 in df_issues[\"number\"]"
   ]
  },
  {
   "cell_type": "code",
   "execution_count": null,
   "metadata": {},
   "outputs": [],
   "source": [
    "files = sorted(os.listdir(f\"{repo}_issues\"))\n",
    "for file in files:\n",
    "    issue_number_from_json_filename = int(file.split(\".\")[0][-5:])\n",
    "    if issue_number_from_json_filename in df_issues[\"number\"].tolist():\n",
    "        pass\n",
    "    else:\n",
    "        print(issue_number_from_json_filename)\n",
    "        print(file)"
   ]
  },
  {
   "cell_type": "code",
   "execution_count": null,
   "metadata": {},
   "outputs": [],
   "source": [
    "len(files)"
   ]
  },
  {
   "cell_type": "code",
   "execution_count": null,
   "metadata": {},
   "outputs": [],
   "source": [
    "int(files[0].split(\".\")[0][-5:]) in df_issues[\"number\"]"
   ]
  },
  {
   "cell_type": "code",
   "execution_count": null,
   "metadata": {},
   "outputs": [],
   "source": [
    "ORG = \"dask\"\n",
    "REPO = \"dask\"\n",
    "BOTS = [\"dependabot[bot]\", \"GPUtester\", \"github-actions[bot]\"]"
   ]
  },
  {
   "cell_type": "code",
   "execution_count": null,
   "metadata": {},
   "outputs": [],
   "source": [
    "org: str = ORG\n",
    "repo: str = REPO"
   ]
  },
  {
   "cell_type": "code",
   "execution_count": null,
   "metadata": {},
   "outputs": [],
   "source": [
    "    import os\n",
    "    import requests\n",
    "    import json\n",
    "\n",
    "    from tqdm.auto import tqdm\n",
    "\n",
    "    output_folder = f\"{repo}_issues\"\n",
    "    os.makedirs(output_folder, exist_ok=True)\n",
    "\n",
    "    headers = {\"Authorization\": f\"token {os.environ['GITHUB_API_TOKEN']}\"}\n",
    "\n",
    "    issues = []\n",
    "    page = 1"
   ]
  },
  {
   "cell_type": "code",
   "execution_count": null,
   "metadata": {},
   "outputs": [],
   "source": [
    "issues_url = f\"https://api.github.com/repos/{org}/{repo}/issues?state=open&per_page=100&page={page}\""
   ]
  },
  {
   "cell_type": "code",
   "execution_count": null,
   "metadata": {},
   "outputs": [],
   "source": [
    "        response = requests.get(issues_url, headers=headers)\n",
    "        page_issues = response.json()\n",
    "        only_issues = [issue for issue in page_issues if \"pull_request\" not in issue]"
   ]
  },
  {
   "cell_type": "code",
   "execution_count": null,
   "metadata": {},
   "outputs": [],
   "source": [
    "only_issues"
   ]
  },
  {
   "cell_type": "code",
   "execution_count": null,
   "metadata": {},
   "outputs": [],
   "source": [
    "for issue in only_issues:\n",
    "    print(issue[\"user\"][\"login\"])\n",
    "    print()"
   ]
  },
  {
   "cell_type": "code",
   "execution_count": null,
   "metadata": {},
   "outputs": [],
   "source": [
    "    for file in tqdm(sorted(os.listdir(f\"{repo}_issues\")), \"concatenating issues\"):\n",
    "        with open(f\"{repo}_issues/{file}\", \"r\") as f:\n",
    "            data = json.load(f)\n",
    "        _df = pd.json_normalize(data)"
   ]
  },
  {
   "cell_type": "code",
   "execution_count": null,
   "metadata": {},
   "outputs": [],
   "source": [
    "!rm -rf ./milvus_demo.db"
   ]
  },
  {
   "cell_type": "code",
   "execution_count": 1,
   "metadata": {
    "execution": {
     "iopub.execute_input": "2024-06-07T01:51:46.697085Z",
     "iopub.status.busy": "2024-06-07T01:51:46.696426Z",
     "iopub.status.idle": "2024-06-07T01:51:49.864026Z",
     "shell.execute_reply": "2024-06-07T01:51:49.862750Z",
     "shell.execute_reply.started": "2024-06-07T01:51:46.697053Z"
    }
   },
   "outputs": [],
   "source": [
    "from pymilvus import MilvusClient\n",
    "import numpy as np\n",
    "\n",
    "client = MilvusClient(\"./milvus_demo.db\")\n",
    "client.create_collection(\n",
    "    collection_name=\"demo_collection\",\n",
    "    dimension=768  # The vectors we will use in this demo has 384 dimensions\n",
    ")"
   ]
  },
  {
   "cell_type": "code",
   "execution_count": 2,
   "metadata": {
    "execution": {
     "iopub.execute_input": "2024-06-07T01:52:04.369121Z",
     "iopub.status.busy": "2024-06-07T01:52:04.368450Z",
     "iopub.status.idle": "2024-06-07T01:52:12.567334Z",
     "shell.execute_reply": "2024-06-07T01:52:12.566601Z",
     "shell.execute_reply.started": "2024-06-07T01:52:04.369088Z"
    }
   },
   "outputs": [
    {
     "name": "stderr",
     "output_type": "stream",
     "text": [
      "/Users/ray/miniforge3/envs/test_env/lib/python3.10/site-packages/huggingface_hub/file_download.py:1132: FutureWarning: `resume_download` is deprecated and will be removed in version 1.0.0. Downloads always resume when possible. If you want to force a new download, use `force_download=True`.\n",
      "  warnings.warn(\n"
     ]
    },
    {
     "name": "stdout",
     "output_type": "stream",
     "text": [
      "Dim: 768 (768,)\n",
      "Data has 3 entities, each with fields:  dict_keys(['id', 'vector', 'text', 'subject'])\n",
      "Vector dim: 768\n"
     ]
    }
   ],
   "source": [
    "from pymilvus import model\n",
    "\n",
    "# If connection to https://huggingface.co/ failed, uncomment the following path\n",
    "# import os\n",
    "# os.environ['HF_ENDPOINT'] = 'https://hf-mirror.com'\n",
    "\n",
    "# This will download a small embedding model \"paraphrase-albert-small-v2\" (~50MB).\n",
    "embedding_fn = model.DefaultEmbeddingFunction()\n",
    "\n",
    "# Text strings to search from.\n",
    "docs = [\n",
    "    \"Artificial intelligence was founded as an academic discipline in 1956.\",\n",
    "    \"Alan Turing was the first person to conduct substantial research in AI.\",\n",
    "    \"Born in Maida Vale, London, Turing was raised in southern England.\",\n",
    "]\n",
    "\n",
    "vectors = embedding_fn.encode_documents(docs)\n",
    "# The output vector has 768 dimensions, matching the collection that we just created.\n",
    "print(\"Dim:\", embedding_fn.dim, vectors[0].shape)  # Dim: 768 (768,)\n",
    "\n",
    "# Each entity has id, vector representation, raw text, and a subject label that we use\n",
    "# to demo metadata filtering later.\n",
    "data = [\n",
    "    {\"id\": i, \"vector\": vectors[i], \"text\": docs[i], \"subject\": \"history\"}\n",
    "    for i in range(len(vectors))\n",
    "]\n",
    "\n",
    "print(\"Data has\", len(data), \"entities, each with fields: \", data[0].keys())\n",
    "print(\"Vector dim:\", len(data[0][\"vector\"]))"
   ]
  },
  {
   "cell_type": "code",
   "execution_count": 8,
   "metadata": {
    "execution": {
     "iopub.execute_input": "2024-06-07T01:54:31.680476Z",
     "iopub.status.busy": "2024-06-07T01:54:31.679741Z",
     "iopub.status.idle": "2024-06-07T01:54:33.549386Z",
     "shell.execute_reply": "2024-06-07T01:54:33.548622Z",
     "shell.execute_reply.started": "2024-06-07T01:54:31.680444Z"
    }
   },
   "outputs": [
    {
     "name": "stdout",
     "output_type": "stream",
     "text": [
      "data: [\"[{'id': 2, 'distance': 0.5859944224357605, 'entity': {'text': 'Born in Maida Vale, London, Turing was raised in southern England.', 'subject': 'history'}}, {'id': 1, 'distance': 0.5118255615234375, 'entity': {'text': 'Alan Turing was the first person to conduct substantial research in AI.', 'subject': 'history'}}]\"] , extra_info: {'cost': 0}\n"
     ]
    }
   ],
   "source": [
    "query_vectors = embedding_fn.encode_queries([\"Who is Alan Turing?\"])\n",
    "# If you don't have the embedding function you can use a fake vector to finish the demo:\n",
    "# query_vectors = [ [ random.uniform(-1, 1) for _ in range(768) ] ]\n",
    "\n",
    "res = client.search(\n",
    "    collection_name=\"demo_collection\",  # target collection\n",
    "    data=query_vectors,  # query vectors\n",
    "    limit=2,  # number of returned entities\n",
    "    output_fields=[\"text\", \"subject\"],  # specifies fields to be returned\n",
    ")\n",
    "\n",
    "print(res)"
   ]
  },
  {
   "cell_type": "code",
   "execution_count": 6,
   "metadata": {
    "execution": {
     "iopub.execute_input": "2024-06-07T01:53:30.334126Z",
     "iopub.status.busy": "2024-06-07T01:53:30.333550Z",
     "iopub.status.idle": "2024-06-07T01:53:30.339495Z",
     "shell.execute_reply": "2024-06-07T01:53:30.338370Z",
     "shell.execute_reply.started": "2024-06-07T01:53:30.334099Z"
    }
   },
   "outputs": [
    {
     "data": {
      "text/plain": [
       "(3, 768)"
      ]
     },
     "execution_count": 6,
     "metadata": {},
     "output_type": "execute_result"
    }
   ],
   "source": [
    "np.array(vectors).shape"
   ]
  },
  {
   "cell_type": "code",
   "execution_count": 7,
   "metadata": {
    "execution": {
     "iopub.execute_input": "2024-06-07T01:54:01.855624Z",
     "iopub.status.busy": "2024-06-07T01:54:01.854971Z",
     "iopub.status.idle": "2024-06-07T01:54:01.932958Z",
     "shell.execute_reply": "2024-06-07T01:54:01.932205Z",
     "shell.execute_reply.started": "2024-06-07T01:54:01.855596Z"
    }
   },
   "outputs": [
    {
     "name": "stdout",
     "output_type": "stream",
     "text": [
      "{'insert_count': 3, 'ids': [0, 1, 2], 'cost': 0}\n"
     ]
    }
   ],
   "source": [
    "res = client.insert(collection_name=\"demo_collection\", data=data)\n",
    "\n",
    "print(res)"
   ]
  },
  {
   "cell_type": "code",
   "execution_count": null,
   "metadata": {},
   "outputs": [],
   "source": [
    "docs = [\n",
    "    \"Artificial intelligence was founded as an academic discipline in 1956.\",\n",
    "    \"Alan Turing was the first person to conduct substantial research in AI.\",\n",
    "    \"Born in Maida Vale, London, Turing was raised in southern England.\",\n",
    "]"
   ]
  },
  {
   "cell_type": "code",
   "execution_count": null,
   "metadata": {},
   "outputs": [],
   "source": [
    "len(docs[0])"
   ]
  },
  {
   "cell_type": "code",
   "execution_count": null,
   "metadata": {},
   "outputs": [],
   "source": [
    "vectors = [[ np.random.uniform(-1, 1) for _ in range(384) ] for _ in range(len(docs)) ]"
   ]
  },
  {
   "cell_type": "code",
   "execution_count": null,
   "metadata": {},
   "outputs": [],
   "source": [
    "np.array((vectors)).shape"
   ]
  },
  {
   "cell_type": "code",
   "execution_count": null,
   "metadata": {},
   "outputs": [],
   "source": [
    "data = [ {\"id\": i, \"vector\": vectors[i], \"text\": docs[i], \"subject\": \"history\"} for i in range(len(vectors)) ]"
   ]
  },
  {
   "cell_type": "code",
   "execution_count": null,
   "metadata": {
    "scrolled": true
   },
   "outputs": [],
   "source": [
    "data[0]"
   ]
  },
  {
   "cell_type": "code",
   "execution_count": null,
   "metadata": {},
   "outputs": [],
   "source": [
    "res = client.insert(\n",
    "    collection_name=\"demo_collection\",\n",
    "    data=data\n",
    ")"
   ]
  },
  {
   "cell_type": "code",
   "execution_count": null,
   "metadata": {},
   "outputs": [],
   "source": [
    "res = client.search(\n",
    "    collection_name=\"demo_collection\",\n",
    "    data=[vectors[0]],\n",
    "    filter=\"subject == 'history'\",\n",
    "    limit=2,\n",
    "    output_fields=[\"text\", \"subject\"],\n",
    ")\n",
    "print(res)"
   ]
  },
  {
   "cell_type": "code",
   "execution_count": null,
   "metadata": {},
   "outputs": [],
   "source": [
    "res = client.query(\n",
    "    collection_name=\"demo_collection\",\n",
    "    filter=\"subject == 'history'\",\n",
    "    output_fields=[\"text\", \"subject\"],\n",
    ")"
   ]
  },
  {
   "cell_type": "code",
   "execution_count": null,
   "metadata": {},
   "outputs": [],
   "source": [
    "res = client.delete(\n",
    "    collection_name=\"demo_collection\",\n",
    "    filter=\"subject == 'history'\",\n",
    ")"
   ]
  },
  {
   "cell_type": "code",
   "execution_count": null,
   "metadata": {},
   "outputs": [],
   "source": [
    "print(res)"
   ]
  },
  {
   "cell_type": "code",
   "execution_count": 11,
   "metadata": {
    "execution": {
     "iopub.execute_input": "2024-06-07T02:04:09.253533Z",
     "iopub.status.busy": "2024-06-07T02:04:09.252877Z",
     "iopub.status.idle": "2024-06-07T02:04:09.684959Z",
     "shell.execute_reply": "2024-06-07T02:04:09.684209Z",
     "shell.execute_reply.started": "2024-06-07T02:04:09.253502Z"
    }
   },
   "outputs": [],
   "source": [
    "import pandas as pd\n",
    "repo = \"dask\"\n",
    "df = pd.read_parquet(f\"{repo}_issue_with_comments.parquet\")"
   ]
  },
  {
   "cell_type": "code",
   "execution_count": 12,
   "metadata": {
    "execution": {
     "iopub.execute_input": "2024-06-07T02:04:11.402353Z",
     "iopub.status.busy": "2024-06-07T02:04:11.401677Z",
     "iopub.status.idle": "2024-06-07T02:04:11.452845Z",
     "shell.execute_reply": "2024-06-07T02:04:11.451800Z",
     "shell.execute_reply.started": "2024-06-07T02:04:11.402321Z"
    }
   },
   "outputs": [
    {
     "data": {
      "text/html": [
       "<div>\n",
       "<style scoped>\n",
       "    .dataframe tbody tr th:only-of-type {\n",
       "        vertical-align: middle;\n",
       "    }\n",
       "\n",
       "    .dataframe tbody tr th {\n",
       "        vertical-align: top;\n",
       "    }\n",
       "\n",
       "    .dataframe thead th {\n",
       "        text-align: right;\n",
       "    }\n",
       "</style>\n",
       "<table border=\"1\" class=\"dataframe\">\n",
       "  <thead>\n",
       "    <tr style=\"text-align: right;\">\n",
       "      <th></th>\n",
       "      <th>number</th>\n",
       "      <th>title</th>\n",
       "      <th>issue_text</th>\n",
       "      <th>label_names</th>\n",
       "      <th>issue_user.login</th>\n",
       "      <th>author_association</th>\n",
       "      <th>issue_user.login_name</th>\n",
       "      <th>issue_user.login_company</th>\n",
       "      <th>issue_user.login_name_company</th>\n",
       "      <th>issue_user.login_email</th>\n",
       "      <th>...</th>\n",
       "      <th>comment_updated_at</th>\n",
       "      <th>comment_reactions.total_count</th>\n",
       "      <th>comment_reactions.+1</th>\n",
       "      <th>comment_reactions.-1</th>\n",
       "      <th>comment_reactions.laugh</th>\n",
       "      <th>comment_reactions.hooray</th>\n",
       "      <th>comment_reactions.confused</th>\n",
       "      <th>comment_reactions.heart</th>\n",
       "      <th>comment_reactions.rocket</th>\n",
       "      <th>comment_reactions.eyes</th>\n",
       "    </tr>\n",
       "  </thead>\n",
       "  <tbody>\n",
       "    <tr>\n",
       "      <th>0</th>\n",
       "      <td>72</td>\n",
       "      <td>Create multiple output arrays with map_blocks</td>\n",
       "      <td>If a user provides a map function that produce...</td>\n",
       "      <td>['array']</td>\n",
       "      <td>mrocklin</td>\n",
       "      <td>MEMBER</td>\n",
       "      <td>Matthew Rocklin</td>\n",
       "      <td>@coiled</td>\n",
       "      <td>Matthew Rocklin (@coiled )</td>\n",
       "      <td>None</td>\n",
       "      <td>...</td>\n",
       "      <td>2019-11-29T08:47:50Z</td>\n",
       "      <td>1</td>\n",
       "      <td>1</td>\n",
       "      <td>0</td>\n",
       "      <td>0</td>\n",
       "      <td>0</td>\n",
       "      <td>0</td>\n",
       "      <td>0</td>\n",
       "      <td>0</td>\n",
       "      <td>0</td>\n",
       "    </tr>\n",
       "    <tr>\n",
       "      <th>1</th>\n",
       "      <td>72</td>\n",
       "      <td>Create multiple output arrays with map_blocks</td>\n",
       "      <td>If a user provides a map function that produce...</td>\n",
       "      <td>['array']</td>\n",
       "      <td>mrocklin</td>\n",
       "      <td>MEMBER</td>\n",
       "      <td>Matthew Rocklin</td>\n",
       "      <td>@coiled</td>\n",
       "      <td>Matthew Rocklin (@coiled )</td>\n",
       "      <td>None</td>\n",
       "      <td>...</td>\n",
       "      <td>2019-11-29T14:52:21Z</td>\n",
       "      <td>1</td>\n",
       "      <td>1</td>\n",
       "      <td>0</td>\n",
       "      <td>0</td>\n",
       "      <td>0</td>\n",
       "      <td>0</td>\n",
       "      <td>0</td>\n",
       "      <td>0</td>\n",
       "      <td>0</td>\n",
       "    </tr>\n",
       "    <tr>\n",
       "      <th>2</th>\n",
       "      <td>97</td>\n",
       "      <td>Idea: deferred errors</td>\n",
       "      <td>Sometimes, it's nice to have defensive checks ...</td>\n",
       "      <td>['core']</td>\n",
       "      <td>shoyer</td>\n",
       "      <td>MEMBER</td>\n",
       "      <td>Stephan Hoyer</td>\n",
       "      <td>@google</td>\n",
       "      <td>Stephan Hoyer (@google )</td>\n",
       "      <td>shoyer@gmail.com</td>\n",
       "      <td>...</td>\n",
       "      <td>2015-03-27T14:51:53Z</td>\n",
       "      <td>0</td>\n",
       "      <td>0</td>\n",
       "      <td>0</td>\n",
       "      <td>0</td>\n",
       "      <td>0</td>\n",
       "      <td>0</td>\n",
       "      <td>0</td>\n",
       "      <td>0</td>\n",
       "      <td>0</td>\n",
       "    </tr>\n",
       "    <tr>\n",
       "      <th>3</th>\n",
       "      <td>97</td>\n",
       "      <td>Idea: deferred errors</td>\n",
       "      <td>Sometimes, it's nice to have defensive checks ...</td>\n",
       "      <td>['core']</td>\n",
       "      <td>shoyer</td>\n",
       "      <td>MEMBER</td>\n",
       "      <td>Stephan Hoyer</td>\n",
       "      <td>@google</td>\n",
       "      <td>Stephan Hoyer (@google )</td>\n",
       "      <td>shoyer@gmail.com</td>\n",
       "      <td>...</td>\n",
       "      <td>2020-06-18T15:52:15Z</td>\n",
       "      <td>0</td>\n",
       "      <td>0</td>\n",
       "      <td>0</td>\n",
       "      <td>0</td>\n",
       "      <td>0</td>\n",
       "      <td>0</td>\n",
       "      <td>0</td>\n",
       "      <td>0</td>\n",
       "      <td>0</td>\n",
       "    </tr>\n",
       "    <tr>\n",
       "      <th>4</th>\n",
       "      <td>97</td>\n",
       "      <td>Idea: deferred errors</td>\n",
       "      <td>Sometimes, it's nice to have defensive checks ...</td>\n",
       "      <td>['core']</td>\n",
       "      <td>shoyer</td>\n",
       "      <td>MEMBER</td>\n",
       "      <td>Stephan Hoyer</td>\n",
       "      <td>@google</td>\n",
       "      <td>Stephan Hoyer (@google )</td>\n",
       "      <td>shoyer@gmail.com</td>\n",
       "      <td>...</td>\n",
       "      <td>2020-06-18T16:20:34Z</td>\n",
       "      <td>0</td>\n",
       "      <td>0</td>\n",
       "      <td>0</td>\n",
       "      <td>0</td>\n",
       "      <td>0</td>\n",
       "      <td>0</td>\n",
       "      <td>0</td>\n",
       "      <td>0</td>\n",
       "      <td>0</td>\n",
       "    </tr>\n",
       "    <tr>\n",
       "      <th>...</th>\n",
       "      <td>...</td>\n",
       "      <td>...</td>\n",
       "      <td>...</td>\n",
       "      <td>...</td>\n",
       "      <td>...</td>\n",
       "      <td>...</td>\n",
       "      <td>...</td>\n",
       "      <td>...</td>\n",
       "      <td>...</td>\n",
       "      <td>...</td>\n",
       "      <td>...</td>\n",
       "      <td>...</td>\n",
       "      <td>...</td>\n",
       "      <td>...</td>\n",
       "      <td>...</td>\n",
       "      <td>...</td>\n",
       "      <td>...</td>\n",
       "      <td>...</td>\n",
       "      <td>...</td>\n",
       "      <td>...</td>\n",
       "      <td>...</td>\n",
       "    </tr>\n",
       "    <tr>\n",
       "      <th>4569</th>\n",
       "      <td>11155</td>\n",
       "      <td>'SeriesGroupBy' object has no attribute 'nuniq...</td>\n",
       "      <td>Please add 'nunique_approx' feature for 'Serie...</td>\n",
       "      <td>['needs info']</td>\n",
       "      <td>LeilaGold</td>\n",
       "      <td>NONE</td>\n",
       "      <td>LeilaGold</td>\n",
       "      <td>None</td>\n",
       "      <td>LeilaGold (None)</td>\n",
       "      <td>None</td>\n",
       "      <td>...</td>\n",
       "      <td>2024-06-04T10:55:17Z</td>\n",
       "      <td>0</td>\n",
       "      <td>0</td>\n",
       "      <td>0</td>\n",
       "      <td>0</td>\n",
       "      <td>0</td>\n",
       "      <td>0</td>\n",
       "      <td>0</td>\n",
       "      <td>0</td>\n",
       "      <td>0</td>\n",
       "    </tr>\n",
       "    <tr>\n",
       "      <th>4570</th>\n",
       "      <td>11155</td>\n",
       "      <td>'SeriesGroupBy' object has no attribute 'nuniq...</td>\n",
       "      <td>Please add 'nunique_approx' feature for 'Serie...</td>\n",
       "      <td>['needs info']</td>\n",
       "      <td>LeilaGold</td>\n",
       "      <td>NONE</td>\n",
       "      <td>LeilaGold</td>\n",
       "      <td>None</td>\n",
       "      <td>LeilaGold (None)</td>\n",
       "      <td>None</td>\n",
       "      <td>...</td>\n",
       "      <td>2024-06-04T11:47:53Z</td>\n",
       "      <td>0</td>\n",
       "      <td>0</td>\n",
       "      <td>0</td>\n",
       "      <td>0</td>\n",
       "      <td>0</td>\n",
       "      <td>0</td>\n",
       "      <td>0</td>\n",
       "      <td>0</td>\n",
       "      <td>0</td>\n",
       "    </tr>\n",
       "    <tr>\n",
       "      <th>4571</th>\n",
       "      <td>11155</td>\n",
       "      <td>'SeriesGroupBy' object has no attribute 'nuniq...</td>\n",
       "      <td>Please add 'nunique_approx' feature for 'Serie...</td>\n",
       "      <td>['needs info']</td>\n",
       "      <td>LeilaGold</td>\n",
       "      <td>NONE</td>\n",
       "      <td>LeilaGold</td>\n",
       "      <td>None</td>\n",
       "      <td>LeilaGold (None)</td>\n",
       "      <td>None</td>\n",
       "      <td>...</td>\n",
       "      <td>2024-06-05T15:42:07Z</td>\n",
       "      <td>0</td>\n",
       "      <td>0</td>\n",
       "      <td>0</td>\n",
       "      <td>0</td>\n",
       "      <td>0</td>\n",
       "      <td>0</td>\n",
       "      <td>0</td>\n",
       "      <td>0</td>\n",
       "      <td>0</td>\n",
       "    </tr>\n",
       "    <tr>\n",
       "      <th>4572</th>\n",
       "      <td>11160</td>\n",
       "      <td>Can not process datasets created by the older ...</td>\n",
       "      <td>**Describe the issue**:\\r\\nAfter upgrading the...</td>\n",
       "      <td>['needs triage']</td>\n",
       "      <td>dbalabka</td>\n",
       "      <td>NONE</td>\n",
       "      <td>Dmitry Balabka</td>\n",
       "      <td>Ecentria Group</td>\n",
       "      <td>Dmitry Balabka (Ecentria Group)</td>\n",
       "      <td>dmitry.balabka@gmail.com</td>\n",
       "      <td>...</td>\n",
       "      <td>2024-06-04T08:09:31Z</td>\n",
       "      <td>0</td>\n",
       "      <td>0</td>\n",
       "      <td>0</td>\n",
       "      <td>0</td>\n",
       "      <td>0</td>\n",
       "      <td>0</td>\n",
       "      <td>0</td>\n",
       "      <td>0</td>\n",
       "      <td>0</td>\n",
       "    </tr>\n",
       "    <tr>\n",
       "      <th>4573</th>\n",
       "      <td>11160</td>\n",
       "      <td>Can not process datasets created by the older ...</td>\n",
       "      <td>**Describe the issue**:\\r\\nAfter upgrading the...</td>\n",
       "      <td>['needs triage']</td>\n",
       "      <td>dbalabka</td>\n",
       "      <td>NONE</td>\n",
       "      <td>Dmitry Balabka</td>\n",
       "      <td>Ecentria Group</td>\n",
       "      <td>Dmitry Balabka (Ecentria Group)</td>\n",
       "      <td>dmitry.balabka@gmail.com</td>\n",
       "      <td>...</td>\n",
       "      <td>2024-06-04T08:36:32Z</td>\n",
       "      <td>0</td>\n",
       "      <td>0</td>\n",
       "      <td>0</td>\n",
       "      <td>0</td>\n",
       "      <td>0</td>\n",
       "      <td>0</td>\n",
       "      <td>0</td>\n",
       "      <td>0</td>\n",
       "      <td>0</td>\n",
       "    </tr>\n",
       "  </tbody>\n",
       "</table>\n",
       "<p>4574 rows × 47 columns</p>\n",
       "</div>"
      ],
      "text/plain": [
       "      number                                              title  \\\n",
       "0         72      Create multiple output arrays with map_blocks   \n",
       "1         72      Create multiple output arrays with map_blocks   \n",
       "2         97                              Idea: deferred errors   \n",
       "3         97                              Idea: deferred errors   \n",
       "4         97                              Idea: deferred errors   \n",
       "...      ...                                                ...   \n",
       "4569   11155  'SeriesGroupBy' object has no attribute 'nuniq...   \n",
       "4570   11155  'SeriesGroupBy' object has no attribute 'nuniq...   \n",
       "4571   11155  'SeriesGroupBy' object has no attribute 'nuniq...   \n",
       "4572   11160  Can not process datasets created by the older ...   \n",
       "4573   11160  Can not process datasets created by the older ...   \n",
       "\n",
       "                                             issue_text       label_names  \\\n",
       "0     If a user provides a map function that produce...         ['array']   \n",
       "1     If a user provides a map function that produce...         ['array']   \n",
       "2     Sometimes, it's nice to have defensive checks ...          ['core']   \n",
       "3     Sometimes, it's nice to have defensive checks ...          ['core']   \n",
       "4     Sometimes, it's nice to have defensive checks ...          ['core']   \n",
       "...                                                 ...               ...   \n",
       "4569  Please add 'nunique_approx' feature for 'Serie...    ['needs info']   \n",
       "4570  Please add 'nunique_approx' feature for 'Serie...    ['needs info']   \n",
       "4571  Please add 'nunique_approx' feature for 'Serie...    ['needs info']   \n",
       "4572  **Describe the issue**:\\r\\nAfter upgrading the...  ['needs triage']   \n",
       "4573  **Describe the issue**:\\r\\nAfter upgrading the...  ['needs triage']   \n",
       "\n",
       "     issue_user.login author_association issue_user.login_name  \\\n",
       "0            mrocklin             MEMBER       Matthew Rocklin   \n",
       "1            mrocklin             MEMBER       Matthew Rocklin   \n",
       "2              shoyer             MEMBER         Stephan Hoyer   \n",
       "3              shoyer             MEMBER         Stephan Hoyer   \n",
       "4              shoyer             MEMBER         Stephan Hoyer   \n",
       "...               ...                ...                   ...   \n",
       "4569        LeilaGold               NONE             LeilaGold   \n",
       "4570        LeilaGold               NONE             LeilaGold   \n",
       "4571        LeilaGold               NONE             LeilaGold   \n",
       "4572         dbalabka               NONE        Dmitry Balabka   \n",
       "4573         dbalabka               NONE        Dmitry Balabka   \n",
       "\n",
       "     issue_user.login_company    issue_user.login_name_company  \\\n",
       "0                    @coiled        Matthew Rocklin (@coiled )   \n",
       "1                    @coiled        Matthew Rocklin (@coiled )   \n",
       "2                    @google          Stephan Hoyer (@google )   \n",
       "3                    @google          Stephan Hoyer (@google )   \n",
       "4                    @google          Stephan Hoyer (@google )   \n",
       "...                       ...                              ...   \n",
       "4569                     None                 LeilaGold (None)   \n",
       "4570                     None                 LeilaGold (None)   \n",
       "4571                     None                 LeilaGold (None)   \n",
       "4572           Ecentria Group  Dmitry Balabka (Ecentria Group)   \n",
       "4573           Ecentria Group  Dmitry Balabka (Ecentria Group)   \n",
       "\n",
       "        issue_user.login_email  ...    comment_updated_at  \\\n",
       "0                         None  ...  2019-11-29T08:47:50Z   \n",
       "1                         None  ...  2019-11-29T14:52:21Z   \n",
       "2             shoyer@gmail.com  ...  2015-03-27T14:51:53Z   \n",
       "3             shoyer@gmail.com  ...  2020-06-18T15:52:15Z   \n",
       "4             shoyer@gmail.com  ...  2020-06-18T16:20:34Z   \n",
       "...                        ...  ...                   ...   \n",
       "4569                      None  ...  2024-06-04T10:55:17Z   \n",
       "4570                      None  ...  2024-06-04T11:47:53Z   \n",
       "4571                      None  ...  2024-06-05T15:42:07Z   \n",
       "4572  dmitry.balabka@gmail.com  ...  2024-06-04T08:09:31Z   \n",
       "4573  dmitry.balabka@gmail.com  ...  2024-06-04T08:36:32Z   \n",
       "\n",
       "     comment_reactions.total_count  comment_reactions.+1  \\\n",
       "0                                1                     1   \n",
       "1                                1                     1   \n",
       "2                                0                     0   \n",
       "3                                0                     0   \n",
       "4                                0                     0   \n",
       "...                            ...                   ...   \n",
       "4569                             0                     0   \n",
       "4570                             0                     0   \n",
       "4571                             0                     0   \n",
       "4572                             0                     0   \n",
       "4573                             0                     0   \n",
       "\n",
       "      comment_reactions.-1 comment_reactions.laugh comment_reactions.hooray  \\\n",
       "0                        0                       0                        0   \n",
       "1                        0                       0                        0   \n",
       "2                        0                       0                        0   \n",
       "3                        0                       0                        0   \n",
       "4                        0                       0                        0   \n",
       "...                    ...                     ...                      ...   \n",
       "4569                     0                       0                        0   \n",
       "4570                     0                       0                        0   \n",
       "4571                     0                       0                        0   \n",
       "4572                     0                       0                        0   \n",
       "4573                     0                       0                        0   \n",
       "\n",
       "      comment_reactions.confused  comment_reactions.heart  \\\n",
       "0                              0                        0   \n",
       "1                              0                        0   \n",
       "2                              0                        0   \n",
       "3                              0                        0   \n",
       "4                              0                        0   \n",
       "...                          ...                      ...   \n",
       "4569                           0                        0   \n",
       "4570                           0                        0   \n",
       "4571                           0                        0   \n",
       "4572                           0                        0   \n",
       "4573                           0                        0   \n",
       "\n",
       "      comment_reactions.rocket  comment_reactions.eyes  \n",
       "0                            0                       0  \n",
       "1                            0                       0  \n",
       "2                            0                       0  \n",
       "3                            0                       0  \n",
       "4                            0                       0  \n",
       "...                        ...                     ...  \n",
       "4569                         0                       0  \n",
       "4570                         0                       0  \n",
       "4571                         0                       0  \n",
       "4572                         0                       0  \n",
       "4573                         0                       0  \n",
       "\n",
       "[4574 rows x 47 columns]"
      ]
     },
     "execution_count": 12,
     "metadata": {},
     "output_type": "execute_result"
    }
   ],
   "source": [
    "df"
   ]
  },
  {
   "cell_type": "code",
   "execution_count": 14,
   "metadata": {
    "execution": {
     "iopub.execute_input": "2024-06-07T02:04:48.460455Z",
     "iopub.status.busy": "2024-06-07T02:04:48.459866Z",
     "iopub.status.idle": "2024-06-07T02:04:48.470570Z",
     "shell.execute_reply": "2024-06-07T02:04:48.469387Z",
     "shell.execute_reply.started": "2024-06-07T02:04:48.460411Z"
    }
   },
   "outputs": [
    {
     "data": {
      "text/plain": [
       "0                                        ['array']\n",
       "2                                         ['core']\n",
       "7                                    ['dataframe']\n",
       "35                                   ['scheduler']\n",
       "65                             ['dataframe', 'io']\n",
       "                           ...                    \n",
       "4446                           ['dataframe', 'p3']\n",
       "4456    ['dataframe', 'discussion', 'deprecation']\n",
       "4487      ['dataframe', 'discussion', 'dask-expr']\n",
       "4502               ['dataframe', 'convert-string']\n",
       "4506                           ['dataframe', 'p2']\n",
       "Name: label_names, Length: 183, dtype: object"
      ]
     },
     "execution_count": 14,
     "metadata": {},
     "output_type": "execute_result"
    }
   ],
   "source": [
    "df[\"label_names\"].drop_duplicates()"
   ]
  },
  {
   "cell_type": "code",
   "execution_count": 20,
   "metadata": {
    "execution": {
     "iopub.execute_input": "2024-06-07T02:09:38.300532Z",
     "iopub.status.busy": "2024-06-07T02:09:38.300104Z",
     "iopub.status.idle": "2024-06-07T02:09:38.306597Z",
     "shell.execute_reply": "2024-06-07T02:09:38.305655Z",
     "shell.execute_reply.started": "2024-06-07T02:09:38.300495Z"
    }
   },
   "outputs": [
    {
     "data": {
      "text/plain": [
       "'Create multiple output arrays with map_blocks'"
      ]
     },
     "execution_count": 20,
     "metadata": {},
     "output_type": "execute_result"
    }
   ],
   "source": [
    "df[\"title\"][0]"
   ]
  },
  {
   "cell_type": "code",
   "execution_count": 17,
   "metadata": {
    "execution": {
     "iopub.execute_input": "2024-06-07T02:08:09.702679Z",
     "iopub.status.busy": "2024-06-07T02:08:09.702258Z",
     "iopub.status.idle": "2024-06-07T02:08:20.389295Z",
     "shell.execute_reply": "2024-06-07T02:08:20.388296Z",
     "shell.execute_reply.started": "2024-06-07T02:08:09.702648Z"
    }
   },
   "outputs": [],
   "source": [
    "import pandas as pd\n",
    "import matplotlib.pyplot as plt\n",
    "from openai import OpenAI\n",
    "import os\n",
    "import geopandas as gpd\n",
    "from langchain_experimental.agents.agent_toolkits import (\n",
    "    create_pandas_dataframe_agent,\n",
    ")\n",
    "from langchain_openai import OpenAI as OpenAI_langchain\n",
    "\n",
    "\n",
    "client = OpenAI(\n",
    "    api_key=os.environ.get(\"OPENAI_API_KEY\"),\n",
    ")"
   ]
  },
  {
   "cell_type": "code",
   "execution_count": 18,
   "metadata": {
    "execution": {
     "iopub.execute_input": "2024-06-07T02:08:21.156135Z",
     "iopub.status.busy": "2024-06-07T02:08:21.155150Z",
     "iopub.status.idle": "2024-06-07T02:08:21.161133Z",
     "shell.execute_reply": "2024-06-07T02:08:21.159806Z",
     "shell.execute_reply.started": "2024-06-07T02:08:21.156101Z"
    }
   },
   "outputs": [],
   "source": [
    "def chat_response(content):\n",
    "    response = client.chat.completions.create(\n",
    "        model=\"gpt-3.5-turbo\",\n",
    "        messages=[{\"role\": \"user\", \"content\": content}],\n",
    "    )\n",
    "    return response.choices[0].message.content"
   ]
  },
  {
   "cell_type": "code",
   "execution_count": 22,
   "metadata": {
    "execution": {
     "iopub.execute_input": "2024-06-07T02:09:53.452138Z",
     "iopub.status.busy": "2024-06-07T02:09:53.451742Z",
     "iopub.status.idle": "2024-06-07T02:09:54.469827Z",
     "shell.execute_reply": "2024-06-07T02:09:54.468149Z",
     "shell.execute_reply.started": "2024-06-07T02:09:53.452108Z"
    }
   },
   "outputs": [
    {
     "data": {
      "text/plain": [
       "'Parallelism'"
      ]
     },
     "execution_count": 22,
     "metadata": {},
     "output_type": "execute_result"
    }
   ],
   "source": [
    "chat_response(f\"Give me a one word summary of the following GitHub {repo} issue title: {df['title'][0]}\")"
   ]
  },
  {
   "cell_type": "code",
   "execution_count": 23,
   "metadata": {
    "execution": {
     "iopub.execute_input": "2024-06-07T02:13:23.391913Z",
     "iopub.status.busy": "2024-06-07T02:13:23.391517Z",
     "iopub.status.idle": "2024-06-07T02:13:24.293930Z",
     "shell.execute_reply": "2024-06-07T02:13:24.293127Z",
     "shell.execute_reply.started": "2024-06-07T02:13:23.391885Z"
    }
   },
   "outputs": [
    {
     "data": {
      "text/plain": [
       "'Multiple output arrays'"
      ]
     },
     "execution_count": 23,
     "metadata": {},
     "output_type": "execute_result"
    }
   ],
   "source": [
    "chat_response(f\"Give me a three word summary of the following GitHub {repo} issue title: {df['title'][0]}\")"
   ]
  },
  {
   "cell_type": "code",
   "execution_count": null,
   "metadata": {},
   "outputs": [],
   "source": []
  }
 ],
 "metadata": {
  "kernelspec": {
   "display_name": "Python 3 (ipykernel)",
   "language": "python",
   "name": "python3"
  },
  "language_info": {
   "codemirror_mode": {
    "name": "ipython",
    "version": 3
   },
   "file_extension": ".py",
   "mimetype": "text/x-python",
   "name": "python",
   "nbconvert_exporter": "python",
   "pygments_lexer": "ipython3",
   "version": "3.10.14"
  }
 },
 "nbformat": 4,
 "nbformat_minor": 4
}
